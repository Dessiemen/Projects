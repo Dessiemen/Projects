{
 "cells": [
  {
   "cell_type": "code",
   "execution_count": 1,
   "id": "552820d6",
   "metadata": {},
   "outputs": [],
   "source": [
    "import pandas as pd\n",
    "import numpy as np"
   ]
  },
  {
   "cell_type": "markdown",
   "id": "104009b2-122b-40d7-a9fd-27f0d9a26f01",
   "metadata": {},
   "source": [
    "#### A. Purpose/Objective:\n",
    "\n",
    "<div style = \"text-align: justify\">The purpose of this showcase is to demonstrate proficiency in using the pandas library in Python for data analysis and manipulation by creating a sample dataset. By showcasing various tasks such as creating dataframe, merging dataframe, data cleaning, transforming, filtering ,and plotting through python-pandas programming.\n",
    " <div/>"
   ]
  },
  {
   "cell_type": "markdown",
   "id": "d7250ed4-0294-4b04-b723-f1e883bf2e4e",
   "metadata": {},
   "source": [
    "### B. Table Of Contents\n",
    "\n",
    "#### 1. Creating DataFrame\n",
    " 1.1 Creating Dictionary Lists<br>\n",
    " 1.2 Merging DataFrames\n",
    "#### 2. Data Cleaning\n",
    " 2.1 Removing Null Values<br>\n",
    " 2.2 Removing Unwanted Non-alphanumeric Characters<br>\n",
    " 2.3 Removing Duplicate Values<br>\n",
    " 2.4 Standardizing Inconsistencies<br>\n",
    "#### 3. Data Transformation\n",
    " 3.1 Reseting and Dropping Index<br>\n",
    " 3.2 Converting Column Data Type<br> \n",
    " 3.4 Adding a Calculated Field into a DataFrame<br> \n",
    "### 4. Data Filtering "
   ]
  },
  {
   "cell_type": "markdown",
   "id": "13836e5e-c058-4b59-8590-4ca728860fc5",
   "metadata": {},
   "source": [
    "### 5. Plotting"
   ]
  },
  {
   "cell_type": "markdown",
   "id": "b415dd60-ac4a-4518-8c5c-9c93acef20f8",
   "metadata": {},
   "source": [
    "### C. SHOWCASES"
   ]
  },
  {
   "cell_type": "markdown",
   "id": "2b8b28b2-706f-4fe9-9f52-9e1a38274919",
   "metadata": {},
   "source": [
    "### 1. CREATING DATAFRAME"
   ]
  },
  {
   "cell_type": "markdown",
   "id": "630e4d9b-0e61-4f4e-9aa7-77a7665aafa1",
   "metadata": {},
   "source": [
    "#### 1. 1 Creating Dictionary Lists"
   ]
  },
  {
   "cell_type": "markdown",
   "id": "7ab81068-9c78-403f-afa0-5095857f50b3",
   "metadata": {},
   "source": [
    "**Create a sample student list DataFrames from a dictionary as 'df1' and 'df2'.**"
   ]
  },
  {
   "cell_type": "code",
   "execution_count": 5,
   "id": "073ec405",
   "metadata": {},
   "outputs": [],
   "source": [
    "dict1 = {\"Name\" :[\"Abebe_\",\"Hewot\",\"Belete\",\"Alemu\", \"- Kebede\" ,\"Aster\", \"Tamiru\", \"Abebe\"],\n",
    "        \"Age\":[40,50,35,40, 46,48, 45, 40],\n",
    "        \"Sex\":[\"M\",\"F\",\"M\",\"M\",\"M\",\"F\", \"M\", \"M\"],\n",
    "        \"Department\":['Ma', 'Bi', 'Ch', 'Ph', 'Ma', 'Bi', \"Ma\" , \"Ma\"],\n",
    "         \"Score\":[90,85,70,80,89,65, np.nan, 90]}\n",
    "df1 = pd.DataFrame(dict1)"
   ]
  },
  {
   "cell_type": "code",
   "execution_count": 6,
   "id": "74095497",
   "metadata": {},
   "outputs": [],
   "source": [
    "dict2 = {\"Name\" :[\"Sema\",\"Selam\",\"Belay'\",\"/Tadess\", \"Destaw\" ,\"Bety\", \"Marta\", \"Belay\"],\n",
    "        \"Age\":[40,50,35,40, 46,48, 38, 35],\n",
    "        \"Sex\":[\"Male\",\"Female\",\"Male\",\"Male\",\"Male\",\"Female\", \"Female\",\"Male\"],\n",
    "         \"Department\":['Maths', 'Biology', 'Chemistry', 'Physics','Chemistry', 'Physics', 'Chemistry','Chemistry'],\n",
    "         \n",
    "         \"Score\":[90,95,-70,-80,89,-65, np.nan, -70]}\n",
    "df2 = pd.DataFrame(dict2)"
   ]
  },
  {
   "cell_type": "markdown",
   "id": "829c3e87-7755-4cbc-8121-bd8410ae1b80",
   "metadata": {},
   "source": [
    "#### 1.2 Merging DataFrames"
   ]
  },
  {
   "cell_type": "markdown",
   "id": "29dd3902-ceca-45ff-8aee-f13dcc38430d",
   "metadata": {},
   "source": [
    "**Merge the DataFrames as 'merged_df' and display the merged_df.**"
   ]
  },
  {
   "cell_type": "code",
   "execution_count": 7,
   "id": "90b7675a",
   "metadata": {},
   "outputs": [
    {
     "data": {
      "text/html": [
       "<div>\n",
       "<style scoped>\n",
       "    .dataframe tbody tr th:only-of-type {\n",
       "        vertical-align: middle;\n",
       "    }\n",
       "\n",
       "    .dataframe tbody tr th {\n",
       "        vertical-align: top;\n",
       "    }\n",
       "\n",
       "    .dataframe thead th {\n",
       "        text-align: right;\n",
       "    }\n",
       "</style>\n",
       "<table border=\"1\" class=\"dataframe\">\n",
       "  <thead>\n",
       "    <tr style=\"text-align: right;\">\n",
       "      <th></th>\n",
       "      <th>Name</th>\n",
       "      <th>Age</th>\n",
       "      <th>Sex</th>\n",
       "      <th>Department</th>\n",
       "      <th>Score</th>\n",
       "    </tr>\n",
       "  </thead>\n",
       "  <tbody>\n",
       "    <tr>\n",
       "      <th>0</th>\n",
       "      <td>Abebe_</td>\n",
       "      <td>40</td>\n",
       "      <td>M</td>\n",
       "      <td>Ma</td>\n",
       "      <td>90.0</td>\n",
       "    </tr>\n",
       "    <tr>\n",
       "      <th>1</th>\n",
       "      <td>Hewot</td>\n",
       "      <td>50</td>\n",
       "      <td>F</td>\n",
       "      <td>Bi</td>\n",
       "      <td>85.0</td>\n",
       "    </tr>\n",
       "    <tr>\n",
       "      <th>2</th>\n",
       "      <td>Belete</td>\n",
       "      <td>35</td>\n",
       "      <td>M</td>\n",
       "      <td>Ch</td>\n",
       "      <td>70.0</td>\n",
       "    </tr>\n",
       "    <tr>\n",
       "      <th>3</th>\n",
       "      <td>Alemu</td>\n",
       "      <td>40</td>\n",
       "      <td>M</td>\n",
       "      <td>Ph</td>\n",
       "      <td>80.0</td>\n",
       "    </tr>\n",
       "    <tr>\n",
       "      <th>4</th>\n",
       "      <td>- Kebede</td>\n",
       "      <td>46</td>\n",
       "      <td>M</td>\n",
       "      <td>Ma</td>\n",
       "      <td>89.0</td>\n",
       "    </tr>\n",
       "    <tr>\n",
       "      <th>5</th>\n",
       "      <td>Aster</td>\n",
       "      <td>48</td>\n",
       "      <td>F</td>\n",
       "      <td>Bi</td>\n",
       "      <td>65.0</td>\n",
       "    </tr>\n",
       "    <tr>\n",
       "      <th>6</th>\n",
       "      <td>Tamiru</td>\n",
       "      <td>45</td>\n",
       "      <td>M</td>\n",
       "      <td>Ma</td>\n",
       "      <td>NaN</td>\n",
       "    </tr>\n",
       "    <tr>\n",
       "      <th>7</th>\n",
       "      <td>Abebe</td>\n",
       "      <td>40</td>\n",
       "      <td>M</td>\n",
       "      <td>Ma</td>\n",
       "      <td>90.0</td>\n",
       "    </tr>\n",
       "    <tr>\n",
       "      <th>8</th>\n",
       "      <td>Sema</td>\n",
       "      <td>40</td>\n",
       "      <td>Male</td>\n",
       "      <td>Maths</td>\n",
       "      <td>90.0</td>\n",
       "    </tr>\n",
       "    <tr>\n",
       "      <th>9</th>\n",
       "      <td>Selam</td>\n",
       "      <td>50</td>\n",
       "      <td>Female</td>\n",
       "      <td>Biology</td>\n",
       "      <td>95.0</td>\n",
       "    </tr>\n",
       "    <tr>\n",
       "      <th>10</th>\n",
       "      <td>Belay'</td>\n",
       "      <td>35</td>\n",
       "      <td>Male</td>\n",
       "      <td>Chemistry</td>\n",
       "      <td>-70.0</td>\n",
       "    </tr>\n",
       "    <tr>\n",
       "      <th>11</th>\n",
       "      <td>/Tadess</td>\n",
       "      <td>40</td>\n",
       "      <td>Male</td>\n",
       "      <td>Physics</td>\n",
       "      <td>-80.0</td>\n",
       "    </tr>\n",
       "    <tr>\n",
       "      <th>12</th>\n",
       "      <td>Destaw</td>\n",
       "      <td>46</td>\n",
       "      <td>Male</td>\n",
       "      <td>Chemistry</td>\n",
       "      <td>89.0</td>\n",
       "    </tr>\n",
       "    <tr>\n",
       "      <th>13</th>\n",
       "      <td>Bety</td>\n",
       "      <td>48</td>\n",
       "      <td>Female</td>\n",
       "      <td>Physics</td>\n",
       "      <td>-65.0</td>\n",
       "    </tr>\n",
       "    <tr>\n",
       "      <th>14</th>\n",
       "      <td>Marta</td>\n",
       "      <td>38</td>\n",
       "      <td>Female</td>\n",
       "      <td>Chemistry</td>\n",
       "      <td>NaN</td>\n",
       "    </tr>\n",
       "    <tr>\n",
       "      <th>15</th>\n",
       "      <td>Belay</td>\n",
       "      <td>35</td>\n",
       "      <td>Male</td>\n",
       "      <td>Chemistry</td>\n",
       "      <td>-70.0</td>\n",
       "    </tr>\n",
       "  </tbody>\n",
       "</table>\n",
       "</div>"
      ],
      "text/plain": [
       "        Name  Age     Sex Department  Score\n",
       "0     Abebe_   40       M         Ma   90.0\n",
       "1      Hewot   50       F         Bi   85.0\n",
       "2     Belete   35       M         Ch   70.0\n",
       "3      Alemu   40       M         Ph   80.0\n",
       "4   - Kebede   46       M         Ma   89.0\n",
       "5      Aster   48       F         Bi   65.0\n",
       "6     Tamiru   45       M         Ma    NaN\n",
       "7      Abebe   40       M         Ma   90.0\n",
       "8       Sema   40    Male      Maths   90.0\n",
       "9      Selam   50  Female    Biology   95.0\n",
       "10    Belay'   35    Male  Chemistry  -70.0\n",
       "11   /Tadess   40    Male    Physics  -80.0\n",
       "12    Destaw   46    Male  Chemistry   89.0\n",
       "13      Bety   48  Female    Physics  -65.0\n",
       "14     Marta   38  Female  Chemistry    NaN\n",
       "15     Belay   35    Male  Chemistry  -70.0"
      ]
     },
     "execution_count": 7,
     "metadata": {},
     "output_type": "execute_result"
    }
   ],
   "source": [
    "merged_df = pd.concat([df1, df2], ignore_index=True)\n",
    "merged_df"
   ]
  },
  {
   "cell_type": "markdown",
   "id": "5a0cbdd8-4ea0-4d8e-8a9b-bbd0f5268f64",
   "metadata": {},
   "source": [
    "### 2. DATA CLEANING "
   ]
  },
  {
   "cell_type": "markdown",
   "id": "83d992d0-e3cf-42c5-b513-934076ddea2a",
   "metadata": {},
   "source": [
    "#### 2.1 Removing Null Values"
   ]
  },
  {
   "cell_type": "markdown",
   "id": "ecab2667-b520-4b2c-b341-920e84b533fe",
   "metadata": {},
   "source": [
    "Step1 Check null values."
   ]
  },
  {
   "cell_type": "code",
   "execution_count": 8,
   "id": "ff7aaf6f-91b1-4260-b21a-19eb3696fa0e",
   "metadata": {},
   "outputs": [
    {
     "data": {
      "text/plain": [
       "Name          0\n",
       "Age           0\n",
       "Sex           0\n",
       "Department    0\n",
       "Score         2\n",
       "dtype: int64"
      ]
     },
     "execution_count": 8,
     "metadata": {},
     "output_type": "execute_result"
    }
   ],
   "source": [
    "merged_df.isna().sum()"
   ]
  },
  {
   "cell_type": "markdown",
   "id": "d07ae955-21ea-4856-bece-e8a88b93af26",
   "metadata": {},
   "source": [
    "Step2 Remove rows with null values."
   ]
  },
  {
   "cell_type": "code",
   "execution_count": 9,
   "id": "4aa06bbe-e1a6-4b1d-9e88-597fd31d18b5",
   "metadata": {},
   "outputs": [
    {
     "data": {
      "text/html": [
       "<div>\n",
       "<style scoped>\n",
       "    .dataframe tbody tr th:only-of-type {\n",
       "        vertical-align: middle;\n",
       "    }\n",
       "\n",
       "    .dataframe tbody tr th {\n",
       "        vertical-align: top;\n",
       "    }\n",
       "\n",
       "    .dataframe thead th {\n",
       "        text-align: right;\n",
       "    }\n",
       "</style>\n",
       "<table border=\"1\" class=\"dataframe\">\n",
       "  <thead>\n",
       "    <tr style=\"text-align: right;\">\n",
       "      <th></th>\n",
       "      <th>Name</th>\n",
       "      <th>Age</th>\n",
       "      <th>Sex</th>\n",
       "      <th>Department</th>\n",
       "      <th>Score</th>\n",
       "    </tr>\n",
       "  </thead>\n",
       "  <tbody>\n",
       "    <tr>\n",
       "      <th>0</th>\n",
       "      <td>Abebe_</td>\n",
       "      <td>40</td>\n",
       "      <td>M</td>\n",
       "      <td>Ma</td>\n",
       "      <td>90.0</td>\n",
       "    </tr>\n",
       "    <tr>\n",
       "      <th>1</th>\n",
       "      <td>Hewot</td>\n",
       "      <td>50</td>\n",
       "      <td>F</td>\n",
       "      <td>Bi</td>\n",
       "      <td>85.0</td>\n",
       "    </tr>\n",
       "    <tr>\n",
       "      <th>2</th>\n",
       "      <td>Belete</td>\n",
       "      <td>35</td>\n",
       "      <td>M</td>\n",
       "      <td>Ch</td>\n",
       "      <td>70.0</td>\n",
       "    </tr>\n",
       "    <tr>\n",
       "      <th>3</th>\n",
       "      <td>Alemu</td>\n",
       "      <td>40</td>\n",
       "      <td>M</td>\n",
       "      <td>Ph</td>\n",
       "      <td>80.0</td>\n",
       "    </tr>\n",
       "    <tr>\n",
       "      <th>4</th>\n",
       "      <td>- Kebede</td>\n",
       "      <td>46</td>\n",
       "      <td>M</td>\n",
       "      <td>Ma</td>\n",
       "      <td>89.0</td>\n",
       "    </tr>\n",
       "    <tr>\n",
       "      <th>5</th>\n",
       "      <td>Aster</td>\n",
       "      <td>48</td>\n",
       "      <td>F</td>\n",
       "      <td>Bi</td>\n",
       "      <td>65.0</td>\n",
       "    </tr>\n",
       "    <tr>\n",
       "      <th>7</th>\n",
       "      <td>Abebe</td>\n",
       "      <td>40</td>\n",
       "      <td>M</td>\n",
       "      <td>Ma</td>\n",
       "      <td>90.0</td>\n",
       "    </tr>\n",
       "    <tr>\n",
       "      <th>8</th>\n",
       "      <td>Sema</td>\n",
       "      <td>40</td>\n",
       "      <td>Male</td>\n",
       "      <td>Maths</td>\n",
       "      <td>90.0</td>\n",
       "    </tr>\n",
       "    <tr>\n",
       "      <th>9</th>\n",
       "      <td>Selam</td>\n",
       "      <td>50</td>\n",
       "      <td>Female</td>\n",
       "      <td>Biology</td>\n",
       "      <td>95.0</td>\n",
       "    </tr>\n",
       "    <tr>\n",
       "      <th>10</th>\n",
       "      <td>Belay'</td>\n",
       "      <td>35</td>\n",
       "      <td>Male</td>\n",
       "      <td>Chemistry</td>\n",
       "      <td>-70.0</td>\n",
       "    </tr>\n",
       "    <tr>\n",
       "      <th>11</th>\n",
       "      <td>/Tadess</td>\n",
       "      <td>40</td>\n",
       "      <td>Male</td>\n",
       "      <td>Physics</td>\n",
       "      <td>-80.0</td>\n",
       "    </tr>\n",
       "    <tr>\n",
       "      <th>12</th>\n",
       "      <td>Destaw</td>\n",
       "      <td>46</td>\n",
       "      <td>Male</td>\n",
       "      <td>Chemistry</td>\n",
       "      <td>89.0</td>\n",
       "    </tr>\n",
       "    <tr>\n",
       "      <th>13</th>\n",
       "      <td>Bety</td>\n",
       "      <td>48</td>\n",
       "      <td>Female</td>\n",
       "      <td>Physics</td>\n",
       "      <td>-65.0</td>\n",
       "    </tr>\n",
       "    <tr>\n",
       "      <th>15</th>\n",
       "      <td>Belay</td>\n",
       "      <td>35</td>\n",
       "      <td>Male</td>\n",
       "      <td>Chemistry</td>\n",
       "      <td>-70.0</td>\n",
       "    </tr>\n",
       "  </tbody>\n",
       "</table>\n",
       "</div>"
      ],
      "text/plain": [
       "        Name  Age     Sex Department  Score\n",
       "0     Abebe_   40       M         Ma   90.0\n",
       "1      Hewot   50       F         Bi   85.0\n",
       "2     Belete   35       M         Ch   70.0\n",
       "3      Alemu   40       M         Ph   80.0\n",
       "4   - Kebede   46       M         Ma   89.0\n",
       "5      Aster   48       F         Bi   65.0\n",
       "7      Abebe   40       M         Ma   90.0\n",
       "8       Sema   40    Male      Maths   90.0\n",
       "9      Selam   50  Female    Biology   95.0\n",
       "10    Belay'   35    Male  Chemistry  -70.0\n",
       "11   /Tadess   40    Male    Physics  -80.0\n",
       "12    Destaw   46    Male  Chemistry   89.0\n",
       "13      Bety   48  Female    Physics  -65.0\n",
       "15     Belay   35    Male  Chemistry  -70.0"
      ]
     },
     "execution_count": 9,
     "metadata": {},
     "output_type": "execute_result"
    }
   ],
   "source": [
    "merged_df.dropna(subset = ['Score'], inplace = True)\n",
    "\n",
    "merged_df"
   ]
  },
  {
   "cell_type": "markdown",
   "id": "f2d1d207-4a20-4cfe-a7fe-8bc82394cfaf",
   "metadata": {},
   "source": [
    "#### 2.2 Removing Unwanted Non-alphanumeric Characters"
   ]
  },
  {
   "cell_type": "markdown",
   "id": "855115fb-9c47-4e9f-b739-f877e687fc49",
   "metadata": {},
   "source": [
    "Clean leading/trailing whitespace, underscores, hyphens, backslashes, and single quotes at columns 'Name' and 'Score' in 'merged_df'."
   ]
  },
  {
   "cell_type": "code",
   "execution_count": 10,
   "id": "a172bea0-54c2-4eca-a542-aeab99f16c09",
   "metadata": {},
   "outputs": [
    {
     "data": {
      "text/html": [
       "<div>\n",
       "<style scoped>\n",
       "    .dataframe tbody tr th:only-of-type {\n",
       "        vertical-align: middle;\n",
       "    }\n",
       "\n",
       "    .dataframe tbody tr th {\n",
       "        vertical-align: top;\n",
       "    }\n",
       "\n",
       "    .dataframe thead th {\n",
       "        text-align: right;\n",
       "    }\n",
       "</style>\n",
       "<table border=\"1\" class=\"dataframe\">\n",
       "  <thead>\n",
       "    <tr style=\"text-align: right;\">\n",
       "      <th></th>\n",
       "      <th>Name</th>\n",
       "      <th>Age</th>\n",
       "      <th>Sex</th>\n",
       "      <th>Department</th>\n",
       "      <th>Score</th>\n",
       "    </tr>\n",
       "  </thead>\n",
       "  <tbody>\n",
       "    <tr>\n",
       "      <th>0</th>\n",
       "      <td>Abebe</td>\n",
       "      <td>40</td>\n",
       "      <td>M</td>\n",
       "      <td>Ma</td>\n",
       "      <td>90.0</td>\n",
       "    </tr>\n",
       "    <tr>\n",
       "      <th>1</th>\n",
       "      <td>Hewot</td>\n",
       "      <td>50</td>\n",
       "      <td>F</td>\n",
       "      <td>Bi</td>\n",
       "      <td>85.0</td>\n",
       "    </tr>\n",
       "    <tr>\n",
       "      <th>2</th>\n",
       "      <td>Belete</td>\n",
       "      <td>35</td>\n",
       "      <td>M</td>\n",
       "      <td>Ch</td>\n",
       "      <td>70.0</td>\n",
       "    </tr>\n",
       "    <tr>\n",
       "      <th>3</th>\n",
       "      <td>Alemu</td>\n",
       "      <td>40</td>\n",
       "      <td>M</td>\n",
       "      <td>Ph</td>\n",
       "      <td>80.0</td>\n",
       "    </tr>\n",
       "    <tr>\n",
       "      <th>4</th>\n",
       "      <td>Kebede</td>\n",
       "      <td>46</td>\n",
       "      <td>M</td>\n",
       "      <td>Ma</td>\n",
       "      <td>89.0</td>\n",
       "    </tr>\n",
       "    <tr>\n",
       "      <th>5</th>\n",
       "      <td>Aster</td>\n",
       "      <td>48</td>\n",
       "      <td>F</td>\n",
       "      <td>Bi</td>\n",
       "      <td>65.0</td>\n",
       "    </tr>\n",
       "    <tr>\n",
       "      <th>7</th>\n",
       "      <td>Abebe</td>\n",
       "      <td>40</td>\n",
       "      <td>M</td>\n",
       "      <td>Ma</td>\n",
       "      <td>90.0</td>\n",
       "    </tr>\n",
       "    <tr>\n",
       "      <th>8</th>\n",
       "      <td>Sema</td>\n",
       "      <td>40</td>\n",
       "      <td>Male</td>\n",
       "      <td>Maths</td>\n",
       "      <td>90.0</td>\n",
       "    </tr>\n",
       "    <tr>\n",
       "      <th>9</th>\n",
       "      <td>Selam</td>\n",
       "      <td>50</td>\n",
       "      <td>Female</td>\n",
       "      <td>Biology</td>\n",
       "      <td>95.0</td>\n",
       "    </tr>\n",
       "    <tr>\n",
       "      <th>10</th>\n",
       "      <td>Belay</td>\n",
       "      <td>35</td>\n",
       "      <td>Male</td>\n",
       "      <td>Chemistry</td>\n",
       "      <td>70.0</td>\n",
       "    </tr>\n",
       "    <tr>\n",
       "      <th>11</th>\n",
       "      <td>Tadess</td>\n",
       "      <td>40</td>\n",
       "      <td>Male</td>\n",
       "      <td>Physics</td>\n",
       "      <td>80.0</td>\n",
       "    </tr>\n",
       "    <tr>\n",
       "      <th>12</th>\n",
       "      <td>Destaw</td>\n",
       "      <td>46</td>\n",
       "      <td>Male</td>\n",
       "      <td>Chemistry</td>\n",
       "      <td>89.0</td>\n",
       "    </tr>\n",
       "    <tr>\n",
       "      <th>13</th>\n",
       "      <td>Bety</td>\n",
       "      <td>48</td>\n",
       "      <td>Female</td>\n",
       "      <td>Physics</td>\n",
       "      <td>65.0</td>\n",
       "    </tr>\n",
       "    <tr>\n",
       "      <th>15</th>\n",
       "      <td>Belay</td>\n",
       "      <td>35</td>\n",
       "      <td>Male</td>\n",
       "      <td>Chemistry</td>\n",
       "      <td>70.0</td>\n",
       "    </tr>\n",
       "  </tbody>\n",
       "</table>\n",
       "</div>"
      ],
      "text/plain": [
       "       Name  Age     Sex Department Score\n",
       "0     Abebe   40       M         Ma  90.0\n",
       "1     Hewot   50       F         Bi  85.0\n",
       "2    Belete   35       M         Ch  70.0\n",
       "3     Alemu   40       M         Ph  80.0\n",
       "4    Kebede   46       M         Ma  89.0\n",
       "5     Aster   48       F         Bi  65.0\n",
       "7     Abebe   40       M         Ma  90.0\n",
       "8      Sema   40    Male      Maths  90.0\n",
       "9     Selam   50  Female    Biology  95.0\n",
       "10    Belay   35    Male  Chemistry  70.0\n",
       "11   Tadess   40    Male    Physics  80.0\n",
       "12   Destaw   46    Male  Chemistry  89.0\n",
       "13     Bety   48  Female    Physics  65.0\n",
       "15    Belay   35    Male  Chemistry  70.0"
      ]
     },
     "execution_count": 10,
     "metadata": {},
     "output_type": "execute_result"
    }
   ],
   "source": [
    "merged_df['Name'] = merged_df['Name'].str.strip()\n",
    "merged_df['Name'] = merged_df['Name'].str.strip(\"-'_/\")\n",
    "# convert column \"Score\" data type to string data type and then remove hyphens using str. strip method\n",
    "merged_df['Score'] = merged_df['Score'].astype(str).str.strip('-')\n",
    "\n",
    "\n",
    "\n",
    "merged_df"
   ]
  },
  {
   "cell_type": "markdown",
   "id": "6df7136e-b8d0-460e-a0f0-5f99d12d77e4",
   "metadata": {},
   "source": [
    "#### 2.3 Removing Duplicate Values"
   ]
  },
  {
   "cell_type": "markdown",
   "id": "e70d7beb-2ff5-4256-9009-9cdc24ae73a3",
   "metadata": {},
   "source": [
    "Step1 Check duplicate values."
   ]
  },
  {
   "cell_type": "code",
   "execution_count": 11,
   "id": "4c16f8fe-ca16-4cc7-9e6f-5a24bbe00562",
   "metadata": {},
   "outputs": [
    {
     "data": {
      "text/html": [
       "<div>\n",
       "<style scoped>\n",
       "    .dataframe tbody tr th:only-of-type {\n",
       "        vertical-align: middle;\n",
       "    }\n",
       "\n",
       "    .dataframe tbody tr th {\n",
       "        vertical-align: top;\n",
       "    }\n",
       "\n",
       "    .dataframe thead th {\n",
       "        text-align: right;\n",
       "    }\n",
       "</style>\n",
       "<table border=\"1\" class=\"dataframe\">\n",
       "  <thead>\n",
       "    <tr style=\"text-align: right;\">\n",
       "      <th></th>\n",
       "      <th>Name</th>\n",
       "      <th>Age</th>\n",
       "      <th>Sex</th>\n",
       "      <th>Department</th>\n",
       "      <th>Score</th>\n",
       "    </tr>\n",
       "  </thead>\n",
       "  <tbody>\n",
       "    <tr>\n",
       "      <th>7</th>\n",
       "      <td>Abebe</td>\n",
       "      <td>40</td>\n",
       "      <td>M</td>\n",
       "      <td>Ma</td>\n",
       "      <td>90.0</td>\n",
       "    </tr>\n",
       "    <tr>\n",
       "      <th>15</th>\n",
       "      <td>Belay</td>\n",
       "      <td>35</td>\n",
       "      <td>Male</td>\n",
       "      <td>Chemistry</td>\n",
       "      <td>70.0</td>\n",
       "    </tr>\n",
       "  </tbody>\n",
       "</table>\n",
       "</div>"
      ],
      "text/plain": [
       "     Name  Age   Sex Department Score\n",
       "7   Abebe   40     M         Ma  90.0\n",
       "15  Belay   35  Male  Chemistry  70.0"
      ]
     },
     "execution_count": 11,
     "metadata": {},
     "output_type": "execute_result"
    }
   ],
   "source": [
    "merged_df[merged_df.duplicated()]"
   ]
  },
  {
   "cell_type": "markdown",
   "id": "938caef4-c6e9-4f53-a5e6-ddc825f9abf5",
   "metadata": {},
   "source": [
    "Step2 Remove duplicate values."
   ]
  },
  {
   "cell_type": "code",
   "execution_count": 12,
   "id": "2b37f0b8-a104-4c4a-9d44-64e0d5472cc7",
   "metadata": {},
   "outputs": [
    {
     "data": {
      "text/html": [
       "<div>\n",
       "<style scoped>\n",
       "    .dataframe tbody tr th:only-of-type {\n",
       "        vertical-align: middle;\n",
       "    }\n",
       "\n",
       "    .dataframe tbody tr th {\n",
       "        vertical-align: top;\n",
       "    }\n",
       "\n",
       "    .dataframe thead th {\n",
       "        text-align: right;\n",
       "    }\n",
       "</style>\n",
       "<table border=\"1\" class=\"dataframe\">\n",
       "  <thead>\n",
       "    <tr style=\"text-align: right;\">\n",
       "      <th></th>\n",
       "      <th>Name</th>\n",
       "      <th>Age</th>\n",
       "      <th>Sex</th>\n",
       "      <th>Department</th>\n",
       "      <th>Score</th>\n",
       "    </tr>\n",
       "  </thead>\n",
       "  <tbody>\n",
       "    <tr>\n",
       "      <th>0</th>\n",
       "      <td>Abebe</td>\n",
       "      <td>40</td>\n",
       "      <td>M</td>\n",
       "      <td>Ma</td>\n",
       "      <td>90.0</td>\n",
       "    </tr>\n",
       "    <tr>\n",
       "      <th>1</th>\n",
       "      <td>Hewot</td>\n",
       "      <td>50</td>\n",
       "      <td>F</td>\n",
       "      <td>Bi</td>\n",
       "      <td>85.0</td>\n",
       "    </tr>\n",
       "    <tr>\n",
       "      <th>2</th>\n",
       "      <td>Belete</td>\n",
       "      <td>35</td>\n",
       "      <td>M</td>\n",
       "      <td>Ch</td>\n",
       "      <td>70.0</td>\n",
       "    </tr>\n",
       "    <tr>\n",
       "      <th>3</th>\n",
       "      <td>Alemu</td>\n",
       "      <td>40</td>\n",
       "      <td>M</td>\n",
       "      <td>Ph</td>\n",
       "      <td>80.0</td>\n",
       "    </tr>\n",
       "    <tr>\n",
       "      <th>4</th>\n",
       "      <td>Kebede</td>\n",
       "      <td>46</td>\n",
       "      <td>M</td>\n",
       "      <td>Ma</td>\n",
       "      <td>89.0</td>\n",
       "    </tr>\n",
       "    <tr>\n",
       "      <th>5</th>\n",
       "      <td>Aster</td>\n",
       "      <td>48</td>\n",
       "      <td>F</td>\n",
       "      <td>Bi</td>\n",
       "      <td>65.0</td>\n",
       "    </tr>\n",
       "    <tr>\n",
       "      <th>8</th>\n",
       "      <td>Sema</td>\n",
       "      <td>40</td>\n",
       "      <td>Male</td>\n",
       "      <td>Maths</td>\n",
       "      <td>90.0</td>\n",
       "    </tr>\n",
       "    <tr>\n",
       "      <th>9</th>\n",
       "      <td>Selam</td>\n",
       "      <td>50</td>\n",
       "      <td>Female</td>\n",
       "      <td>Biology</td>\n",
       "      <td>95.0</td>\n",
       "    </tr>\n",
       "    <tr>\n",
       "      <th>10</th>\n",
       "      <td>Belay</td>\n",
       "      <td>35</td>\n",
       "      <td>Male</td>\n",
       "      <td>Chemistry</td>\n",
       "      <td>70.0</td>\n",
       "    </tr>\n",
       "    <tr>\n",
       "      <th>11</th>\n",
       "      <td>Tadess</td>\n",
       "      <td>40</td>\n",
       "      <td>Male</td>\n",
       "      <td>Physics</td>\n",
       "      <td>80.0</td>\n",
       "    </tr>\n",
       "    <tr>\n",
       "      <th>12</th>\n",
       "      <td>Destaw</td>\n",
       "      <td>46</td>\n",
       "      <td>Male</td>\n",
       "      <td>Chemistry</td>\n",
       "      <td>89.0</td>\n",
       "    </tr>\n",
       "    <tr>\n",
       "      <th>13</th>\n",
       "      <td>Bety</td>\n",
       "      <td>48</td>\n",
       "      <td>Female</td>\n",
       "      <td>Physics</td>\n",
       "      <td>65.0</td>\n",
       "    </tr>\n",
       "  </tbody>\n",
       "</table>\n",
       "</div>"
      ],
      "text/plain": [
       "       Name  Age     Sex Department Score\n",
       "0     Abebe   40       M         Ma  90.0\n",
       "1     Hewot   50       F         Bi  85.0\n",
       "2    Belete   35       M         Ch  70.0\n",
       "3     Alemu   40       M         Ph  80.0\n",
       "4    Kebede   46       M         Ma  89.0\n",
       "5     Aster   48       F         Bi  65.0\n",
       "8      Sema   40    Male      Maths  90.0\n",
       "9     Selam   50  Female    Biology  95.0\n",
       "10    Belay   35    Male  Chemistry  70.0\n",
       "11   Tadess   40    Male    Physics  80.0\n",
       "12   Destaw   46    Male  Chemistry  89.0\n",
       "13     Bety   48  Female    Physics  65.0"
      ]
     },
     "execution_count": 12,
     "metadata": {},
     "output_type": "execute_result"
    }
   ],
   "source": [
    "merged_df.drop_duplicates(inplace = True)\n",
    "merged_df"
   ]
  },
  {
   "cell_type": "markdown",
   "id": "f3a51faf-b5fb-499e-88b3-0e7bcc7b5b85",
   "metadata": {},
   "source": [
    "#### 2.4 Standardizing Inconsistencies"
   ]
  },
  {
   "cell_type": "markdown",
   "id": "ec222a47-59d6-4ded-bb06-45be38d98c2e",
   "metadata": {},
   "source": [
    "Standardize the columns 'Sex' and 'Department' in 'merged_df'."
   ]
  },
  {
   "cell_type": "code",
   "execution_count": 13,
   "id": "77f60aed-1ebc-4529-ab89-84f60a8c31f4",
   "metadata": {},
   "outputs": [
    {
     "data": {
      "text/html": [
       "<div>\n",
       "<style scoped>\n",
       "    .dataframe tbody tr th:only-of-type {\n",
       "        vertical-align: middle;\n",
       "    }\n",
       "\n",
       "    .dataframe tbody tr th {\n",
       "        vertical-align: top;\n",
       "    }\n",
       "\n",
       "    .dataframe thead th {\n",
       "        text-align: right;\n",
       "    }\n",
       "</style>\n",
       "<table border=\"1\" class=\"dataframe\">\n",
       "  <thead>\n",
       "    <tr style=\"text-align: right;\">\n",
       "      <th></th>\n",
       "      <th>Name</th>\n",
       "      <th>Age</th>\n",
       "      <th>Sex</th>\n",
       "      <th>Department</th>\n",
       "      <th>Score</th>\n",
       "    </tr>\n",
       "  </thead>\n",
       "  <tbody>\n",
       "    <tr>\n",
       "      <th>0</th>\n",
       "      <td>Abebe</td>\n",
       "      <td>40</td>\n",
       "      <td>M</td>\n",
       "      <td>Ma</td>\n",
       "      <td>90.0</td>\n",
       "    </tr>\n",
       "    <tr>\n",
       "      <th>1</th>\n",
       "      <td>Hewot</td>\n",
       "      <td>50</td>\n",
       "      <td>F</td>\n",
       "      <td>Bi</td>\n",
       "      <td>85.0</td>\n",
       "    </tr>\n",
       "    <tr>\n",
       "      <th>2</th>\n",
       "      <td>Belete</td>\n",
       "      <td>35</td>\n",
       "      <td>M</td>\n",
       "      <td>Ch</td>\n",
       "      <td>70.0</td>\n",
       "    </tr>\n",
       "    <tr>\n",
       "      <th>3</th>\n",
       "      <td>Alemu</td>\n",
       "      <td>40</td>\n",
       "      <td>M</td>\n",
       "      <td>Ph</td>\n",
       "      <td>80.0</td>\n",
       "    </tr>\n",
       "    <tr>\n",
       "      <th>4</th>\n",
       "      <td>Kebede</td>\n",
       "      <td>46</td>\n",
       "      <td>M</td>\n",
       "      <td>Ma</td>\n",
       "      <td>89.0</td>\n",
       "    </tr>\n",
       "    <tr>\n",
       "      <th>5</th>\n",
       "      <td>Aster</td>\n",
       "      <td>48</td>\n",
       "      <td>F</td>\n",
       "      <td>Bi</td>\n",
       "      <td>65.0</td>\n",
       "    </tr>\n",
       "    <tr>\n",
       "      <th>8</th>\n",
       "      <td>Sema</td>\n",
       "      <td>40</td>\n",
       "      <td>M</td>\n",
       "      <td>Ma</td>\n",
       "      <td>90.0</td>\n",
       "    </tr>\n",
       "    <tr>\n",
       "      <th>9</th>\n",
       "      <td>Selam</td>\n",
       "      <td>50</td>\n",
       "      <td>F</td>\n",
       "      <td>Bi</td>\n",
       "      <td>95.0</td>\n",
       "    </tr>\n",
       "    <tr>\n",
       "      <th>10</th>\n",
       "      <td>Belay</td>\n",
       "      <td>35</td>\n",
       "      <td>M</td>\n",
       "      <td>Ch</td>\n",
       "      <td>70.0</td>\n",
       "    </tr>\n",
       "    <tr>\n",
       "      <th>11</th>\n",
       "      <td>Tadess</td>\n",
       "      <td>40</td>\n",
       "      <td>M</td>\n",
       "      <td>Ph</td>\n",
       "      <td>80.0</td>\n",
       "    </tr>\n",
       "    <tr>\n",
       "      <th>12</th>\n",
       "      <td>Destaw</td>\n",
       "      <td>46</td>\n",
       "      <td>M</td>\n",
       "      <td>Ch</td>\n",
       "      <td>89.0</td>\n",
       "    </tr>\n",
       "    <tr>\n",
       "      <th>13</th>\n",
       "      <td>Bety</td>\n",
       "      <td>48</td>\n",
       "      <td>F</td>\n",
       "      <td>Ph</td>\n",
       "      <td>65.0</td>\n",
       "    </tr>\n",
       "  </tbody>\n",
       "</table>\n",
       "</div>"
      ],
      "text/plain": [
       "       Name  Age Sex Department Score\n",
       "0     Abebe   40   M         Ma  90.0\n",
       "1     Hewot   50   F         Bi  85.0\n",
       "2    Belete   35   M         Ch  70.0\n",
       "3     Alemu   40   M         Ph  80.0\n",
       "4    Kebede   46   M         Ma  89.0\n",
       "5     Aster   48   F         Bi  65.0\n",
       "8      Sema   40   M         Ma  90.0\n",
       "9     Selam   50   F         Bi  95.0\n",
       "10    Belay   35   M         Ch  70.0\n",
       "11   Tadess   40   M         Ph  80.0\n",
       "12   Destaw   46   M         Ch  89.0\n",
       "13     Bety   48   F         Ph  65.0"
      ]
     },
     "execution_count": 13,
     "metadata": {},
     "output_type": "execute_result"
    }
   ],
   "source": [
    "\n",
    "# Mapping for cleaning the 'Sex' column\n",
    "sex_mapping = {'Male': 'M', 'Female': 'F'}\n",
    "merged_df['Sex'] = merged_df['Sex'].map(sex_mapping).fillna(merged_df['Sex'])\n",
    "\n",
    "# Mapping for cleaning the 'Department' column\n",
    "department_mapping = {\n",
    "    'Maths': 'Ma',\n",
    "    'Biology': 'Bi',\n",
    "    'Chemistry': 'Ch',\n",
    "    'Physics': 'Ph'\n",
    "}\n",
    "merged_df['Department'] = merged_df['Department'].map(department_mapping).fillna(merged_df['Department'])\n",
    "\n",
    "merged_df\n"
   ]
  },
  {
   "cell_type": "markdown",
   "id": "22d61b13-71f0-4540-85b7-99ae6a6dbcc1",
   "metadata": {},
   "source": [
    "### 3. DATA TRANSFORMATION"
   ]
  },
  {
   "cell_type": "markdown",
   "id": "7b4d33aa-d754-4004-aa64-01218242b816",
   "metadata": {},
   "source": [
    "#### 3.1 Reseting and Dropping Index"
   ]
  },
  {
   "cell_type": "code",
   "execution_count": 14,
   "id": "428eece0-ffbe-4769-9c68-2c0a3ca83db3",
   "metadata": {},
   "outputs": [
    {
     "data": {
      "text/html": [
       "<div>\n",
       "<style scoped>\n",
       "    .dataframe tbody tr th:only-of-type {\n",
       "        vertical-align: middle;\n",
       "    }\n",
       "\n",
       "    .dataframe tbody tr th {\n",
       "        vertical-align: top;\n",
       "    }\n",
       "\n",
       "    .dataframe thead th {\n",
       "        text-align: right;\n",
       "    }\n",
       "</style>\n",
       "<table border=\"1\" class=\"dataframe\">\n",
       "  <thead>\n",
       "    <tr style=\"text-align: right;\">\n",
       "      <th></th>\n",
       "      <th>Name</th>\n",
       "      <th>Age</th>\n",
       "      <th>Sex</th>\n",
       "      <th>Department</th>\n",
       "      <th>Score</th>\n",
       "    </tr>\n",
       "  </thead>\n",
       "  <tbody>\n",
       "    <tr>\n",
       "      <th>0</th>\n",
       "      <td>Abebe</td>\n",
       "      <td>40</td>\n",
       "      <td>M</td>\n",
       "      <td>Ma</td>\n",
       "      <td>90.0</td>\n",
       "    </tr>\n",
       "    <tr>\n",
       "      <th>1</th>\n",
       "      <td>Hewot</td>\n",
       "      <td>50</td>\n",
       "      <td>F</td>\n",
       "      <td>Bi</td>\n",
       "      <td>85.0</td>\n",
       "    </tr>\n",
       "    <tr>\n",
       "      <th>2</th>\n",
       "      <td>Belete</td>\n",
       "      <td>35</td>\n",
       "      <td>M</td>\n",
       "      <td>Ch</td>\n",
       "      <td>70.0</td>\n",
       "    </tr>\n",
       "    <tr>\n",
       "      <th>3</th>\n",
       "      <td>Alemu</td>\n",
       "      <td>40</td>\n",
       "      <td>M</td>\n",
       "      <td>Ph</td>\n",
       "      <td>80.0</td>\n",
       "    </tr>\n",
       "    <tr>\n",
       "      <th>4</th>\n",
       "      <td>Kebede</td>\n",
       "      <td>46</td>\n",
       "      <td>M</td>\n",
       "      <td>Ma</td>\n",
       "      <td>89.0</td>\n",
       "    </tr>\n",
       "    <tr>\n",
       "      <th>5</th>\n",
       "      <td>Aster</td>\n",
       "      <td>48</td>\n",
       "      <td>F</td>\n",
       "      <td>Bi</td>\n",
       "      <td>65.0</td>\n",
       "    </tr>\n",
       "    <tr>\n",
       "      <th>6</th>\n",
       "      <td>Sema</td>\n",
       "      <td>40</td>\n",
       "      <td>M</td>\n",
       "      <td>Ma</td>\n",
       "      <td>90.0</td>\n",
       "    </tr>\n",
       "    <tr>\n",
       "      <th>7</th>\n",
       "      <td>Selam</td>\n",
       "      <td>50</td>\n",
       "      <td>F</td>\n",
       "      <td>Bi</td>\n",
       "      <td>95.0</td>\n",
       "    </tr>\n",
       "    <tr>\n",
       "      <th>8</th>\n",
       "      <td>Belay</td>\n",
       "      <td>35</td>\n",
       "      <td>M</td>\n",
       "      <td>Ch</td>\n",
       "      <td>70.0</td>\n",
       "    </tr>\n",
       "    <tr>\n",
       "      <th>9</th>\n",
       "      <td>Tadess</td>\n",
       "      <td>40</td>\n",
       "      <td>M</td>\n",
       "      <td>Ph</td>\n",
       "      <td>80.0</td>\n",
       "    </tr>\n",
       "    <tr>\n",
       "      <th>10</th>\n",
       "      <td>Destaw</td>\n",
       "      <td>46</td>\n",
       "      <td>M</td>\n",
       "      <td>Ch</td>\n",
       "      <td>89.0</td>\n",
       "    </tr>\n",
       "    <tr>\n",
       "      <th>11</th>\n",
       "      <td>Bety</td>\n",
       "      <td>48</td>\n",
       "      <td>F</td>\n",
       "      <td>Ph</td>\n",
       "      <td>65.0</td>\n",
       "    </tr>\n",
       "  </tbody>\n",
       "</table>\n",
       "</div>"
      ],
      "text/plain": [
       "       Name  Age Sex Department Score\n",
       "0     Abebe   40   M         Ma  90.0\n",
       "1     Hewot   50   F         Bi  85.0\n",
       "2    Belete   35   M         Ch  70.0\n",
       "3     Alemu   40   M         Ph  80.0\n",
       "4    Kebede   46   M         Ma  89.0\n",
       "5     Aster   48   F         Bi  65.0\n",
       "6      Sema   40   M         Ma  90.0\n",
       "7     Selam   50   F         Bi  95.0\n",
       "8     Belay   35   M         Ch  70.0\n",
       "9    Tadess   40   M         Ph  80.0\n",
       "10   Destaw   46   M         Ch  89.0\n",
       "11     Bety   48   F         Ph  65.0"
      ]
     },
     "execution_count": 14,
     "metadata": {},
     "output_type": "execute_result"
    }
   ],
   "source": [
    "merged_df.reset_index(drop=True, inplace=True)\n",
    "merged_df"
   ]
  },
  {
   "cell_type": "markdown",
   "id": "be94f19f-0f88-45d2-a0d5-81cad5827fa2",
   "metadata": {},
   "source": [
    "#### 3.2 Converting Column Data Type "
   ]
  },
  {
   "cell_type": "markdown",
   "id": "452d8d02-6287-4f07-8e9d-cb0075be3887",
   "metadata": {},
   "source": [
    "Check 'merged_df' columns data types."
   ]
  },
  {
   "cell_type": "code",
   "execution_count": 15,
   "id": "de5d5ac0-44b2-4873-af80-da5ab38d3ffe",
   "metadata": {},
   "outputs": [
    {
     "data": {
      "text/plain": [
       "Name          object\n",
       "Age            int64\n",
       "Sex           object\n",
       "Department    object\n",
       "Score         object\n",
       "dtype: object"
      ]
     },
     "execution_count": 15,
     "metadata": {},
     "output_type": "execute_result"
    }
   ],
   "source": [
    "merged_df.dtypes"
   ]
  },
  {
   "cell_type": "markdown",
   "id": "81c1b3bc-3253-4c9b-b61e-0312d296ac7d",
   "metadata": {},
   "source": [
    "convert the 'Score' column data type from object data type to 'int64' data type."
   ]
  },
  {
   "cell_type": "code",
   "execution_count": 16,
   "id": "3afcdd2f-b9cd-4447-a33b-8d95b14571c9",
   "metadata": {},
   "outputs": [],
   "source": [
    "#first convert the object data type to float data type and then convert the float data type to int data type\n",
    "#since the object data type contains float numbers we can't convert it directly to int data type\n",
    "merged_df['Score'] = merged_df['Score'].astype(float).astype('Int64')\n"
   ]
  },
  {
   "cell_type": "markdown",
   "id": "c11be443-e8ae-4d2a-9acd-3b56420bc336",
   "metadata": {},
   "source": [
    "Check the converted data type of column 'Score'"
   ]
  },
  {
   "cell_type": "code",
   "execution_count": 17,
   "id": "e8c8692c-b4ee-4351-b2f4-98fa4ead5c21",
   "metadata": {},
   "outputs": [
    {
     "data": {
      "text/plain": [
       "Int64Dtype()"
      ]
     },
     "execution_count": 17,
     "metadata": {},
     "output_type": "execute_result"
    }
   ],
   "source": [
    "merged_df['Score'].dtype"
   ]
  },
  {
   "attachments": {},
   "cell_type": "markdown",
   "id": "88b93305-5ded-4275-863a-5fbf950bfba4",
   "metadata": {},
   "source": [
    "\n",
    "#### 3.4 Adding a Calculated Field into a DataFrame"
   ]
  },
  {
   "cell_type": "markdown",
   "id": "15fa5a39-3f6b-4bee-99ba-e8f3c6b4a356",
   "metadata": {},
   "source": [
    "Assign grades to a new column 'Grade' derived from the 'Score' column."
   ]
  },
  {
   "cell_type": "code",
   "execution_count": 18,
   "id": "6f14f6a7-92ee-405a-aea7-2368d52fa52e",
   "metadata": {},
   "outputs": [
    {
     "data": {
      "text/html": [
       "<div>\n",
       "<style scoped>\n",
       "    .dataframe tbody tr th:only-of-type {\n",
       "        vertical-align: middle;\n",
       "    }\n",
       "\n",
       "    .dataframe tbody tr th {\n",
       "        vertical-align: top;\n",
       "    }\n",
       "\n",
       "    .dataframe thead th {\n",
       "        text-align: right;\n",
       "    }\n",
       "</style>\n",
       "<table border=\"1\" class=\"dataframe\">\n",
       "  <thead>\n",
       "    <tr style=\"text-align: right;\">\n",
       "      <th></th>\n",
       "      <th>Name</th>\n",
       "      <th>Age</th>\n",
       "      <th>Sex</th>\n",
       "      <th>Department</th>\n",
       "      <th>Score</th>\n",
       "      <th>Grade</th>\n",
       "    </tr>\n",
       "  </thead>\n",
       "  <tbody>\n",
       "    <tr>\n",
       "      <th>0</th>\n",
       "      <td>Abebe</td>\n",
       "      <td>40</td>\n",
       "      <td>M</td>\n",
       "      <td>Ma</td>\n",
       "      <td>90</td>\n",
       "      <td>A</td>\n",
       "    </tr>\n",
       "    <tr>\n",
       "      <th>1</th>\n",
       "      <td>Hewot</td>\n",
       "      <td>50</td>\n",
       "      <td>F</td>\n",
       "      <td>Bi</td>\n",
       "      <td>85</td>\n",
       "      <td>B</td>\n",
       "    </tr>\n",
       "    <tr>\n",
       "      <th>2</th>\n",
       "      <td>Belete</td>\n",
       "      <td>35</td>\n",
       "      <td>M</td>\n",
       "      <td>Ch</td>\n",
       "      <td>70</td>\n",
       "      <td>C</td>\n",
       "    </tr>\n",
       "    <tr>\n",
       "      <th>3</th>\n",
       "      <td>Alemu</td>\n",
       "      <td>40</td>\n",
       "      <td>M</td>\n",
       "      <td>Ph</td>\n",
       "      <td>80</td>\n",
       "      <td>B</td>\n",
       "    </tr>\n",
       "    <tr>\n",
       "      <th>4</th>\n",
       "      <td>Kebede</td>\n",
       "      <td>46</td>\n",
       "      <td>M</td>\n",
       "      <td>Ma</td>\n",
       "      <td>89</td>\n",
       "      <td>B</td>\n",
       "    </tr>\n",
       "    <tr>\n",
       "      <th>5</th>\n",
       "      <td>Aster</td>\n",
       "      <td>48</td>\n",
       "      <td>F</td>\n",
       "      <td>Bi</td>\n",
       "      <td>65</td>\n",
       "      <td>D</td>\n",
       "    </tr>\n",
       "    <tr>\n",
       "      <th>6</th>\n",
       "      <td>Sema</td>\n",
       "      <td>40</td>\n",
       "      <td>M</td>\n",
       "      <td>Ma</td>\n",
       "      <td>90</td>\n",
       "      <td>A</td>\n",
       "    </tr>\n",
       "    <tr>\n",
       "      <th>7</th>\n",
       "      <td>Selam</td>\n",
       "      <td>50</td>\n",
       "      <td>F</td>\n",
       "      <td>Bi</td>\n",
       "      <td>95</td>\n",
       "      <td>A</td>\n",
       "    </tr>\n",
       "    <tr>\n",
       "      <th>8</th>\n",
       "      <td>Belay</td>\n",
       "      <td>35</td>\n",
       "      <td>M</td>\n",
       "      <td>Ch</td>\n",
       "      <td>70</td>\n",
       "      <td>C</td>\n",
       "    </tr>\n",
       "    <tr>\n",
       "      <th>9</th>\n",
       "      <td>Tadess</td>\n",
       "      <td>40</td>\n",
       "      <td>M</td>\n",
       "      <td>Ph</td>\n",
       "      <td>80</td>\n",
       "      <td>B</td>\n",
       "    </tr>\n",
       "    <tr>\n",
       "      <th>10</th>\n",
       "      <td>Destaw</td>\n",
       "      <td>46</td>\n",
       "      <td>M</td>\n",
       "      <td>Ch</td>\n",
       "      <td>89</td>\n",
       "      <td>B</td>\n",
       "    </tr>\n",
       "    <tr>\n",
       "      <th>11</th>\n",
       "      <td>Bety</td>\n",
       "      <td>48</td>\n",
       "      <td>F</td>\n",
       "      <td>Ph</td>\n",
       "      <td>65</td>\n",
       "      <td>D</td>\n",
       "    </tr>\n",
       "  </tbody>\n",
       "</table>\n",
       "</div>"
      ],
      "text/plain": [
       "       Name  Age Sex Department  Score Grade\n",
       "0     Abebe   40   M         Ma     90     A\n",
       "1     Hewot   50   F         Bi     85     B\n",
       "2    Belete   35   M         Ch     70     C\n",
       "3     Alemu   40   M         Ph     80     B\n",
       "4    Kebede   46   M         Ma     89     B\n",
       "5     Aster   48   F         Bi     65     D\n",
       "6      Sema   40   M         Ma     90     A\n",
       "7     Selam   50   F         Bi     95     A\n",
       "8     Belay   35   M         Ch     70     C\n",
       "9    Tadess   40   M         Ph     80     B\n",
       "10   Destaw   46   M         Ch     89     B\n",
       "11     Bety   48   F         Ph     65     D"
      ]
     },
     "execution_count": 18,
     "metadata": {},
     "output_type": "execute_result"
    }
   ],
   "source": [
    "#create 'assign_grade' function\n",
    "def assign_grade(Score):\n",
    "    if Score >= 90:\n",
    "        return 'A'\n",
    "    elif Score >= 80:\n",
    "        return 'B'\n",
    "    elif Score >= 70:\n",
    "        return 'C'\n",
    "    else:\n",
    "        return 'D'\n",
    "# apply the function to assign the grades to the new column 'Grade'\n",
    "merged_df['Grade'] = merged_df['Score'].apply(assign_grade)\n",
    "merged_df"
   ]
  },
  {
   "cell_type": "markdown",
   "id": "49524160-29d1-4d3d-a605-5186c72bd687",
   "metadata": {},
   "source": [
    "Assign remarks to a new column 'Remark' derived from the 'Score' column."
   ]
  },
  {
   "cell_type": "code",
   "execution_count": 19,
   "id": "6369152e-6bf5-4219-8c01-f0187d61b31d",
   "metadata": {},
   "outputs": [
    {
     "data": {
      "text/html": [
       "<div>\n",
       "<style scoped>\n",
       "    .dataframe tbody tr th:only-of-type {\n",
       "        vertical-align: middle;\n",
       "    }\n",
       "\n",
       "    .dataframe tbody tr th {\n",
       "        vertical-align: top;\n",
       "    }\n",
       "\n",
       "    .dataframe thead th {\n",
       "        text-align: right;\n",
       "    }\n",
       "</style>\n",
       "<table border=\"1\" class=\"dataframe\">\n",
       "  <thead>\n",
       "    <tr style=\"text-align: right;\">\n",
       "      <th></th>\n",
       "      <th>Name</th>\n",
       "      <th>Age</th>\n",
       "      <th>Sex</th>\n",
       "      <th>Department</th>\n",
       "      <th>Score</th>\n",
       "      <th>Grade</th>\n",
       "      <th>Remark</th>\n",
       "    </tr>\n",
       "  </thead>\n",
       "  <tbody>\n",
       "    <tr>\n",
       "      <th>0</th>\n",
       "      <td>Abebe</td>\n",
       "      <td>40</td>\n",
       "      <td>M</td>\n",
       "      <td>Ma</td>\n",
       "      <td>90</td>\n",
       "      <td>A</td>\n",
       "      <td>Excellent</td>\n",
       "    </tr>\n",
       "    <tr>\n",
       "      <th>1</th>\n",
       "      <td>Hewot</td>\n",
       "      <td>50</td>\n",
       "      <td>F</td>\n",
       "      <td>Bi</td>\n",
       "      <td>85</td>\n",
       "      <td>B</td>\n",
       "      <td>good</td>\n",
       "    </tr>\n",
       "    <tr>\n",
       "      <th>2</th>\n",
       "      <td>Belete</td>\n",
       "      <td>35</td>\n",
       "      <td>M</td>\n",
       "      <td>Ch</td>\n",
       "      <td>70</td>\n",
       "      <td>C</td>\n",
       "      <td>good</td>\n",
       "    </tr>\n",
       "    <tr>\n",
       "      <th>3</th>\n",
       "      <td>Alemu</td>\n",
       "      <td>40</td>\n",
       "      <td>M</td>\n",
       "      <td>Ph</td>\n",
       "      <td>80</td>\n",
       "      <td>B</td>\n",
       "      <td>good</td>\n",
       "    </tr>\n",
       "    <tr>\n",
       "      <th>4</th>\n",
       "      <td>Kebede</td>\n",
       "      <td>46</td>\n",
       "      <td>M</td>\n",
       "      <td>Ma</td>\n",
       "      <td>89</td>\n",
       "      <td>B</td>\n",
       "      <td>good</td>\n",
       "    </tr>\n",
       "    <tr>\n",
       "      <th>5</th>\n",
       "      <td>Aster</td>\n",
       "      <td>48</td>\n",
       "      <td>F</td>\n",
       "      <td>Bi</td>\n",
       "      <td>65</td>\n",
       "      <td>D</td>\n",
       "      <td>Poor</td>\n",
       "    </tr>\n",
       "    <tr>\n",
       "      <th>6</th>\n",
       "      <td>Sema</td>\n",
       "      <td>40</td>\n",
       "      <td>M</td>\n",
       "      <td>Ma</td>\n",
       "      <td>90</td>\n",
       "      <td>A</td>\n",
       "      <td>Excellent</td>\n",
       "    </tr>\n",
       "    <tr>\n",
       "      <th>7</th>\n",
       "      <td>Selam</td>\n",
       "      <td>50</td>\n",
       "      <td>F</td>\n",
       "      <td>Bi</td>\n",
       "      <td>95</td>\n",
       "      <td>A</td>\n",
       "      <td>Excellent</td>\n",
       "    </tr>\n",
       "    <tr>\n",
       "      <th>8</th>\n",
       "      <td>Belay</td>\n",
       "      <td>35</td>\n",
       "      <td>M</td>\n",
       "      <td>Ch</td>\n",
       "      <td>70</td>\n",
       "      <td>C</td>\n",
       "      <td>good</td>\n",
       "    </tr>\n",
       "    <tr>\n",
       "      <th>9</th>\n",
       "      <td>Tadess</td>\n",
       "      <td>40</td>\n",
       "      <td>M</td>\n",
       "      <td>Ph</td>\n",
       "      <td>80</td>\n",
       "      <td>B</td>\n",
       "      <td>good</td>\n",
       "    </tr>\n",
       "    <tr>\n",
       "      <th>10</th>\n",
       "      <td>Destaw</td>\n",
       "      <td>46</td>\n",
       "      <td>M</td>\n",
       "      <td>Ch</td>\n",
       "      <td>89</td>\n",
       "      <td>B</td>\n",
       "      <td>good</td>\n",
       "    </tr>\n",
       "    <tr>\n",
       "      <th>11</th>\n",
       "      <td>Bety</td>\n",
       "      <td>48</td>\n",
       "      <td>F</td>\n",
       "      <td>Ph</td>\n",
       "      <td>65</td>\n",
       "      <td>D</td>\n",
       "      <td>Poor</td>\n",
       "    </tr>\n",
       "  </tbody>\n",
       "</table>\n",
       "</div>"
      ],
      "text/plain": [
       "       Name  Age Sex Department  Score Grade     Remark\n",
       "0     Abebe   40   M         Ma     90     A  Excellent\n",
       "1     Hewot   50   F         Bi     85     B       good\n",
       "2    Belete   35   M         Ch     70     C       good\n",
       "3     Alemu   40   M         Ph     80     B       good\n",
       "4    Kebede   46   M         Ma     89     B       good\n",
       "5     Aster   48   F         Bi     65     D       Poor\n",
       "6      Sema   40   M         Ma     90     A  Excellent\n",
       "7     Selam   50   F         Bi     95     A  Excellent\n",
       "8     Belay   35   M         Ch     70     C       good\n",
       "9    Tadess   40   M         Ph     80     B       good\n",
       "10   Destaw   46   M         Ch     89     B       good\n",
       "11     Bety   48   F         Ph     65     D       Poor"
      ]
     },
     "execution_count": 19,
     "metadata": {},
     "output_type": "execute_result"
    }
   ],
   "source": [
    "# create 'assign_remark' funcion\n",
    "\n",
    "def assign_remark(Score):\n",
    "  \n",
    "    if Score >= 90:\n",
    "         return 'Excellent'    \n",
    "    elif Score >= 70:\n",
    "        return 'good'\n",
    "    else:\n",
    "        return 'Poor'\n",
    "# apply the 'assign_remark' function to assign remarks to the new column 'Remark'\n",
    "merged_df['Remark'] = merged_df['Score'].apply(assign_remark)\n",
    "merged_df"
   ]
  },
  {
   "cell_type": "markdown",
   "id": "d61710d5-d97e-4d40-9d0e-5eb6d455c03d",
   "metadata": {},
   "source": [
    "### 4. DATA FILTERING "
   ]
  },
  {
   "cell_type": "markdown",
   "id": "7550bfd2-3768-432c-a4e0-09d836eaff56",
   "metadata": {},
   "source": [
    "**Find the number of female and male students.**"
   ]
  },
  {
   "cell_type": "markdown",
   "id": "91033a53-91f1-40f7-998d-b4d014a1841a",
   "metadata": {},
   "source": [
    "Solution 1"
   ]
  },
  {
   "cell_type": "code",
   "execution_count": 20,
   "id": "e46058a4-ec2a-4cb6-9522-be376397b397",
   "metadata": {},
   "outputs": [
    {
     "data": {
      "text/plain": [
       "Sex\n",
       "M    8\n",
       "F    4\n",
       "Name: count, dtype: int64"
      ]
     },
     "execution_count": 20,
     "metadata": {},
     "output_type": "execute_result"
    }
   ],
   "source": [
    "sex_counts = merged_df['Sex'].value_counts()\n",
    "sex_counts"
   ]
  },
  {
   "cell_type": "markdown",
   "id": "6613c3e7-71c2-4c0e-bbc0-737fdb4cfd2f",
   "metadata": {},
   "source": [
    "Solution 2"
   ]
  },
  {
   "cell_type": "code",
   "execution_count": 21,
   "id": "ed7762e9-4467-4831-bf3c-5b7c942326aa",
   "metadata": {},
   "outputs": [
    {
     "data": {
      "text/plain": [
       "Sex\n",
       "M    8\n",
       "F    4\n",
       "Name: count, dtype: int64"
      ]
     },
     "execution_count": 21,
     "metadata": {},
     "output_type": "execute_result"
    }
   ],
   "source": [
    "sex_counts = merged_df.value_counts('Sex')\n",
    "sex_counts"
   ]
  },
  {
   "cell_type": "markdown",
   "id": "37c75fe3-c0ac-43c9-8a6d-215bfc8697f7",
   "metadata": {},
   "source": [
    "**Display the summary statistics of numerical columns of the 'merged_df' DataFrame.**"
   ]
  },
  {
   "cell_type": "code",
   "execution_count": 22,
   "id": "ecdc0740-17f8-4f5f-8983-02e550ff2c33",
   "metadata": {},
   "outputs": [
    {
     "data": {
      "text/html": [
       "<div>\n",
       "<style scoped>\n",
       "    .dataframe tbody tr th:only-of-type {\n",
       "        vertical-align: middle;\n",
       "    }\n",
       "\n",
       "    .dataframe tbody tr th {\n",
       "        vertical-align: top;\n",
       "    }\n",
       "\n",
       "    .dataframe thead th {\n",
       "        text-align: right;\n",
       "    }\n",
       "</style>\n",
       "<table border=\"1\" class=\"dataframe\">\n",
       "  <thead>\n",
       "    <tr style=\"text-align: right;\">\n",
       "      <th></th>\n",
       "      <th>Age</th>\n",
       "      <th>Score</th>\n",
       "    </tr>\n",
       "  </thead>\n",
       "  <tbody>\n",
       "    <tr>\n",
       "      <th>count</th>\n",
       "      <td>12.000000</td>\n",
       "      <td>12.0</td>\n",
       "    </tr>\n",
       "    <tr>\n",
       "      <th>mean</th>\n",
       "      <td>43.166667</td>\n",
       "      <td>80.666667</td>\n",
       "    </tr>\n",
       "    <tr>\n",
       "      <th>std</th>\n",
       "      <td>5.474459</td>\n",
       "      <td>10.688425</td>\n",
       "    </tr>\n",
       "    <tr>\n",
       "      <th>min</th>\n",
       "      <td>35.000000</td>\n",
       "      <td>65.0</td>\n",
       "    </tr>\n",
       "    <tr>\n",
       "      <th>25%</th>\n",
       "      <td>40.000000</td>\n",
       "      <td>70.0</td>\n",
       "    </tr>\n",
       "    <tr>\n",
       "      <th>50%</th>\n",
       "      <td>43.000000</td>\n",
       "      <td>82.5</td>\n",
       "    </tr>\n",
       "    <tr>\n",
       "      <th>75%</th>\n",
       "      <td>48.000000</td>\n",
       "      <td>89.25</td>\n",
       "    </tr>\n",
       "    <tr>\n",
       "      <th>max</th>\n",
       "      <td>50.000000</td>\n",
       "      <td>95.0</td>\n",
       "    </tr>\n",
       "  </tbody>\n",
       "</table>\n",
       "</div>"
      ],
      "text/plain": [
       "             Age      Score\n",
       "count  12.000000       12.0\n",
       "mean   43.166667  80.666667\n",
       "std     5.474459  10.688425\n",
       "min    35.000000       65.0\n",
       "25%    40.000000       70.0\n",
       "50%    43.000000       82.5\n",
       "75%    48.000000      89.25\n",
       "max    50.000000       95.0"
      ]
     },
     "execution_count": 22,
     "metadata": {},
     "output_type": "execute_result"
    }
   ],
   "source": [
    "summary_statistics = merged_df.describe()\n",
    "summary_statistics"
   ]
  },
  {
   "cell_type": "markdown",
   "id": "12c58414-ae8a-4bc1-bd6d-bb45081ac91f",
   "metadata": {},
   "source": [
    "**Find the highest score from 'merged_df' DataFrame.**"
   ]
  },
  {
   "cell_type": "code",
   "execution_count": 23,
   "id": "478b954f-477b-4857-88c8-ed79f6cffd0c",
   "metadata": {},
   "outputs": [
    {
     "data": {
      "text/plain": [
       "95"
      ]
     },
     "execution_count": 23,
     "metadata": {},
     "output_type": "execute_result"
    }
   ],
   "source": [
    "highest_score = merged_df['Score'].max() \n",
    "highest_score"
   ]
  },
  {
   "cell_type": "markdown",
   "id": "7418390d-0eab-407c-a6bb-2fb0be937f73",
   "metadata": {},
   "source": [
    "**Fetch the first student with the highest score.**"
   ]
  },
  {
   "cell_type": "markdown",
   "id": "4a836feb-7e10-4870-83ad-4feb7771a1e7",
   "metadata": {},
   "source": [
    "Solution 1"
   ]
  },
  {
   "cell_type": "code",
   "execution_count": 24,
   "id": "16e7718e-b874-46df-a647-0a8b28709a7a",
   "metadata": {},
   "outputs": [
    {
     "data": {
      "text/html": [
       "<div>\n",
       "<style scoped>\n",
       "    .dataframe tbody tr th:only-of-type {\n",
       "        vertical-align: middle;\n",
       "    }\n",
       "\n",
       "    .dataframe tbody tr th {\n",
       "        vertical-align: top;\n",
       "    }\n",
       "\n",
       "    .dataframe thead th {\n",
       "        text-align: right;\n",
       "    }\n",
       "</style>\n",
       "<table border=\"1\" class=\"dataframe\">\n",
       "  <thead>\n",
       "    <tr style=\"text-align: right;\">\n",
       "      <th></th>\n",
       "      <th>Name</th>\n",
       "      <th>Age</th>\n",
       "      <th>Sex</th>\n",
       "      <th>Department</th>\n",
       "      <th>Score</th>\n",
       "      <th>Grade</th>\n",
       "      <th>Remark</th>\n",
       "    </tr>\n",
       "  </thead>\n",
       "  <tbody>\n",
       "    <tr>\n",
       "      <th>7</th>\n",
       "      <td>Selam</td>\n",
       "      <td>50</td>\n",
       "      <td>F</td>\n",
       "      <td>Bi</td>\n",
       "      <td>95</td>\n",
       "      <td>A</td>\n",
       "      <td>Excellent</td>\n",
       "    </tr>\n",
       "  </tbody>\n",
       "</table>\n",
       "</div>"
      ],
      "text/plain": [
       "    Name  Age Sex Department  Score Grade     Remark\n",
       "7  Selam   50   F         Bi     95     A  Excellent"
      ]
     },
     "execution_count": 24,
     "metadata": {},
     "output_type": "execute_result"
    }
   ],
   "source": [
    "highest_score_row = merged_df.loc[merged_df['Score'].apply(lambda x: x == merged_df['Score'].max())]\n",
    "highest_score_row"
   ]
  },
  {
   "cell_type": "markdown",
   "id": "3f0285bf-b9d9-4574-926c-b2537bac671e",
   "metadata": {},
   "source": [
    "Solution 2"
   ]
  },
  {
   "cell_type": "code",
   "execution_count": 25,
   "id": "ef1728cd-d637-4853-b29f-d8cda5a665f9",
   "metadata": {},
   "outputs": [
    {
     "data": {
      "text/plain": [
       "Name              Selam\n",
       "Age                  50\n",
       "Sex                   F\n",
       "Department           Bi\n",
       "Score                95\n",
       "Grade                 A\n",
       "Remark        Excellent\n",
       "Name: 7, dtype: object"
      ]
     },
     "execution_count": 25,
     "metadata": {},
     "output_type": "execute_result"
    }
   ],
   "source": [
    " highest_score_row = merged_df.loc[merged_df['Score'].idxmax()]\n",
    " highest_score_row"
   ]
  },
  {
   "cell_type": "markdown",
   "id": "86fc854d-2ad5-4d4b-a1c3-a45cf7c09d14",
   "metadata": {},
   "source": [
    "Solution 3"
   ]
  },
  {
   "cell_type": "code",
   "execution_count": 26,
   "id": "e44737b2-f8e7-431d-806b-41f1c79fb00a",
   "metadata": {},
   "outputs": [
    {
     "data": {
      "text/html": [
       "<div>\n",
       "<style scoped>\n",
       "    .dataframe tbody tr th:only-of-type {\n",
       "        vertical-align: middle;\n",
       "    }\n",
       "\n",
       "    .dataframe tbody tr th {\n",
       "        vertical-align: top;\n",
       "    }\n",
       "\n",
       "    .dataframe thead th {\n",
       "        text-align: right;\n",
       "    }\n",
       "</style>\n",
       "<table border=\"1\" class=\"dataframe\">\n",
       "  <thead>\n",
       "    <tr style=\"text-align: right;\">\n",
       "      <th></th>\n",
       "      <th>Name</th>\n",
       "      <th>Age</th>\n",
       "      <th>Sex</th>\n",
       "      <th>Department</th>\n",
       "      <th>Score</th>\n",
       "      <th>Grade</th>\n",
       "      <th>Remark</th>\n",
       "    </tr>\n",
       "  </thead>\n",
       "  <tbody>\n",
       "    <tr>\n",
       "      <th>7</th>\n",
       "      <td>Selam</td>\n",
       "      <td>50</td>\n",
       "      <td>F</td>\n",
       "      <td>Bi</td>\n",
       "      <td>95</td>\n",
       "      <td>A</td>\n",
       "      <td>Excellent</td>\n",
       "    </tr>\n",
       "  </tbody>\n",
       "</table>\n",
       "</div>"
      ],
      "text/plain": [
       "    Name  Age Sex Department  Score Grade     Remark\n",
       "7  Selam   50   F         Bi     95     A  Excellent"
      ]
     },
     "execution_count": 26,
     "metadata": {},
     "output_type": "execute_result"
    }
   ],
   "source": [
    "highest_score_row = merged_df[merged_df['Score'] == merged_df['Score'].max()]\n",
    "highest_score_row"
   ]
  },
  {
   "cell_type": "markdown",
   "id": "2723089e-e73b-45a0-9845-6aea66e55242",
   "metadata": {},
   "source": [
    "**Find the top 3 students with the highest scores.**\n",
    "\n"
   ]
  },
  {
   "cell_type": "code",
   "execution_count": 27,
   "id": "9be55547-c94c-4ecd-9793-9e6fe05867aa",
   "metadata": {},
   "outputs": [
    {
     "data": {
      "text/html": [
       "<div>\n",
       "<style scoped>\n",
       "    .dataframe tbody tr th:only-of-type {\n",
       "        vertical-align: middle;\n",
       "    }\n",
       "\n",
       "    .dataframe tbody tr th {\n",
       "        vertical-align: top;\n",
       "    }\n",
       "\n",
       "    .dataframe thead th {\n",
       "        text-align: right;\n",
       "    }\n",
       "</style>\n",
       "<table border=\"1\" class=\"dataframe\">\n",
       "  <thead>\n",
       "    <tr style=\"text-align: right;\">\n",
       "      <th></th>\n",
       "      <th>Name</th>\n",
       "      <th>Age</th>\n",
       "      <th>Sex</th>\n",
       "      <th>Department</th>\n",
       "      <th>Score</th>\n",
       "      <th>Grade</th>\n",
       "      <th>Remark</th>\n",
       "    </tr>\n",
       "  </thead>\n",
       "  <tbody>\n",
       "    <tr>\n",
       "      <th>7</th>\n",
       "      <td>Selam</td>\n",
       "      <td>50</td>\n",
       "      <td>F</td>\n",
       "      <td>Bi</td>\n",
       "      <td>95</td>\n",
       "      <td>A</td>\n",
       "      <td>Excellent</td>\n",
       "    </tr>\n",
       "    <tr>\n",
       "      <th>0</th>\n",
       "      <td>Abebe</td>\n",
       "      <td>40</td>\n",
       "      <td>M</td>\n",
       "      <td>Ma</td>\n",
       "      <td>90</td>\n",
       "      <td>A</td>\n",
       "      <td>Excellent</td>\n",
       "    </tr>\n",
       "    <tr>\n",
       "      <th>6</th>\n",
       "      <td>Sema</td>\n",
       "      <td>40</td>\n",
       "      <td>M</td>\n",
       "      <td>Ma</td>\n",
       "      <td>90</td>\n",
       "      <td>A</td>\n",
       "      <td>Excellent</td>\n",
       "    </tr>\n",
       "  </tbody>\n",
       "</table>\n",
       "</div>"
      ],
      "text/plain": [
       "    Name  Age Sex Department  Score Grade     Remark\n",
       "7  Selam   50   F         Bi     95     A  Excellent\n",
       "0  Abebe   40   M         Ma     90     A  Excellent\n",
       "6   Sema   40   M         Ma     90     A  Excellent"
      ]
     },
     "execution_count": 27,
     "metadata": {},
     "output_type": "execute_result"
    }
   ],
   "source": [
    "top_three_students = merged_df.nlargest(3, 'Score')\n",
    "top_three_students\n"
   ]
  },
  {
   "cell_type": "markdown",
   "id": "92be5715-eab3-4559-825c-7b82a349bb30",
   "metadata": {},
   "source": [
    "**Find the student/s with the second highest score.**"
   ]
  },
  {
   "cell_type": "code",
   "execution_count": 28,
   "id": "8bfcc88b-1e80-48b3-b7c7-634e739cc111",
   "metadata": {},
   "outputs": [
    {
     "data": {
      "text/html": [
       "<div>\n",
       "<style scoped>\n",
       "    .dataframe tbody tr th:only-of-type {\n",
       "        vertical-align: middle;\n",
       "    }\n",
       "\n",
       "    .dataframe tbody tr th {\n",
       "        vertical-align: top;\n",
       "    }\n",
       "\n",
       "    .dataframe thead th {\n",
       "        text-align: right;\n",
       "    }\n",
       "</style>\n",
       "<table border=\"1\" class=\"dataframe\">\n",
       "  <thead>\n",
       "    <tr style=\"text-align: right;\">\n",
       "      <th></th>\n",
       "      <th>Name</th>\n",
       "      <th>Age</th>\n",
       "      <th>Sex</th>\n",
       "      <th>Department</th>\n",
       "      <th>Score</th>\n",
       "      <th>Grade</th>\n",
       "      <th>Remark</th>\n",
       "    </tr>\n",
       "  </thead>\n",
       "  <tbody>\n",
       "    <tr>\n",
       "      <th>0</th>\n",
       "      <td>Abebe</td>\n",
       "      <td>40</td>\n",
       "      <td>M</td>\n",
       "      <td>Ma</td>\n",
       "      <td>90</td>\n",
       "      <td>A</td>\n",
       "      <td>Excellent</td>\n",
       "    </tr>\n",
       "    <tr>\n",
       "      <th>6</th>\n",
       "      <td>Sema</td>\n",
       "      <td>40</td>\n",
       "      <td>M</td>\n",
       "      <td>Ma</td>\n",
       "      <td>90</td>\n",
       "      <td>A</td>\n",
       "      <td>Excellent</td>\n",
       "    </tr>\n",
       "  </tbody>\n",
       "</table>\n",
       "</div>"
      ],
      "text/plain": [
       "    Name  Age Sex Department  Score Grade     Remark\n",
       "0  Abebe   40   M         Ma     90     A  Excellent\n",
       "6   Sema   40   M         Ma     90     A  Excellent"
      ]
     },
     "execution_count": 28,
     "metadata": {},
     "output_type": "execute_result"
    }
   ],
   "source": [
    "# Sort the DataFrame by Score' column in descending order\n",
    "sorted_row = merged_df.sort_values(by=['Score'], ascending= False)\n",
    "\n",
    "# Calculate rank based on Score\n",
    "sorted_row['Rank'] = sorted_row['Score'].rank(ascending=False, method='dense').astype(int)\n",
    "\n",
    "# Filter the DataFrame to include only rows with Rank 2 (second scorer) \n",
    "second_highest_scorer= sorted_row[sorted_row['Rank'] == 2]\n",
    "\n",
    "# Drop the 'Rank' column\n",
    "second_highest_scorer = second_highest_scorer.drop(columns=['Rank'])\n",
    "\n",
    "# Display the result\n",
    "second_highest_scorer\n"
   ]
  },
  {
   "cell_type": "markdown",
   "id": "e22069fc-baa9-4fbb-81f4-0139c64a2630",
   "metadata": {},
   "source": [
    "**Find the last 2 students with the lowest scores**\n",
    "\n"
   ]
  },
  {
   "cell_type": "code",
   "execution_count": 29,
   "id": "e9a6449a-1076-4a04-b183-a40b2c3f3da4",
   "metadata": {},
   "outputs": [
    {
     "name": "stdout",
     "output_type": "stream",
     "text": [
      "     Name  Age Sex Department  Score Grade Remark\n",
      "5   Aster   48   F         Bi     65     D   Poor\n",
      "11   Bety   48   F         Ph     65     D   Poor\n"
     ]
    }
   ],
   "source": [
    "last_two_lowest_score_students = merged_df.nsmallest(2, 'Score')\n",
    "\n",
    "print(last_two_lowest_score_students)\n"
   ]
  },
  {
   "cell_type": "markdown",
   "id": "4072a01a-b199-4f64-8966-92483d4646ba",
   "metadata": {},
   "source": [
    "**Find the highest scorer within each sex.**"
   ]
  },
  {
   "cell_type": "code",
   "execution_count": 30,
   "id": "55a90dc7-7cf2-4199-bce5-d21b8db55422",
   "metadata": {},
   "outputs": [
    {
     "data": {
      "text/html": [
       "<div>\n",
       "<style scoped>\n",
       "    .dataframe tbody tr th:only-of-type {\n",
       "        vertical-align: middle;\n",
       "    }\n",
       "\n",
       "    .dataframe tbody tr th {\n",
       "        vertical-align: top;\n",
       "    }\n",
       "\n",
       "    .dataframe thead th {\n",
       "        text-align: right;\n",
       "    }\n",
       "</style>\n",
       "<table border=\"1\" class=\"dataframe\">\n",
       "  <thead>\n",
       "    <tr style=\"text-align: right;\">\n",
       "      <th></th>\n",
       "      <th></th>\n",
       "      <th>Name</th>\n",
       "      <th>Age</th>\n",
       "      <th>Sex</th>\n",
       "      <th>Department</th>\n",
       "      <th>Score</th>\n",
       "      <th>Grade</th>\n",
       "      <th>Remark</th>\n",
       "    </tr>\n",
       "    <tr>\n",
       "      <th>Sex</th>\n",
       "      <th></th>\n",
       "      <th></th>\n",
       "      <th></th>\n",
       "      <th></th>\n",
       "      <th></th>\n",
       "      <th></th>\n",
       "      <th></th>\n",
       "      <th></th>\n",
       "    </tr>\n",
       "  </thead>\n",
       "  <tbody>\n",
       "    <tr>\n",
       "      <th>F</th>\n",
       "      <th>7</th>\n",
       "      <td>Selam</td>\n",
       "      <td>50</td>\n",
       "      <td>F</td>\n",
       "      <td>Bi</td>\n",
       "      <td>95</td>\n",
       "      <td>A</td>\n",
       "      <td>Excellent</td>\n",
       "    </tr>\n",
       "    <tr>\n",
       "      <th rowspan=\"2\" valign=\"top\">M</th>\n",
       "      <th>0</th>\n",
       "      <td>Abebe</td>\n",
       "      <td>40</td>\n",
       "      <td>M</td>\n",
       "      <td>Ma</td>\n",
       "      <td>90</td>\n",
       "      <td>A</td>\n",
       "      <td>Excellent</td>\n",
       "    </tr>\n",
       "    <tr>\n",
       "      <th>6</th>\n",
       "      <td>Sema</td>\n",
       "      <td>40</td>\n",
       "      <td>M</td>\n",
       "      <td>Ma</td>\n",
       "      <td>90</td>\n",
       "      <td>A</td>\n",
       "      <td>Excellent</td>\n",
       "    </tr>\n",
       "  </tbody>\n",
       "</table>\n",
       "</div>"
      ],
      "text/plain": [
       "        Name  Age Sex Department  Score Grade     Remark\n",
       "Sex                                                     \n",
       "F   7  Selam   50   F         Bi     95     A  Excellent\n",
       "M   0  Abebe   40   M         Ma     90     A  Excellent\n",
       "    6   Sema   40   M         Ma     90     A  Excellent"
      ]
     },
     "execution_count": 30,
     "metadata": {},
     "output_type": "execute_result"
    }
   ],
   "source": [
    "# Define a lambda function to filter the DataFrame for each sex group and find the maximum score\n",
    "highest_scorers = merged_df.groupby('Sex').apply(lambda x: x[x['Score'] == x['Score'].max()])\n",
    "\n",
    "# Display the highest scorer of each sex\n",
    "highest_scorers\n"
   ]
  },
  {
   "cell_type": "markdown",
   "id": "304841a0-b1ca-4836-8be4-55a7acb54f9e",
   "metadata": {},
   "source": [
    " **Remove the above Sex index(if we don't want the Sex index).**"
   ]
  },
  {
   "cell_type": "code",
   "execution_count": 31,
   "id": "1bb1e133-1356-4755-b59f-db9673e47791",
   "metadata": {},
   "outputs": [
    {
     "data": {
      "text/html": [
       "<div>\n",
       "<style scoped>\n",
       "    .dataframe tbody tr th:only-of-type {\n",
       "        vertical-align: middle;\n",
       "    }\n",
       "\n",
       "    .dataframe tbody tr th {\n",
       "        vertical-align: top;\n",
       "    }\n",
       "\n",
       "    .dataframe thead th {\n",
       "        text-align: right;\n",
       "    }\n",
       "</style>\n",
       "<table border=\"1\" class=\"dataframe\">\n",
       "  <thead>\n",
       "    <tr style=\"text-align: right;\">\n",
       "      <th></th>\n",
       "      <th>Name</th>\n",
       "      <th>Age</th>\n",
       "      <th>Sex</th>\n",
       "      <th>Department</th>\n",
       "      <th>Score</th>\n",
       "      <th>Grade</th>\n",
       "      <th>Remark</th>\n",
       "    </tr>\n",
       "  </thead>\n",
       "  <tbody>\n",
       "    <tr>\n",
       "      <th>0</th>\n",
       "      <td>Selam</td>\n",
       "      <td>50</td>\n",
       "      <td>F</td>\n",
       "      <td>Bi</td>\n",
       "      <td>95</td>\n",
       "      <td>A</td>\n",
       "      <td>Excellent</td>\n",
       "    </tr>\n",
       "    <tr>\n",
       "      <th>1</th>\n",
       "      <td>Abebe</td>\n",
       "      <td>40</td>\n",
       "      <td>M</td>\n",
       "      <td>Ma</td>\n",
       "      <td>90</td>\n",
       "      <td>A</td>\n",
       "      <td>Excellent</td>\n",
       "    </tr>\n",
       "    <tr>\n",
       "      <th>2</th>\n",
       "      <td>Sema</td>\n",
       "      <td>40</td>\n",
       "      <td>M</td>\n",
       "      <td>Ma</td>\n",
       "      <td>90</td>\n",
       "      <td>A</td>\n",
       "      <td>Excellent</td>\n",
       "    </tr>\n",
       "  </tbody>\n",
       "</table>\n",
       "</div>"
      ],
      "text/plain": [
       "    Name  Age Sex Department  Score Grade     Remark\n",
       "0  Selam   50   F         Bi     95     A  Excellent\n",
       "1  Abebe   40   M         Ma     90     A  Excellent\n",
       "2   Sema   40   M         Ma     90     A  Excellent"
      ]
     },
     "execution_count": 31,
     "metadata": {},
     "output_type": "execute_result"
    }
   ],
   "source": [
    "\n",
    "highest_scorers.reset_index(drop = True)"
   ]
  },
  {
   "cell_type": "markdown",
   "id": "7986ce1c-37b3-40ac-8318-964ac351678a",
   "metadata": {},
   "source": [
    "**Find the highest scorer within each department.**"
   ]
  },
  {
   "cell_type": "code",
   "execution_count": 32,
   "id": "70fb23ec-cdbb-4583-87fe-6017bd745649",
   "metadata": {},
   "outputs": [
    {
     "data": {
      "text/html": [
       "<div>\n",
       "<style scoped>\n",
       "    .dataframe tbody tr th:only-of-type {\n",
       "        vertical-align: middle;\n",
       "    }\n",
       "\n",
       "    .dataframe tbody tr th {\n",
       "        vertical-align: top;\n",
       "    }\n",
       "\n",
       "    .dataframe thead th {\n",
       "        text-align: right;\n",
       "    }\n",
       "</style>\n",
       "<table border=\"1\" class=\"dataframe\">\n",
       "  <thead>\n",
       "    <tr style=\"text-align: right;\">\n",
       "      <th></th>\n",
       "      <th>Name</th>\n",
       "      <th>Age</th>\n",
       "      <th>Sex</th>\n",
       "      <th>Department</th>\n",
       "      <th>Score</th>\n",
       "      <th>Grade</th>\n",
       "      <th>Remark</th>\n",
       "    </tr>\n",
       "  </thead>\n",
       "  <tbody>\n",
       "    <tr>\n",
       "      <th>0</th>\n",
       "      <td>Selam</td>\n",
       "      <td>50</td>\n",
       "      <td>F</td>\n",
       "      <td>Bi</td>\n",
       "      <td>95</td>\n",
       "      <td>A</td>\n",
       "      <td>Excellent</td>\n",
       "    </tr>\n",
       "    <tr>\n",
       "      <th>1</th>\n",
       "      <td>Destaw</td>\n",
       "      <td>46</td>\n",
       "      <td>M</td>\n",
       "      <td>Ch</td>\n",
       "      <td>89</td>\n",
       "      <td>B</td>\n",
       "      <td>good</td>\n",
       "    </tr>\n",
       "    <tr>\n",
       "      <th>2</th>\n",
       "      <td>Abebe</td>\n",
       "      <td>40</td>\n",
       "      <td>M</td>\n",
       "      <td>Ma</td>\n",
       "      <td>90</td>\n",
       "      <td>A</td>\n",
       "      <td>Excellent</td>\n",
       "    </tr>\n",
       "    <tr>\n",
       "      <th>3</th>\n",
       "      <td>Sema</td>\n",
       "      <td>40</td>\n",
       "      <td>M</td>\n",
       "      <td>Ma</td>\n",
       "      <td>90</td>\n",
       "      <td>A</td>\n",
       "      <td>Excellent</td>\n",
       "    </tr>\n",
       "    <tr>\n",
       "      <th>4</th>\n",
       "      <td>Alemu</td>\n",
       "      <td>40</td>\n",
       "      <td>M</td>\n",
       "      <td>Ph</td>\n",
       "      <td>80</td>\n",
       "      <td>B</td>\n",
       "      <td>good</td>\n",
       "    </tr>\n",
       "    <tr>\n",
       "      <th>5</th>\n",
       "      <td>Tadess</td>\n",
       "      <td>40</td>\n",
       "      <td>M</td>\n",
       "      <td>Ph</td>\n",
       "      <td>80</td>\n",
       "      <td>B</td>\n",
       "      <td>good</td>\n",
       "    </tr>\n",
       "  </tbody>\n",
       "</table>\n",
       "</div>"
      ],
      "text/plain": [
       "     Name  Age Sex Department  Score Grade     Remark\n",
       "0   Selam   50   F         Bi     95     A  Excellent\n",
       "1  Destaw   46   M         Ch     89     B       good\n",
       "2   Abebe   40   M         Ma     90     A  Excellent\n",
       "3    Sema   40   M         Ma     90     A  Excellent\n",
       "4   Alemu   40   M         Ph     80     B       good\n",
       "5  Tadess   40   M         Ph     80     B       good"
      ]
     },
     "execution_count": 32,
     "metadata": {},
     "output_type": "execute_result"
    }
   ],
   "source": [
    "# Define a lambda function to filter the DataFrame for each 'department' group and find the maximum score\n",
    "group_dep = merged_df.groupby('Department').apply(lambda x: x[x['Score'] == x['Score'].max()]).reset_index(drop=True)\n",
    "\n",
    "# Display the highest scorer of each 'department'\n",
    "group_dep"
   ]
  },
  {
   "cell_type": "markdown",
   "id": "7f694d90-0fb1-42b9-ba62-b89796c6f5de",
   "metadata": {},
   "source": [
    "**Find the highest scorer within each department by using the 'rank' method.**"
   ]
  },
  {
   "cell_type": "code",
   "execution_count": 33,
   "id": "1c3f40f8-edbc-4d15-95e7-6f3b458dd9e3",
   "metadata": {},
   "outputs": [
    {
     "data": {
      "text/html": [
       "<div>\n",
       "<style scoped>\n",
       "    .dataframe tbody tr th:only-of-type {\n",
       "        vertical-align: middle;\n",
       "    }\n",
       "\n",
       "    .dataframe tbody tr th {\n",
       "        vertical-align: top;\n",
       "    }\n",
       "\n",
       "    .dataframe thead th {\n",
       "        text-align: right;\n",
       "    }\n",
       "</style>\n",
       "<table border=\"1\" class=\"dataframe\">\n",
       "  <thead>\n",
       "    <tr style=\"text-align: right;\">\n",
       "      <th></th>\n",
       "      <th>Name</th>\n",
       "      <th>Age</th>\n",
       "      <th>Sex</th>\n",
       "      <th>Department</th>\n",
       "      <th>Score</th>\n",
       "      <th>Grade</th>\n",
       "      <th>Remark</th>\n",
       "    </tr>\n",
       "  </thead>\n",
       "  <tbody>\n",
       "    <tr>\n",
       "      <th>7</th>\n",
       "      <td>Selam</td>\n",
       "      <td>50</td>\n",
       "      <td>F</td>\n",
       "      <td>Bi</td>\n",
       "      <td>95</td>\n",
       "      <td>A</td>\n",
       "      <td>Excellent</td>\n",
       "    </tr>\n",
       "    <tr>\n",
       "      <th>10</th>\n",
       "      <td>Destaw</td>\n",
       "      <td>46</td>\n",
       "      <td>M</td>\n",
       "      <td>Ch</td>\n",
       "      <td>89</td>\n",
       "      <td>B</td>\n",
       "      <td>good</td>\n",
       "    </tr>\n",
       "    <tr>\n",
       "      <th>0</th>\n",
       "      <td>Abebe</td>\n",
       "      <td>40</td>\n",
       "      <td>M</td>\n",
       "      <td>Ma</td>\n",
       "      <td>90</td>\n",
       "      <td>A</td>\n",
       "      <td>Excellent</td>\n",
       "    </tr>\n",
       "    <tr>\n",
       "      <th>6</th>\n",
       "      <td>Sema</td>\n",
       "      <td>40</td>\n",
       "      <td>M</td>\n",
       "      <td>Ma</td>\n",
       "      <td>90</td>\n",
       "      <td>A</td>\n",
       "      <td>Excellent</td>\n",
       "    </tr>\n",
       "    <tr>\n",
       "      <th>3</th>\n",
       "      <td>Alemu</td>\n",
       "      <td>40</td>\n",
       "      <td>M</td>\n",
       "      <td>Ph</td>\n",
       "      <td>80</td>\n",
       "      <td>B</td>\n",
       "      <td>good</td>\n",
       "    </tr>\n",
       "    <tr>\n",
       "      <th>9</th>\n",
       "      <td>Tadess</td>\n",
       "      <td>40</td>\n",
       "      <td>M</td>\n",
       "      <td>Ph</td>\n",
       "      <td>80</td>\n",
       "      <td>B</td>\n",
       "      <td>good</td>\n",
       "    </tr>\n",
       "  </tbody>\n",
       "</table>\n",
       "</div>"
      ],
      "text/plain": [
       "      Name  Age Sex Department  Score Grade     Remark\n",
       "7    Selam   50   F         Bi     95     A  Excellent\n",
       "10  Destaw   46   M         Ch     89     B       good\n",
       "0    Abebe   40   M         Ma     90     A  Excellent\n",
       "6     Sema   40   M         Ma     90     A  Excellent\n",
       "3    Alemu   40   M         Ph     80     B       good\n",
       "9   Tadess   40   M         Ph     80     B       good"
      ]
     },
     "execution_count": 33,
     "metadata": {},
     "output_type": "execute_result"
    }
   ],
   "source": [
    "# Sort the DataFrame by 'Department' and 'Score' columns in descending order\n",
    "sorted_df = merged_df.sort_values(by=['Department', 'Score'], ascending=[True, False])\n",
    "\n",
    "# Calculate rank within each Department based on Score\n",
    "sorted_df['Rank'] = sorted_df.groupby('Department')['Score'].rank(ascending=False, method='dense').astype(int)\n",
    "\n",
    "# Filter the DataFrame to include only rows with Rank 1 (top scorer) within each Department\n",
    "top_scorers_by_department = sorted_df[sorted_df['Rank'] == 1]\n",
    "\n",
    "# Drop the 'Rank' column\n",
    "top_scorers_by_department = top_scorers_by_department.drop(columns=['Rank'])\n",
    "\n",
    "# Display the result\n",
    "top_scorers_by_department\n"
   ]
  },
  {
   "cell_type": "markdown",
   "id": "0d9018cc-8291-4752-afb9-b2630c58c971",
   "metadata": {},
   "source": [
    "**Fetch all students whose remarks are 'Excellent'.**\n",
    "\n"
   ]
  },
  {
   "cell_type": "markdown",
   "id": "d7bf3012-6074-4304-b830-cad70f94ac9f",
   "metadata": {},
   "source": [
    "Solution 1"
   ]
  },
  {
   "cell_type": "code",
   "execution_count": 34,
   "id": "47a7da1e-7073-440f-b384-12301e688f5b",
   "metadata": {},
   "outputs": [
    {
     "data": {
      "text/html": [
       "<div>\n",
       "<style scoped>\n",
       "    .dataframe tbody tr th:only-of-type {\n",
       "        vertical-align: middle;\n",
       "    }\n",
       "\n",
       "    .dataframe tbody tr th {\n",
       "        vertical-align: top;\n",
       "    }\n",
       "\n",
       "    .dataframe thead th {\n",
       "        text-align: right;\n",
       "    }\n",
       "</style>\n",
       "<table border=\"1\" class=\"dataframe\">\n",
       "  <thead>\n",
       "    <tr style=\"text-align: right;\">\n",
       "      <th></th>\n",
       "      <th>Name</th>\n",
       "      <th>Age</th>\n",
       "      <th>Sex</th>\n",
       "      <th>Department</th>\n",
       "      <th>Score</th>\n",
       "      <th>Grade</th>\n",
       "      <th>Remark</th>\n",
       "    </tr>\n",
       "  </thead>\n",
       "  <tbody>\n",
       "    <tr>\n",
       "      <th>0</th>\n",
       "      <td>Abebe</td>\n",
       "      <td>40</td>\n",
       "      <td>M</td>\n",
       "      <td>Ma</td>\n",
       "      <td>90</td>\n",
       "      <td>A</td>\n",
       "      <td>Excellent</td>\n",
       "    </tr>\n",
       "    <tr>\n",
       "      <th>6</th>\n",
       "      <td>Sema</td>\n",
       "      <td>40</td>\n",
       "      <td>M</td>\n",
       "      <td>Ma</td>\n",
       "      <td>90</td>\n",
       "      <td>A</td>\n",
       "      <td>Excellent</td>\n",
       "    </tr>\n",
       "    <tr>\n",
       "      <th>7</th>\n",
       "      <td>Selam</td>\n",
       "      <td>50</td>\n",
       "      <td>F</td>\n",
       "      <td>Bi</td>\n",
       "      <td>95</td>\n",
       "      <td>A</td>\n",
       "      <td>Excellent</td>\n",
       "    </tr>\n",
       "  </tbody>\n",
       "</table>\n",
       "</div>"
      ],
      "text/plain": [
       "    Name  Age Sex Department  Score Grade     Remark\n",
       "0  Abebe   40   M         Ma     90     A  Excellent\n",
       "6   Sema   40   M         Ma     90     A  Excellent\n",
       "7  Selam   50   F         Bi     95     A  Excellent"
      ]
     },
     "execution_count": 34,
     "metadata": {},
     "output_type": "execute_result"
    }
   ],
   "source": [
    "excellent_students = merged_df[merged_df['Remark'] == 'Excellent'] \n",
    "excellent_students"
   ]
  },
  {
   "cell_type": "markdown",
   "id": "5e84a6bf-f18d-4369-b73a-040be31b655b",
   "metadata": {},
   "source": [
    "Solution 2"
   ]
  },
  {
   "cell_type": "code",
   "execution_count": 35,
   "id": "11facd8a-62fe-4474-b4c8-47b7d651cc3b",
   "metadata": {},
   "outputs": [
    {
     "data": {
      "text/html": [
       "<div>\n",
       "<style scoped>\n",
       "    .dataframe tbody tr th:only-of-type {\n",
       "        vertical-align: middle;\n",
       "    }\n",
       "\n",
       "    .dataframe tbody tr th {\n",
       "        vertical-align: top;\n",
       "    }\n",
       "\n",
       "    .dataframe thead th {\n",
       "        text-align: right;\n",
       "    }\n",
       "</style>\n",
       "<table border=\"1\" class=\"dataframe\">\n",
       "  <thead>\n",
       "    <tr style=\"text-align: right;\">\n",
       "      <th></th>\n",
       "      <th>Name</th>\n",
       "      <th>Age</th>\n",
       "      <th>Sex</th>\n",
       "      <th>Department</th>\n",
       "      <th>Score</th>\n",
       "      <th>Grade</th>\n",
       "      <th>Remark</th>\n",
       "    </tr>\n",
       "  </thead>\n",
       "  <tbody>\n",
       "    <tr>\n",
       "      <th>0</th>\n",
       "      <td>Abebe</td>\n",
       "      <td>40</td>\n",
       "      <td>M</td>\n",
       "      <td>Ma</td>\n",
       "      <td>90</td>\n",
       "      <td>A</td>\n",
       "      <td>Excellent</td>\n",
       "    </tr>\n",
       "    <tr>\n",
       "      <th>6</th>\n",
       "      <td>Sema</td>\n",
       "      <td>40</td>\n",
       "      <td>M</td>\n",
       "      <td>Ma</td>\n",
       "      <td>90</td>\n",
       "      <td>A</td>\n",
       "      <td>Excellent</td>\n",
       "    </tr>\n",
       "    <tr>\n",
       "      <th>7</th>\n",
       "      <td>Selam</td>\n",
       "      <td>50</td>\n",
       "      <td>F</td>\n",
       "      <td>Bi</td>\n",
       "      <td>95</td>\n",
       "      <td>A</td>\n",
       "      <td>Excellent</td>\n",
       "    </tr>\n",
       "  </tbody>\n",
       "</table>\n",
       "</div>"
      ],
      "text/plain": [
       "    Name  Age Sex Department  Score Grade     Remark\n",
       "0  Abebe   40   M         Ma     90     A  Excellent\n",
       "6   Sema   40   M         Ma     90     A  Excellent\n",
       "7  Selam   50   F         Bi     95     A  Excellent"
      ]
     },
     "execution_count": 35,
     "metadata": {},
     "output_type": "execute_result"
    }
   ],
   "source": [
    "excellent_students = merged_df.query(\"Remark == 'Excellent'\")\n",
    "excellent_students"
   ]
  },
  {
   "cell_type": "markdown",
   "id": "3b9b2999-9bcd-4791-a3ce-a4a3b3993024",
   "metadata": {},
   "source": [
    "**Find all Female students whose score is greater or equal to 85.**"
   ]
  },
  {
   "cell_type": "markdown",
   "id": "48bb419d-8f83-44c9-ac47-1c1522d61f0a",
   "metadata": {},
   "source": [
    "Solution 1"
   ]
  },
  {
   "cell_type": "code",
   "execution_count": 36,
   "id": "465870c8",
   "metadata": {},
   "outputs": [
    {
     "data": {
      "text/html": [
       "<div>\n",
       "<style scoped>\n",
       "    .dataframe tbody tr th:only-of-type {\n",
       "        vertical-align: middle;\n",
       "    }\n",
       "\n",
       "    .dataframe tbody tr th {\n",
       "        vertical-align: top;\n",
       "    }\n",
       "\n",
       "    .dataframe thead th {\n",
       "        text-align: right;\n",
       "    }\n",
       "</style>\n",
       "<table border=\"1\" class=\"dataframe\">\n",
       "  <thead>\n",
       "    <tr style=\"text-align: right;\">\n",
       "      <th></th>\n",
       "      <th>Name</th>\n",
       "      <th>Age</th>\n",
       "      <th>Sex</th>\n",
       "      <th>Department</th>\n",
       "      <th>Score</th>\n",
       "      <th>Grade</th>\n",
       "      <th>Remark</th>\n",
       "    </tr>\n",
       "  </thead>\n",
       "  <tbody>\n",
       "    <tr>\n",
       "      <th>1</th>\n",
       "      <td>Hewot</td>\n",
       "      <td>50</td>\n",
       "      <td>F</td>\n",
       "      <td>Bi</td>\n",
       "      <td>85</td>\n",
       "      <td>B</td>\n",
       "      <td>good</td>\n",
       "    </tr>\n",
       "    <tr>\n",
       "      <th>7</th>\n",
       "      <td>Selam</td>\n",
       "      <td>50</td>\n",
       "      <td>F</td>\n",
       "      <td>Bi</td>\n",
       "      <td>95</td>\n",
       "      <td>A</td>\n",
       "      <td>Excellent</td>\n",
       "    </tr>\n",
       "  </tbody>\n",
       "</table>\n",
       "</div>"
      ],
      "text/plain": [
       "    Name  Age Sex Department  Score Grade     Remark\n",
       "1  Hewot   50   F         Bi     85     B       good\n",
       "7  Selam   50   F         Bi     95     A  Excellent"
      ]
     },
     "execution_count": 36,
     "metadata": {},
     "output_type": "execute_result"
    }
   ],
   "source": [
    "merged_df[(merged_df['Sex'] == 'F') & (merged_df['Score'] >= 85)]\n"
   ]
  },
  {
   "cell_type": "markdown",
   "id": "332c4676-dc57-4f51-91aa-b6d49dc18da5",
   "metadata": {},
   "source": [
    "Solution 2"
   ]
  },
  {
   "cell_type": "code",
   "execution_count": 37,
   "id": "9bfb4d11-1a5b-43f1-8a75-a7c88f3176d5",
   "metadata": {},
   "outputs": [
    {
     "data": {
      "text/html": [
       "<div>\n",
       "<style scoped>\n",
       "    .dataframe tbody tr th:only-of-type {\n",
       "        vertical-align: middle;\n",
       "    }\n",
       "\n",
       "    .dataframe tbody tr th {\n",
       "        vertical-align: top;\n",
       "    }\n",
       "\n",
       "    .dataframe thead th {\n",
       "        text-align: right;\n",
       "    }\n",
       "</style>\n",
       "<table border=\"1\" class=\"dataframe\">\n",
       "  <thead>\n",
       "    <tr style=\"text-align: right;\">\n",
       "      <th></th>\n",
       "      <th>Name</th>\n",
       "      <th>Age</th>\n",
       "      <th>Sex</th>\n",
       "      <th>Department</th>\n",
       "      <th>Score</th>\n",
       "      <th>Grade</th>\n",
       "      <th>Remark</th>\n",
       "    </tr>\n",
       "  </thead>\n",
       "  <tbody>\n",
       "    <tr>\n",
       "      <th>1</th>\n",
       "      <td>Hewot</td>\n",
       "      <td>50</td>\n",
       "      <td>F</td>\n",
       "      <td>Bi</td>\n",
       "      <td>85</td>\n",
       "      <td>B</td>\n",
       "      <td>good</td>\n",
       "    </tr>\n",
       "    <tr>\n",
       "      <th>7</th>\n",
       "      <td>Selam</td>\n",
       "      <td>50</td>\n",
       "      <td>F</td>\n",
       "      <td>Bi</td>\n",
       "      <td>95</td>\n",
       "      <td>A</td>\n",
       "      <td>Excellent</td>\n",
       "    </tr>\n",
       "  </tbody>\n",
       "</table>\n",
       "</div>"
      ],
      "text/plain": [
       "    Name  Age Sex Department  Score Grade     Remark\n",
       "1  Hewot   50   F         Bi     85     B       good\n",
       "7  Selam   50   F         Bi     95     A  Excellent"
      ]
     },
     "execution_count": 37,
     "metadata": {},
     "output_type": "execute_result"
    }
   ],
   "source": [
    "merged_df.query(\"(Sex == 'F') and (Score >= 85)\", engine = 'python')"
   ]
  },
  {
   "cell_type": "markdown",
   "id": "6369326c-c5ba-40f0-b39c-41f5e19698dc",
   "metadata": {},
   "source": [
    "**Find all male students whose department is maths and whose score is greater or equal to 90.**"
   ]
  },
  {
   "cell_type": "markdown",
   "id": "40deb1d5-24a7-46a1-9106-23e373ca6462",
   "metadata": {},
   "source": [
    "Solution 1"
   ]
  },
  {
   "cell_type": "code",
   "execution_count": 38,
   "id": "d5a8540a",
   "metadata": {},
   "outputs": [
    {
     "data": {
      "text/html": [
       "<div>\n",
       "<style scoped>\n",
       "    .dataframe tbody tr th:only-of-type {\n",
       "        vertical-align: middle;\n",
       "    }\n",
       "\n",
       "    .dataframe tbody tr th {\n",
       "        vertical-align: top;\n",
       "    }\n",
       "\n",
       "    .dataframe thead th {\n",
       "        text-align: right;\n",
       "    }\n",
       "</style>\n",
       "<table border=\"1\" class=\"dataframe\">\n",
       "  <thead>\n",
       "    <tr style=\"text-align: right;\">\n",
       "      <th></th>\n",
       "      <th>Name</th>\n",
       "      <th>Age</th>\n",
       "      <th>Sex</th>\n",
       "      <th>Department</th>\n",
       "      <th>Score</th>\n",
       "      <th>Grade</th>\n",
       "      <th>Remark</th>\n",
       "    </tr>\n",
       "  </thead>\n",
       "  <tbody>\n",
       "    <tr>\n",
       "      <th>0</th>\n",
       "      <td>Abebe</td>\n",
       "      <td>40</td>\n",
       "      <td>M</td>\n",
       "      <td>Ma</td>\n",
       "      <td>90</td>\n",
       "      <td>A</td>\n",
       "      <td>Excellent</td>\n",
       "    </tr>\n",
       "    <tr>\n",
       "      <th>6</th>\n",
       "      <td>Sema</td>\n",
       "      <td>40</td>\n",
       "      <td>M</td>\n",
       "      <td>Ma</td>\n",
       "      <td>90</td>\n",
       "      <td>A</td>\n",
       "      <td>Excellent</td>\n",
       "    </tr>\n",
       "  </tbody>\n",
       "</table>\n",
       "</div>"
      ],
      "text/plain": [
       "    Name  Age Sex Department  Score Grade     Remark\n",
       "0  Abebe   40   M         Ma     90     A  Excellent\n",
       "6   Sema   40   M         Ma     90     A  Excellent"
      ]
     },
     "execution_count": 38,
     "metadata": {},
     "output_type": "execute_result"
    }
   ],
   "source": [
    "merged_df[(merged_df['Sex'] == 'M') & (merged_df['Department'] == 'Ma') & (merged_df['Score'] >= 90)]"
   ]
  },
  {
   "cell_type": "markdown",
   "id": "3c5af6d9-36f1-4143-b78f-517c7efcb41e",
   "metadata": {},
   "source": [
    "Solution 2"
   ]
  },
  {
   "cell_type": "code",
   "execution_count": 39,
   "id": "95541952-7b87-4db1-9e1c-3c28d8e521d0",
   "metadata": {},
   "outputs": [
    {
     "data": {
      "text/html": [
       "<div>\n",
       "<style scoped>\n",
       "    .dataframe tbody tr th:only-of-type {\n",
       "        vertical-align: middle;\n",
       "    }\n",
       "\n",
       "    .dataframe tbody tr th {\n",
       "        vertical-align: top;\n",
       "    }\n",
       "\n",
       "    .dataframe thead th {\n",
       "        text-align: right;\n",
       "    }\n",
       "</style>\n",
       "<table border=\"1\" class=\"dataframe\">\n",
       "  <thead>\n",
       "    <tr style=\"text-align: right;\">\n",
       "      <th></th>\n",
       "      <th>Name</th>\n",
       "      <th>Age</th>\n",
       "      <th>Sex</th>\n",
       "      <th>Department</th>\n",
       "      <th>Score</th>\n",
       "      <th>Grade</th>\n",
       "      <th>Remark</th>\n",
       "    </tr>\n",
       "  </thead>\n",
       "  <tbody>\n",
       "    <tr>\n",
       "      <th>0</th>\n",
       "      <td>Abebe</td>\n",
       "      <td>40</td>\n",
       "      <td>M</td>\n",
       "      <td>Ma</td>\n",
       "      <td>90</td>\n",
       "      <td>A</td>\n",
       "      <td>Excellent</td>\n",
       "    </tr>\n",
       "    <tr>\n",
       "      <th>6</th>\n",
       "      <td>Sema</td>\n",
       "      <td>40</td>\n",
       "      <td>M</td>\n",
       "      <td>Ma</td>\n",
       "      <td>90</td>\n",
       "      <td>A</td>\n",
       "      <td>Excellent</td>\n",
       "    </tr>\n",
       "  </tbody>\n",
       "</table>\n",
       "</div>"
      ],
      "text/plain": [
       "    Name  Age Sex Department  Score Grade     Remark\n",
       "0  Abebe   40   M         Ma     90     A  Excellent\n",
       "6   Sema   40   M         Ma     90     A  Excellent"
      ]
     },
     "execution_count": 39,
     "metadata": {},
     "output_type": "execute_result"
    }
   ],
   "source": [
    "merged_df.query(\"(Sex == 'M') and (Department == 'Ma' ) and (Score == 90)\", engine = 'python')"
   ]
  },
  {
   "cell_type": "markdown",
   "id": "b5426c09-7a23-4bf7-bf95-c1c6f37cecef",
   "metadata": {},
   "source": [
    "**Display all female students name.**"
   ]
  },
  {
   "cell_type": "code",
   "execution_count": 40,
   "id": "cf5d1bf4",
   "metadata": {},
   "outputs": [
    {
     "data": {
      "text/plain": [
       "1     Hewot\n",
       "5     Aster\n",
       "7     Selam\n",
       "11     Bety\n",
       "Name: Name, dtype: object"
      ]
     },
     "execution_count": 40,
     "metadata": {},
     "output_type": "execute_result"
    }
   ],
   "source": [
    "merged_df[merged_df['Sex'] == 'F']['Name']"
   ]
  },
  {
   "cell_type": "markdown",
   "id": "bef26844-11f6-48fe-a0a2-172a56538d63",
   "metadata": {},
   "source": [
    "**Display the students' names and scores from rows 3 to 8.**"
   ]
  },
  {
   "cell_type": "markdown",
   "id": "60830438-57a1-4995-974f-96ece09dbf17",
   "metadata": {},
   "source": [
    "Solution 1 by using the loc() method."
   ]
  },
  {
   "cell_type": "code",
   "execution_count": 41,
   "id": "443fdad7",
   "metadata": {},
   "outputs": [
    {
     "data": {
      "text/html": [
       "<div>\n",
       "<style scoped>\n",
       "    .dataframe tbody tr th:only-of-type {\n",
       "        vertical-align: middle;\n",
       "    }\n",
       "\n",
       "    .dataframe tbody tr th {\n",
       "        vertical-align: top;\n",
       "    }\n",
       "\n",
       "    .dataframe thead th {\n",
       "        text-align: right;\n",
       "    }\n",
       "</style>\n",
       "<table border=\"1\" class=\"dataframe\">\n",
       "  <thead>\n",
       "    <tr style=\"text-align: right;\">\n",
       "      <th></th>\n",
       "      <th>Name</th>\n",
       "      <th>Score</th>\n",
       "    </tr>\n",
       "  </thead>\n",
       "  <tbody>\n",
       "    <tr>\n",
       "      <th>3</th>\n",
       "      <td>Alemu</td>\n",
       "      <td>80</td>\n",
       "    </tr>\n",
       "    <tr>\n",
       "      <th>4</th>\n",
       "      <td>Kebede</td>\n",
       "      <td>89</td>\n",
       "    </tr>\n",
       "    <tr>\n",
       "      <th>5</th>\n",
       "      <td>Aster</td>\n",
       "      <td>65</td>\n",
       "    </tr>\n",
       "    <tr>\n",
       "      <th>6</th>\n",
       "      <td>Sema</td>\n",
       "      <td>90</td>\n",
       "    </tr>\n",
       "    <tr>\n",
       "      <th>7</th>\n",
       "      <td>Selam</td>\n",
       "      <td>95</td>\n",
       "    </tr>\n",
       "    <tr>\n",
       "      <th>8</th>\n",
       "      <td>Belay</td>\n",
       "      <td>70</td>\n",
       "    </tr>\n",
       "  </tbody>\n",
       "</table>\n",
       "</div>"
      ],
      "text/plain": [
       "      Name  Score\n",
       "3    Alemu     80\n",
       "4   Kebede     89\n",
       "5    Aster     65\n",
       "6     Sema     90\n",
       "7    Selam     95\n",
       "8    Belay     70"
      ]
     },
     "execution_count": 41,
     "metadata": {},
     "output_type": "execute_result"
    }
   ],
   "source": [
    "merged_df.loc[3:8, ['Name', 'Score']]"
   ]
  },
  {
   "cell_type": "markdown",
   "id": "98b24650-c9a2-4dd8-8a94-570113d0f65c",
   "metadata": {},
   "source": [
    "Solution 2 by using the iloc() method."
   ]
  },
  {
   "cell_type": "code",
   "execution_count": 42,
   "id": "81de4d0a",
   "metadata": {},
   "outputs": [
    {
     "data": {
      "text/html": [
       "<div>\n",
       "<style scoped>\n",
       "    .dataframe tbody tr th:only-of-type {\n",
       "        vertical-align: middle;\n",
       "    }\n",
       "\n",
       "    .dataframe tbody tr th {\n",
       "        vertical-align: top;\n",
       "    }\n",
       "\n",
       "    .dataframe thead th {\n",
       "        text-align: right;\n",
       "    }\n",
       "</style>\n",
       "<table border=\"1\" class=\"dataframe\">\n",
       "  <thead>\n",
       "    <tr style=\"text-align: right;\">\n",
       "      <th></th>\n",
       "      <th>Name</th>\n",
       "      <th>Score</th>\n",
       "    </tr>\n",
       "  </thead>\n",
       "  <tbody>\n",
       "    <tr>\n",
       "      <th>3</th>\n",
       "      <td>Alemu</td>\n",
       "      <td>80</td>\n",
       "    </tr>\n",
       "    <tr>\n",
       "      <th>4</th>\n",
       "      <td>Kebede</td>\n",
       "      <td>89</td>\n",
       "    </tr>\n",
       "    <tr>\n",
       "      <th>5</th>\n",
       "      <td>Aster</td>\n",
       "      <td>65</td>\n",
       "    </tr>\n",
       "    <tr>\n",
       "      <th>6</th>\n",
       "      <td>Sema</td>\n",
       "      <td>90</td>\n",
       "    </tr>\n",
       "    <tr>\n",
       "      <th>7</th>\n",
       "      <td>Selam</td>\n",
       "      <td>95</td>\n",
       "    </tr>\n",
       "    <tr>\n",
       "      <th>8</th>\n",
       "      <td>Belay</td>\n",
       "      <td>70</td>\n",
       "    </tr>\n",
       "  </tbody>\n",
       "</table>\n",
       "</div>"
      ],
      "text/plain": [
       "      Name  Score\n",
       "3    Alemu     80\n",
       "4   Kebede     89\n",
       "5    Aster     65\n",
       "6     Sema     90\n",
       "7    Selam     95\n",
       "8    Belay     70"
      ]
     },
     "execution_count": 42,
     "metadata": {},
     "output_type": "execute_result"
    }
   ],
   "source": [
    "merged_df.iloc[3:9, [0,4]]"
   ]
  },
  {
   "cell_type": "markdown",
   "id": "263b8cd5-ec72-4c31-b681-3682ac0f3126",
   "metadata": {},
   "source": [
    "### 5. PLOTTING"
   ]
  },
  {
   "cell_type": "markdown",
   "id": "05737dd7-f353-4340-b683-272a72beaedf",
   "metadata": {},
   "source": [
    "**show each sex percentage in pie chart.**"
   ]
  },
  {
   "cell_type": "code",
   "execution_count": 76,
   "id": "d55d01de",
   "metadata": {},
   "outputs": [
    {
     "data": {
      "text/plain": [
       "<Axes: >"
      ]
     },
     "execution_count": 76,
     "metadata": {},
     "output_type": "execute_result"
    },
    {
     "data": {
      "image/png": "[encoded data removed]",
      "text/plain": [
       "<Figure size 640x480 with 1 Axes>"
      ]
     },
     "metadata": {},
     "output_type": "display_data"
    }
   ],
   "source": [
    " merged_df.value_counts('Sex').plot(kind='pie',autopct = '%1.1f%%', ylabel ='')\n"
   ]
  },
  {
   "cell_type": "markdown",
   "id": "aa68b761-e1bc-4ecb-9b51-4d0db35c96fe",
   "metadata": {},
   "source": [
    "**show the percentage of remarks in pie chart.** "
   ]
  },
  {
   "cell_type": "code",
   "execution_count": 43,
   "id": "0c8634f4",
   "metadata": {},
   "outputs": [
    {
     "data": {
      "text/plain": [
       "<Axes: >"
      ]
     },
     "execution_count": 43,
     "metadata": {},
     "output_type": "execute_result"
    },
    {
     "data": {
      "image/png": "[encoded data removed]",
      "text/plain": [
       "<Figure size 640x480 with 1 Axes>"
      ]
     },
     "metadata": {},
     "output_type": "display_data"
    }
   ],
   "source": [
    " merged_df.value_counts('Remark').plot(kind='pie',autopct = '%1.1f%%', ylabel ='')"
   ]
  },
  {
   "cell_type": "code",
   "execution_count": null,
   "id": "4b6934a1-926a-4627-8c1d-f809c47831cc",
   "metadata": {},
   "outputs": [],
   "source": []
  }
 ],
 "metadata": {
  "kernelspec": {
   "display_name": "Python 3 (ipykernel)",
   "language": "python",
   "name": "python3"
  },
  "language_info": {
   "codemirror_mode": {
    "name": "ipython",
    "version": 3
   },
   "file_extension": ".py",
   "mimetype": "text/x-python",
   "name": "python",
   "nbconvert_exporter": "python",
   "pygments_lexer": "ipython3",
   "version": "3.11.7"
  }
 },
 "nbformat": 4,
 "nbformat_minor": 5
}
