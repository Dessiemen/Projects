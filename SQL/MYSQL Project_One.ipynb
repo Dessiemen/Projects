{
 "cells": [
  {
   "cell_type": "code",
   "execution_count": 1,
   "id": "0f3256b6",
   "metadata": {},
   "outputs": [],
   "source": [
    "%load_ext sql"
   ]
  },
  {
   "cell_type": "markdown",
   "id": "ceb6c3e6-d057-4844-96de-ed28014d6cac",
   "metadata": {},
   "source": [
    "### Project Overview: MySQL Database Creation and Transformation"
   ]
  },
  {
   "cell_type": "markdown",
   "id": "471a08bb-b1a9-4cd3-83be-e75e902d8e06",
   "metadata": {},
   "source": [
    "### Table of Contents"
   ]
  },
  {
   "cell_type": "markdown",
   "id": "8d0e188e-90fe-489c-ba77-046c88d095c0",
   "metadata": {},
   "source": [
    "##### A. Database Creation:\n",
    " - Create MYSQL Database  \n",
    " - Create Table\n",
    " - Insert Records Into a Table\n",
    "##### B. Data Cleaning\n",
    " - Checking Null Values\n",
    " - Removing Duplicate Records By Using Different Methods:\n",
    "    - MAX Function\n",
    "    - Self-Join\n",
    "    - Row_Number Function\n",
    "    - MIN Function\n",
    "    - Unique ID\n",
    "    - Backup Table\n",
    "##### C. Data Transformation\n",
    " - Change Data Types\n",
    " - Merge Columns\n",
    " - Splitting Column\n",
    "##### D. Data Retrieving by using:\n",
    "- Window Function\n",
    "- Recursive Query"
   ]
  },
  {
   "cell_type": "markdown",
   "id": "0d8706d3-0c80-48ae-a07f-c6f90e3669c7",
   "metadata": {},
   "source": [
    "\n",
    "#### 1. Purpose/Objective:\n",
    "\n",
    "<div style='text-align: justify;'>The purpose of this MySQL project is to demonstrate proficiency in database management and advanced SQL querying techniques through a comprehensive exploration of database creation, data cleaning, and transformation processes. The project aims to showcase  the following key aspects: \n",
    "</div/"
   ]
  },
  {
   "cell_type": "markdown",
   "id": "43786b7b-3cc7-4b31-80a1-e152f4c8c006",
   "metadata": {
    "jp-MarkdownHeadingCollapsed": true
   },
   "source": [
    "#### A. Database Creation:\n",
    "\n",
    "**Create MySQL Database:** Establishing the foundation of the project by creating a MySQL database environment.<br>\n",
    "**Create Table:** Structuring the database by defining tables with appropriate fields and data types.<br>\n",
    "**Insert Records Into a Table:** Populating the tables with sample data to facilitate subsequent data manipulation tasks."
   ]
  },
  {
   "cell_type": "markdown",
   "id": "6b4317f5-82a1-4f27-82c1-fd588faf55b0",
   "metadata": {},
   "source": [
    "#### B. Data Cleaning:\n",
    "\n",
    "- **Checking Null Values:** Identifying and handling null values within the dataset to ensure data integrity.<br>\n",
    "- **Removing Duplicate Records By Using Different Methods:**<br>\n",
    "   - **MAX Function:** Eliminating duplicate records based on the maximum value of a specific field.<br>\n",
    "   - **Self-Join:** Employing self-joins to identify and eliminate duplicate entries.<br>\n",
    "   - **Row_Number Function:** Utilizing window functions to assign row numbers and filter out duplicate rows.<br>\n",
    "   - **MIN Function:** Removing duplicate records based on the minimum value of a designated field.<br>\n",
    "   - **Unique ID:** Generating and utilizing unique identifiers to identify and remove duplicates.<br>\n",
    "   - **Backup Table:** Creating backup tables to preserve original data before performing cleaning operations."
   ]
  },
  {
   "cell_type": "markdown",
   "id": "6ffb8807-2cae-4848-a315-13f0fd1304ea",
   "metadata": {},
   "source": [
    "#### C. Data Transformation:\n",
    "\n",
    "**Change Data Types:** Modifying data types of specific columns to align with analytical requirements.<br>\n",
    "**Merge Columns:** Consolidating information from multiple columns into a single field for enhanced analysis"
   ]
  },
  {
   "cell_type": "markdown",
   "id": "8ddf7b5c-de42-47cd-9fb7-8b199fee8e8a",
   "metadata": {},
   "source": [
    "\n",
    "#### D. Data Retrieving by using:\n",
    "\n",
    "**Window Function:** Employing window functions to retrieve and analyze data within specified partitions or frames.<br>\n",
    "**Recursive Query:** Utilizing recursive queries to traverse hierarchical data structures and extract valuable insights.\n"
   ]
  },
  {
   "cell_type": "markdown",
   "id": "86f36942-a8d7-48b6-8dc8-9e8a3dadc0c0",
   "metadata": {},
   "source": [
    "#### 2. Tools Used:\n",
    "\n",
    "Throughout this project, the following tools and technologies were instrumental in its execution:\n",
    "\n",
    "- **MySQL RDBMS:** <div style='text-align:justify;'>The relational database management system used for database creation, querying, and data manipulation tasks.<br>\n",
    "</div>\n",
    "- **Jupyter Notebook:** <div style='text-align:justify;'>An interactive computing environment utilized for developing, documenting, and executing SQL queries and Python scripts.<br>\n",
    "</div>\n",
    "- **JupyterSQL and Magic Commands:** <div style='text-align: justify;'> JupyterSQL was employed to seamlessly integrate SQL queries into Jupyter Notebooks, enhancing readability and understandability. Magic commands were utilized to streamline the execution of SQL queries and display query results clearly and concisely.<br>\n",
    "   </div>                                                                                                                                                     \n",
    "- **Python Libraries for Integration:**\n",
    "   - **pymysql:** <div style='text-align:justify;'> Utilized as a Python MySQL client library, pymysql facilitated the connection to the MySQL database from within Python scripts. It enabled seamless execution of SQL queries and interaction with the database, enhancing the integration between MySQL and the Python environment.<br>\n",
    "</div>\n",
    "   - **SQLAlchemy:** <div style='text-align:justify;'> Employed as an Object-Relational Mapping (ORM) tool, SQLAlchemy provided a high-level interface for interacting with the MySQL database using Python objects. Its abstraction layer simplified database operations and offered flexibility in querying, data manipulation, and schema management, thereby enhancing productivity and code maintainability.\n",
    "</div>"
   ]
  },
  {
   "cell_type": "markdown",
   "id": "67ae7a8e-5a83-4a5a-bb0c-a6caad80b2c8",
   "metadata": {},
   "source": [
    "### A. DATABASE CREATION"
   ]
  },
  {
   "cell_type": "markdown",
   "id": "b8bb25de-333c-4f51-89a1-6edee5ca5eeb",
   "metadata": {},
   "source": [
    "#### Create MYSQL database"
   ]
  },
  {
   "cell_type": "code",
   "execution_count": 84,
   "id": "3ae72429",
   "metadata": {},
   "outputs": [
    {
     "data": {
      "text/html": [
       "<table>\n",
       "    <thead>\n",
       "        <tr>\n",
       "        </tr>\n",
       "    </thead>\n",
       "    <tbody>\n",
       "    </tbody>\n",
       "</table>"
      ],
      "text/plain": [
       "++\n",
       "||\n",
       "++\n",
       "++"
      ]
     },
     "execution_count": 84,
     "metadata": {},
     "output_type": "execute_result"
    }
   ],
   "source": [
    "%%sql\n",
    "CREATE DATABASE IF NOT EXISTS mydata_two;\n"
   ]
  },
  {
   "cell_type": "markdown",
   "id": "e213785b-30f7-4eba-b317-20a7ec891cb1",
   "metadata": {},
   "source": [
    "#### Create a table"
   ]
  },
  {
   "cell_type": "code",
   "execution_count": 8,
   "id": "20cfb706",
   "metadata": {},
   "outputs": [
    {
     "data": {
      "text/html": [
       "<table>\n",
       "    <thead>\n",
       "        <tr>\n",
       "        </tr>\n",
       "    </thead>\n",
       "    <tbody>\n",
       "    </tbody>\n",
       "</table>"
      ],
      "text/plain": [
       "++\n",
       "||\n",
       "++\n",
       "++"
      ]
     },
     "execution_count": 8,
     "metadata": {},
     "output_type": "execute_result"
    }
   ],
   "source": [
    "%%sql\n",
    "USE mydata_two;\n",
    "\n",
    "CREATE TABLE IF NOT EXISTS employees (\n",
    "    emp_id INT, -- exclude the AUTO_INCREMENT PRIMARY KEY constraint to populate duplicate IDs\n",
    "    first_name VARCHAR(50),\n",
    "    last_name VARCHAR(50),\n",
    "    gender VARCHAR(10), \n",
    "    age INT,\n",
    "    salary INT,\n",
    "    hire_date VARCHAR(50),\n",
    "    department VARCHAR(50), \n",
    "    manager_id INT,\n",
    "    address VARCHAR(50)\n",
    ");"
   ]
  },
  {
   "cell_type": "code",
   "execution_count": 9,
   "id": "e14c27a2-4371-4579-9247-47c3e17d5fbd",
   "metadata": {},
   "outputs": [
    {
     "data": {
      "text/html": [
       "<table>\n",
       "    <thead>\n",
       "        <tr>\n",
       "            <th>emp_id</th>\n",
       "            <th>first_name</th>\n",
       "            <th>last_name</th>\n",
       "            <th>gender</th>\n",
       "            <th>age</th>\n",
       "            <th>salary</th>\n",
       "            <th>hire_date</th>\n",
       "            <th>department</th>\n",
       "            <th>manager_id</th>\n",
       "            <th>address</th>\n",
       "        </tr>\n",
       "    </thead>\n",
       "    <tbody>\n",
       "    </tbody>\n",
       "</table>"
      ],
      "text/plain": [
       "+--------+------------+-----------+--------+-----+--------+-----------+------------+------------+---------+\n",
       "| emp_id | first_name | last_name | gender | age | salary | hire_date | department | manager_id | address |\n",
       "+--------+------------+-----------+--------+-----+--------+-----------+------------+------------+---------+\n",
       "+--------+------------+-----------+--------+-----+--------+-----------+------------+------------+---------+"
      ]
     },
     "execution_count": 9,
     "metadata": {},
     "output_type": "execute_result"
    }
   ],
   "source": [
    "%%sql\n",
    "SELECT * FROM employees"
   ]
  },
  {
   "cell_type": "markdown",
   "id": "36c9910d-4832-4102-a755-f1e01ba63721",
   "metadata": {},
   "source": [
    "#### Insert records into the table"
   ]
  },
  {
   "cell_type": "code",
   "execution_count": 10,
   "id": "2ae08f28-0055-4dd3-9d67-e6b05d03925d",
   "metadata": {},
   "outputs": [
    {
     "data": {
      "text/html": [
       "<table>\n",
       "    <thead>\n",
       "        <tr>\n",
       "        </tr>\n",
       "    </thead>\n",
       "    <tbody>\n",
       "    </tbody>\n",
       "</table>"
      ],
      "text/plain": [
       "++\n",
       "||\n",
       "++\n",
       "++"
      ]
     },
     "execution_count": 10,
     "metadata": {},
     "output_type": "execute_result"
    }
   ],
   "source": [
    "%%sql\n",
    "USE mydata_two;\n",
    "INSERT INTO employees(emp_id, first_name, last_name, gender, age, salary, hire_date, department, manager_id, address)\n",
    "VALUES\n",
    "(1, \"Tamirat\", \"Ketema\", \"male\", 46, 6000, \"2012-10-25\", NULL, NULL, \"33021 456 Gonder\"),\n",
    "(2, \"Bety\", \"Ayle\", \"female\", 26, 5000, \"2013-06-10\", \"Marketing\", 1, \"34034 304 Bahar_dar\"),\n",
    "(3, \"Aragaw\", \"Mola\", \"male\", 25, 4500, \"2000-03-17\", \"IT\", 6, \"45076 206 Debre_tabor\"),\n",
    "(4, \"Alemu\", \"Asmar\", \"male\", 24, 4500, \"2000-04-02\", \"Marketing\", 2, \"55076 809 Addis_Ababa\"),\n",
    "(5, \"Hiwot\", \"Kebede\", \"female\", 27, 4000, \"2016-04-23\", \"IT\", 6, \"33022 455 Gonder\"),\n",
    "(6, \"Getachew\", \"Kebede\", \"male\", 29, 5000, \"2017-06-15\", \"IT\", 1, \"34033 305 Bahar_dar\"),\n",
    "(7, \"Kidist\", \"Kebede\", \"female\", 30, 4500, \"2000-04-10\", \"Marketing\", 2, \"55075 807 Addis_Ababa\"),\n",
    "(8, \"Meseret\", \"Ayle\", \"female\", 26, 3500, \"2002-07-18\", \"HR\", 14, \"45074 205 Debre_tabor\"),\n",
    "(9, \"Gashaw\", \"Kebede\", \"male\", 26, 3000, \"2000-10-13\", \"HR\", 14, \"33022 457 Gonder\"),\n",
    "(10, \"Desta\", \"Mola\", \"male\", 23, 5000, \"2010-09-20\", \"Finance\", 1, \"34033 306 Bahar_dar\"),\n",
    "(11, \"Abebe\", \"Kassaw\", \"male\", 30, 3000, \"2022-08-15\", \"HR\", 14, \"33020 451 Gonder\"),\n",
    "(12, \"Ayalew\", \"Tamire\", \"male\", 26, 4000, \"2022-08-14\", \"Finance\", 10, \"34037 301 Bahar_dar\"),\n",
    "(13, \"Ketemaw\", \"Ketema\", \"male\", 25, 3200, \"2022-08-12\", \"IT\", 6, \"33029 457 Gonder\"),\n",
    "(14, \"Sema\", \"Bitew\", \"male\", 30, 5000, \"2023-01-13\", \"HR\", 1, \"33028 452 Gonder\"),\n",
    "(15, \"Debebe\", \"Kassie\", \"male\", 30, 3500, \"2022-11-13\", \"Marketing\", 2, \"33027 453 Gonder\"),\n",
    "(16, \"Kassaw\", \"Tamirat\", \"male\", 26, 4000, \"2022-11-16\", \"Finance\", 10, \"34037 309 Bahar_dar\"),\n",
    "(17, \"Belay\", \"Ketema\", \"male\", 25, 3500, \"2023-07-14\", \"Finance\", 10, \"33035 449 Gonder\"),\n",
    "(17, \"Belay\", \"Ketema\", \"male\", 25, 3500, \"2023-07-14\", \"Finance\", 10, \"33035 449 Gonder\"),\n",
    "(18, \"Hiwot\", \"Kebede\", \"female\", 27, 4000, \"2016-04-23\", \"IT\", 6, \"33022 455 Gonder\"),\n",
    "(19, \"Desta\", \"Mola\", \"male\", 23, 5000, \"2010-09-20\", \"Finance\", 1, \"34033 306 Bahar_dar\"),\n",
    "(20, \"Kassaw\", \"Tamirat\", \"male\", 26, 4000, \"2022-11-16\", \"Finance\", 10, \"34037 309 Bahar_dar\"); \n",
    "\n",
    "commit;"
   ]
  },
  {
   "cell_type": "markdown",
   "id": "912a3d49-0914-49cf-8a86-ced5b4ba5433",
   "metadata": {},
   "source": [
    " Dispaly the records."
   ]
  },
  {
   "cell_type": "code",
   "execution_count": 11,
   "id": "29206274-c8e9-4cf0-a121-73bfffa9d2cf",
   "metadata": {},
   "outputs": [
    {
     "data": {
      "text/html": [
       "<table>\n",
       "    <thead>\n",
       "        <tr>\n",
       "            <th>emp_id</th>\n",
       "            <th>first_name</th>\n",
       "            <th>last_name</th>\n",
       "            <th>gender</th>\n",
       "            <th>age</th>\n",
       "            <th>salary</th>\n",
       "            <th>hire_date</th>\n",
       "            <th>department</th>\n",
       "            <th>manager_id</th>\n",
       "            <th>address</th>\n",
       "        </tr>\n",
       "    </thead>\n",
       "    <tbody>\n",
       "        <tr>\n",
       "            <td>1</td>\n",
       "            <td>Tamirat</td>\n",
       "            <td>Ketema</td>\n",
       "            <td>male</td>\n",
       "            <td>46</td>\n",
       "            <td>6000</td>\n",
       "            <td>2012-10-25</td>\n",
       "            <td>None</td>\n",
       "            <td>None</td>\n",
       "            <td>33021 456 Gonder</td>\n",
       "        </tr>\n",
       "        <tr>\n",
       "            <td>2</td>\n",
       "            <td>Bety</td>\n",
       "            <td>Ayle</td>\n",
       "            <td>female</td>\n",
       "            <td>26</td>\n",
       "            <td>5000</td>\n",
       "            <td>2013-06-10</td>\n",
       "            <td>Marketing</td>\n",
       "            <td>1</td>\n",
       "            <td>34034 304 Bahar_dar</td>\n",
       "        </tr>\n",
       "        <tr>\n",
       "            <td>3</td>\n",
       "            <td>Aragaw</td>\n",
       "            <td>Mola</td>\n",
       "            <td>male</td>\n",
       "            <td>25</td>\n",
       "            <td>4500</td>\n",
       "            <td>2000-03-17</td>\n",
       "            <td>IT</td>\n",
       "            <td>6</td>\n",
       "            <td>45076 206 Debre_tabor</td>\n",
       "        </tr>\n",
       "        <tr>\n",
       "            <td>4</td>\n",
       "            <td>Alemu</td>\n",
       "            <td>Asmar</td>\n",
       "            <td>male</td>\n",
       "            <td>24</td>\n",
       "            <td>4500</td>\n",
       "            <td>2000-04-02</td>\n",
       "            <td>Marketing</td>\n",
       "            <td>2</td>\n",
       "            <td>55076 809 Addis_Ababa</td>\n",
       "        </tr>\n",
       "        <tr>\n",
       "            <td>5</td>\n",
       "            <td>Hiwot</td>\n",
       "            <td>Kebede</td>\n",
       "            <td>female</td>\n",
       "            <td>27</td>\n",
       "            <td>4000</td>\n",
       "            <td>2016-04-23</td>\n",
       "            <td>IT</td>\n",
       "            <td>6</td>\n",
       "            <td>33022 455 Gonder</td>\n",
       "        </tr>\n",
       "    </tbody>\n",
       "</table>"
      ],
      "text/plain": [
       "+--------+------------+-----------+--------+-----+--------+------------+------------+------------+-----------------------+\n",
       "| emp_id | first_name | last_name | gender | age | salary | hire_date  | department | manager_id |        address        |\n",
       "+--------+------------+-----------+--------+-----+--------+------------+------------+------------+-----------------------+\n",
       "|   1    |  Tamirat   |   Ketema  |  male  |  46 |  6000  | 2012-10-25 |    None    |    None    |    33021 456 Gonder   |\n",
       "|   2    |    Bety    |    Ayle   | female |  26 |  5000  | 2013-06-10 | Marketing  |     1      |  34034 304 Bahar_dar  |\n",
       "|   3    |   Aragaw   |    Mola   |  male  |  25 |  4500  | 2000-03-17 |     IT     |     6      | 45076 206 Debre_tabor |\n",
       "|   4    |   Alemu    |   Asmar   |  male  |  24 |  4500  | 2000-04-02 | Marketing  |     2      | 55076 809 Addis_Ababa |\n",
       "|   5    |   Hiwot    |   Kebede  | female |  27 |  4000  | 2016-04-23 |     IT     |     6      |    33022 455 Gonder   |\n",
       "+--------+------------+-----------+--------+-----+--------+------------+------------+------------+-----------------------+"
      ]
     },
     "execution_count": 11,
     "metadata": {},
     "output_type": "execute_result"
    }
   ],
   "source": [
    "%%sql\n",
    "\n",
    "SELECT * FROM employees\n",
    "LIMIT 5;\n"
   ]
  },
  {
   "cell_type": "code",
   "execution_count": null,
   "id": "c4acd7f8-365d-4c6e-bc54-64a86d2452f9",
   "metadata": {},
   "outputs": [],
   "source": [
    "Display duplicated emp_ids."
   ]
  },
  {
   "cell_type": "code",
   "execution_count": 12,
   "id": "9d781b45",
   "metadata": {},
   "outputs": [
    {
     "data": {
      "text/html": [
       "<table>\n",
       "    <thead>\n",
       "        <tr>\n",
       "            <th>emp_id</th>\n",
       "            <th>num_duplicated_id</th>\n",
       "        </tr>\n",
       "    </thead>\n",
       "    <tbody>\n",
       "        <tr>\n",
       "            <td>17</td>\n",
       "            <td>2</td>\n",
       "        </tr>\n",
       "    </tbody>\n",
       "</table>"
      ],
      "text/plain": [
       "+--------+-------------------+\n",
       "| emp_id | num_duplicated_id |\n",
       "+--------+-------------------+\n",
       "|   17   |         2         |\n",
       "+--------+-------------------+"
      ]
     },
     "execution_count": 12,
     "metadata": {},
     "output_type": "execute_result"
    }
   ],
   "source": [
    "%%sql\n",
    "SELECT  \n",
    "    emp_id,\n",
    "    COUNT(*) AS num_duplicated_id\n",
    "FROM employees\n",
    "GROUP BY emp_id\n",
    "HAVING COUNT(*) > 1;"
   ]
  },
  {
   "cell_type": "markdown",
   "id": "45b532f3",
   "metadata": {},
   "source": [
    "Identify duplicate records based on **first_name** and **last_name** columns by using group by clause."
   ]
  },
  {
   "cell_type": "code",
   "execution_count": 13,
   "id": "ab5aa0d6",
   "metadata": {},
   "outputs": [
    {
     "data": {
      "text/html": [
       "<table>\n",
       "    <thead>\n",
       "        <tr>\n",
       "            <th>first_name</th>\n",
       "            <th>last_name</th>\n",
       "            <th>duplicated_records</th>\n",
       "        </tr>\n",
       "    </thead>\n",
       "    <tbody>\n",
       "        <tr>\n",
       "            <td>Hiwot</td>\n",
       "            <td>Kebede</td>\n",
       "            <td>2</td>\n",
       "        </tr>\n",
       "        <tr>\n",
       "            <td>Desta</td>\n",
       "            <td>Mola</td>\n",
       "            <td>2</td>\n",
       "        </tr>\n",
       "        <tr>\n",
       "            <td>Kassaw</td>\n",
       "            <td>Tamirat</td>\n",
       "            <td>2</td>\n",
       "        </tr>\n",
       "        <tr>\n",
       "            <td>Belay</td>\n",
       "            <td>Ketema</td>\n",
       "            <td>2</td>\n",
       "        </tr>\n",
       "    </tbody>\n",
       "</table>"
      ],
      "text/plain": [
       "+------------+-----------+--------------------+\n",
       "| first_name | last_name | duplicated_records |\n",
       "+------------+-----------+--------------------+\n",
       "|   Hiwot    |   Kebede  |         2          |\n",
       "|   Desta    |    Mola   |         2          |\n",
       "|   Kassaw   |  Tamirat  |         2          |\n",
       "|   Belay    |   Ketema  |         2          |\n",
       "+------------+-----------+--------------------+"
      ]
     },
     "execution_count": 13,
     "metadata": {},
     "output_type": "execute_result"
    }
   ],
   "source": [
    "%%sql\n",
    "SELECT  \n",
    "    first_name,\n",
    "    last_name,\n",
    "    COUNT(*) as duplicated_records\n",
    "FROM employees\n",
    "GROUP BY first_name, last_name\n",
    "HAVING COUNT(*) > 1;"
   ]
  },
  {
   "cell_type": "markdown",
   "id": "9bd94d38",
   "metadata": {},
   "source": [
    "Identify duplicated records by using distinct method"
   ]
  },
  {
   "cell_type": "code",
   "execution_count": 14,
   "id": "feb705b7",
   "metadata": {},
   "outputs": [
    {
     "data": {
      "text/html": [
       "<table>\n",
       "    <thead>\n",
       "        <tr>\n",
       "            <th>Total_records</th>\n",
       "            <th>distinct_number_of_records</th>\n",
       "        </tr>\n",
       "    </thead>\n",
       "    <tbody>\n",
       "        <tr>\n",
       "            <td>21</td>\n",
       "            <td>17</td>\n",
       "        </tr>\n",
       "    </tbody>\n",
       "</table>"
      ],
      "text/plain": [
       "+---------------+----------------------------+\n",
       "| Total_records | distinct_number_of_records |\n",
       "+---------------+----------------------------+\n",
       "|       21      |             17             |\n",
       "+---------------+----------------------------+"
      ]
     },
     "execution_count": 14,
     "metadata": {},
     "output_type": "execute_result"
    }
   ],
   "source": [
    "%%sql\n",
    "\n",
    "SELECT\n",
    "    COUNT(first_name AND last_name) AS Total_records, \n",
    "    COUNT(DISTINCT first_name, last_name) AS distinct_number_of_records\n",
    "FROM employees;"
   ]
  },
  {
   "cell_type": "markdown",
   "id": "bc8881b1-05ae-4a83-af75-34c1b2bd7e38",
   "metadata": {},
   "source": [
    "### B. DATA CLEANING"
   ]
  },
  {
   "cell_type": "markdown",
   "id": "8596e255-7b80-48c1-933d-fa9bac385c19",
   "metadata": {},
   "source": [
    "##### CHECKING NULL VALUES "
   ]
  },
  {
   "cell_type": "markdown",
   "id": "50aebdb4-3fab-41ea-b7e2-3f065f65c938",
   "metadata": {},
   "source": [
    "Check that manager_id, salary and department columns whether they have null values or not."
   ]
  },
  {
   "cell_type": "code",
   "execution_count": 15,
   "id": "5c7b0522-6dd1-4368-a590-264e21250c56",
   "metadata": {},
   "outputs": [
    {
     "data": {
      "text/html": [
       "<table>\n",
       "    <thead>\n",
       "        <tr>\n",
       "            <th>emp_id</th>\n",
       "            <th>first_name</th>\n",
       "            <th>last_name</th>\n",
       "            <th>gender</th>\n",
       "            <th>age</th>\n",
       "            <th>salary</th>\n",
       "            <th>hire_date</th>\n",
       "            <th>department</th>\n",
       "            <th>manager_id</th>\n",
       "            <th>address</th>\n",
       "        </tr>\n",
       "    </thead>\n",
       "    <tbody>\n",
       "        <tr>\n",
       "            <td>1</td>\n",
       "            <td>Tamirat</td>\n",
       "            <td>Ketema</td>\n",
       "            <td>male</td>\n",
       "            <td>46</td>\n",
       "            <td>6000</td>\n",
       "            <td>2012-10-25</td>\n",
       "            <td>None</td>\n",
       "            <td>None</td>\n",
       "            <td>33021 456 Gonder</td>\n",
       "        </tr>\n",
       "        <tr>\n",
       "            <td>1</td>\n",
       "            <td>Tamirat</td>\n",
       "            <td>Ketema</td>\n",
       "            <td>male</td>\n",
       "            <td>46</td>\n",
       "            <td>6000</td>\n",
       "            <td>2012-10-25</td>\n",
       "            <td>None</td>\n",
       "            <td>None</td>\n",
       "            <td>33021 456 Gonder</td>\n",
       "        </tr>\n",
       "    </tbody>\n",
       "</table>"
      ],
      "text/plain": [
       "+--------+------------+-----------+--------+-----+--------+------------+------------+------------+------------------+\n",
       "| emp_id | first_name | last_name | gender | age | salary | hire_date  | department | manager_id |     address      |\n",
       "+--------+------------+-----------+--------+-----+--------+------------+------------+------------+------------------+\n",
       "|   1    |  Tamirat   |   Ketema  |  male  |  46 |  6000  | 2012-10-25 |    None    |    None    | 33021 456 Gonder |\n",
       "|   1    |  Tamirat   |   Ketema  |  male  |  46 |  6000  | 2012-10-25 |    None    |    None    | 33021 456 Gonder |\n",
       "+--------+------------+-----------+--------+-----+--------+------------+------------+------------+------------------+"
      ]
     },
     "execution_count": 15,
     "metadata": {},
     "output_type": "execute_result"
    }
   ],
   "source": [
    "%%sql\n",
    "\n",
    "SELECT *    \n",
    "FROM employees\n",
    "WHERE  manager_id IS NULL\n",
    "UNION ALL\n",
    "SELECT *\n",
    "FROM employees\n",
    "WHERE salary IS NULL\n",
    "UNION ALL\n",
    "SELECT *\n",
    "FROM employees\n",
    "WHERE department IS NULL ;"
   ]
  },
  {
   "cell_type": "markdown",
   "id": "685f2c6c-f632-4ecb-a792-994ccc4f94cb",
   "metadata": {},
   "source": [
    "##### REMOVING DUPLICATE RECORDS"
   ]
  },
  {
   "cell_type": "markdown",
   "id": "766b722b-bd5f-4b64-b303-a57f120ff2f9",
   "metadata": {},
   "source": [
    "> `1. Removing duplicate records, based on some of the columns or all columns except `ID`, by using` **MAX function**.\\\n",
    " >  `   This method deletes/removes duplicate records that appear at max(ID). If there are duplicated IDs, it removes`\\\n",
    " > `   all occurrences of duplicates. And it only works if a record occurs twice.`\n"
   ]
  },
  {
   "cell_type": "markdown",
   "id": "e65edd22",
   "metadata": {},
   "source": [
    "Step1. Select duplicated records of max(emp_id)"
   ]
  },
  {
   "cell_type": "code",
   "execution_count": 16,
   "id": "9c4927b0",
   "metadata": {},
   "outputs": [
    {
     "data": {
      "text/html": [
       "<table>\n",
       "    <thead>\n",
       "        <tr>\n",
       "            <th>max_id</th>\n",
       "        </tr>\n",
       "    </thead>\n",
       "    <tbody>\n",
       "        <tr>\n",
       "            <td>18</td>\n",
       "        </tr>\n",
       "        <tr>\n",
       "            <td>19</td>\n",
       "        </tr>\n",
       "        <tr>\n",
       "            <td>20</td>\n",
       "        </tr>\n",
       "        <tr>\n",
       "            <td>17</td>\n",
       "        </tr>\n",
       "    </tbody>\n",
       "</table>"
      ],
      "text/plain": [
       "+--------+\n",
       "| max_id |\n",
       "+--------+\n",
       "|   18   |\n",
       "|   19   |\n",
       "|   20   |\n",
       "|   17   |\n",
       "+--------+"
      ]
     },
     "execution_count": 16,
     "metadata": {},
     "output_type": "execute_result"
    }
   ],
   "source": [
    "%%sql\n",
    "SELECT max_id   \n",
    "FROM(   \n",
    "    \n",
    "        SELECT \n",
    "            first_name,\n",
    "            last_name,\n",
    "            MAX(emp_id) AS max_id\n",
    "        FROM employees\n",
    "        GROUP BY first_name, last_name\n",
    "        HAVING COUNT(*) > 1\n",
    "              ) AS subquery;\n"
   ]
  },
  {
   "cell_type": "markdown",
   "id": "985f0c20",
   "metadata": {},
   "source": [
    "Step2. Delete the selected duplicates max(emp_id) as max_id"
   ]
  },
  {
   "cell_type": "code",
   "execution_count": 17,
   "id": "fc564eed",
   "metadata": {},
   "outputs": [
    {
     "data": {
      "text/html": [
       "<table>\n",
       "    <thead>\n",
       "        <tr>\n",
       "        </tr>\n",
       "    </thead>\n",
       "    <tbody>\n",
       "    </tbody>\n",
       "</table>"
      ],
      "text/plain": [
       "++\n",
       "||\n",
       "++\n",
       "++"
      ]
     },
     "execution_count": 17,
     "metadata": {},
     "output_type": "execute_result"
    }
   ],
   "source": [
    "%%sql\n",
    " \n",
    "USE mydata_two;\n",
    "\n",
    "DELETE FROM employees   \n",
    "WHERE emp_id IN(    \n",
    "     SELECT max_id  \n",
    "     FROM(   \n",
    "            SELECT \n",
    "                first_name,\n",
    "                last_name,\n",
    "                MAX(emp_id) AS max_id\n",
    "            FROM employees\n",
    "            GROUP BY first_name, last_name\n",
    "            HAVING COUNT(*) > 1\n",
    "              ) AS subquery\n",
    "         );\n",
    "COMMIT;"
   ]
  },
  {
   "cell_type": "markdown",
   "id": "77c2d062",
   "metadata": {},
   "source": [
    "Step3.Check all the number of records and distinct records after removing duplicated records to compare with the distinct records before removing duplicates displayed above."
   ]
  },
  {
   "cell_type": "code",
   "execution_count": 18,
   "id": "ff0047b1",
   "metadata": {},
   "outputs": [
    {
     "data": {
      "text/html": [
       "<table>\n",
       "    <thead>\n",
       "        <tr>\n",
       "            <th>Total_records</th>\n",
       "            <th>distinct_records</th>\n",
       "        </tr>\n",
       "    </thead>\n",
       "    <tbody>\n",
       "        <tr>\n",
       "            <td>16</td>\n",
       "            <td>16</td>\n",
       "        </tr>\n",
       "    </tbody>\n",
       "</table>"
      ],
      "text/plain": [
       "+---------------+------------------+\n",
       "| Total_records | distinct_records |\n",
       "+---------------+------------------+\n",
       "|       16      |        16        |\n",
       "+---------------+------------------+"
      ]
     },
     "execution_count": 18,
     "metadata": {},
     "output_type": "execute_result"
    }
   ],
   "source": [
    "%%sql\n",
    "SELECT \n",
    "     COUNT(*) AS Total_records, \n",
    "     COUNT(distinct first_name, last_name)AS distinct_records \n",
    "FROM employees;"
   ]
  },
  {
   "cell_type": "markdown",
   "id": "8756a71c",
   "metadata": {},
   "source": [
    "#### Repopulating the records to the employees' table to apply another method."
   ]
  },
  {
   "cell_type": "code",
   "execution_count": 19,
   "id": "42017890-783e-480d-a859-d622f83db75f",
   "metadata": {},
   "outputs": [
    {
     "data": {
      "text/html": [
       "<table>\n",
       "    <thead>\n",
       "        <tr>\n",
       "        </tr>\n",
       "    </thead>\n",
       "    <tbody>\n",
       "    </tbody>\n",
       "</table>"
      ],
      "text/plain": [
       "++\n",
       "||\n",
       "++\n",
       "++"
      ]
     },
     "execution_count": 19,
     "metadata": {},
     "output_type": "execute_result"
    }
   ],
   "source": [
    "%%sql\n",
    "USE mydata_two;\n",
    "TRUNCATE TABLE employees;\n"
   ]
  },
  {
   "cell_type": "code",
   "execution_count": 20,
   "id": "fd423737-9817-4860-88ee-f796553cce2e",
   "metadata": {},
   "outputs": [
    {
     "data": {
      "text/html": [
       "<table>\n",
       "    <thead>\n",
       "        <tr>\n",
       "        </tr>\n",
       "    </thead>\n",
       "    <tbody>\n",
       "    </tbody>\n",
       "</table>"
      ],
      "text/plain": [
       "++\n",
       "||\n",
       "++\n",
       "++"
      ]
     },
     "execution_count": 20,
     "metadata": {},
     "output_type": "execute_result"
    }
   ],
   "source": [
    "%%sql\n",
    "USE mydata_two;\n",
    "INSERT INTO employees(emp_id, first_name, last_name, gender, age, salary, hire_date, department, manager_id, address)\n",
    "VALUES\n",
    "(1, \"Tamirat\", \"Ketema\", \"male\", 46, 6000, \"2012-10-25\", NULL, NULL, \"33021 456 Gonder\"),\n",
    "(2, \"Bety\", \"Ayle\", \"female\", 26, 5000, \"2013-06-10\", \"Marketing\", 1, \"34034 304 Bahar_dar\"),\n",
    "(3, \"Aragaw\", \"Mola\", \"male\", 25, 4500, \"2000-03-17\", \"IT\", 6, \"45076 206 Debre_tabor\"),\n",
    "(4, \"Alemu\", \"Asmar\", \"male\", 24, 4500, \"2000-04-02\", \"Marketing\", 2, \"55076 809 Addis_Ababa\"),\n",
    "(5, \"Hiwot\", \"Kebede\", \"female\", 27, 4000, \"2016-04-23\", \"IT\", 6, \"33022 455 Gonder\"),\n",
    "(6, \"Getachew\", \"Kebede\", \"male\", 29, 5000, \"2017-06-15\", \"IT\", 1, \"34033 305 Bahar_dar\"),\n",
    "(7, \"Kidist\", \"Kebede\", \"female\", 30, 4500, \"2000-04-10\", \"Marketing\", 2, \"55075 807 Addis_Ababa\"),\n",
    "(8, \"Meseret\", \"Ayle\", \"female\", 26, 3500, \"2002-07-18\", \"HR\", 14, \"45074 205 Debre_tabor\"),\n",
    "(9, \"Gashaw\", \"Kebede\", \"male\", 26, 3000, \"2000-10-13\", \"HR\", 14, \"33022 457 Gonder\"),\n",
    "(10, \"Desta\", \"Mola\", \"male\", 23, 5000, \"2010-09-20\", \"Finance\", 1, \"34033 306 Bahar_dar\"),\n",
    "(11, \"Abebe\", \"Kassaw\", \"male\", 30, 3000, \"2022-08-15\", \"HR\", 14, \"33020 451 Gonder\"),\n",
    "(12, \"Ayalew\", \"Tamire\", \"male\", 26, 4000, \"2022-08-14\", \"Finance\", 10, \"34037 301 Bahar_dar\"),\n",
    "(13, \"Ketemaw\", \"Ketema\", \"male\", 25, 3200, \"2022-08-12\", \"IT\", 6, \"33029 457 Gonder\"),\n",
    "(14, \"Sema\", \"Bitew\", \"male\", 30, 5000, \"2023-01-13\", \"HR\", 1, \"33028 452 Gonder\"),\n",
    "(15, \"Debebe\", \"Kassie\", \"male\", 30, 3500, \"2022-11-13\", \"Marketing\", 2, \"33027 453 Gonder\"),\n",
    "(16, \"Kassaw\", \"Tamirat\", \"male\", 26, 4000, \"2022-11-16\", \"Finance\", 10, \"34037 309 Bahar_dar\"),\n",
    "(17, \"Belay\", \"Ketema\", \"male\", 25, 3500, \"2023-07-14\", \"Finance\", 10, \"33035 449 Gonder\"),\n",
    "(17, \"Belay\", \"Ketema\", \"male\", 25, 3500, \"2023-07-14\", \"Finance\", 10, \"33035 449 Gonder\"),\n",
    "(18, \"Hiwot\", \"Kebede\", \"female\", 27, 4000, \"2016-04-23\", \"IT\", 6, \"33022 455 Gonder\"),\n",
    "(19, \"Desta\", \"Mola\", \"male\", 23, 5000, \"2010-09-20\", \"Finance\", 1, \"34033 306 Bahar_dar\"),\n",
    "(20, \"Kassaw\", \"Tamirat\", \"male\", 26, 4000, \"2022-11-16\", \"Finance\", 10, \"34037 309 Bahar_dar\"); \n",
    "\n",
    "commit;"
   ]
  },
  {
   "cell_type": "markdown",
   "id": "21a7b182",
   "metadata": {},
   "source": [
    "> `2. Removing duplicate records, based on some of the columns or all columns except ID, by using` **self-join**.\\\n",
    "      >   `   This method deletes/removes the max(ID) or min(ID) from duplicate records, and it depends on the conditions` \\\n",
    "      >   `    that we choose. If there are duplicate `IDs`, it will not remove duplicate records appearing at duplicate IDS.`"
   ]
  },
  {
   "cell_type": "markdown",
   "id": "20473777",
   "metadata": {},
   "source": [
    "Step1. Create sef join of employees table and select the max(emp_id) from duplicate records."
   ]
  },
  {
   "cell_type": "code",
   "execution_count": 21,
   "id": "a1699247",
   "metadata": {},
   "outputs": [
    {
     "data": {
      "text/html": [
       "<table>\n",
       "    <thead>\n",
       "        <tr>\n",
       "            <th>emp_id</th>\n",
       "        </tr>\n",
       "    </thead>\n",
       "    <tbody>\n",
       "        <tr>\n",
       "            <td>18</td>\n",
       "        </tr>\n",
       "        <tr>\n",
       "            <td>19</td>\n",
       "        </tr>\n",
       "        <tr>\n",
       "            <td>20</td>\n",
       "        </tr>\n",
       "    </tbody>\n",
       "</table>"
      ],
      "text/plain": [
       "+--------+\n",
       "| emp_id |\n",
       "+--------+\n",
       "|   18   |\n",
       "|   19   |\n",
       "|   20   |\n",
       "+--------+"
      ]
     },
     "execution_count": 21,
     "metadata": {},
     "output_type": "execute_result"
    }
   ],
   "source": [
    "%%sql\n",
    "\n",
    "SELECT e1.emp_id  FROM employees e1\n",
    "INNER JOIN employees e2 \n",
    "ON e1.first_name = e2.first_name AND e1.last_name = e2.last_name\n",
    "WHERE e1.emp_id > e2.emp_id;\n"
   ]
  },
  {
   "cell_type": "markdown",
   "id": "66aaa241",
   "metadata": {},
   "source": [
    "Step2. Delete duplicate records occurred at max(emp_id)."
   ]
  },
  {
   "cell_type": "code",
   "execution_count": 22,
   "id": "302b9314",
   "metadata": {},
   "outputs": [
    {
     "data": {
      "text/html": [
       "<table>\n",
       "    <thead>\n",
       "        <tr>\n",
       "        </tr>\n",
       "    </thead>\n",
       "    <tbody>\n",
       "    </tbody>\n",
       "</table>"
      ],
      "text/plain": [
       "++\n",
       "||\n",
       "++\n",
       "++"
      ]
     },
     "execution_count": 22,
     "metadata": {},
     "output_type": "execute_result"
    }
   ],
   "source": [
    "%%sql\n",
    "USE mydata_two;\n",
    "\n",
    "DELETE e1 FROM employees e1\n",
    "INNER JOIN employees e2 ON e1.first_name = e2.first_name AND e1.last_name = e2.last_name\n",
    "WHERE e1.emp_id > e2.emp_id;\n",
    "\n",
    "COMMIT;"
   ]
  },
  {
   "cell_type": "markdown",
   "id": "b16d8a76",
   "metadata": {},
   "source": [
    "Count records after removing duplicate records."
   ]
  },
  {
   "cell_type": "code",
   "execution_count": 23,
   "id": "072416ef",
   "metadata": {},
   "outputs": [
    {
     "data": {
      "text/html": [
       "<table>\n",
       "    <thead>\n",
       "        <tr>\n",
       "            <th>num_records</th>\n",
       "        </tr>\n",
       "    </thead>\n",
       "    <tbody>\n",
       "        <tr>\n",
       "            <td>18</td>\n",
       "        </tr>\n",
       "    </tbody>\n",
       "</table>"
      ],
      "text/plain": [
       "+-------------+\n",
       "| num_records |\n",
       "+-------------+\n",
       "|      18     |\n",
       "+-------------+"
      ]
     },
     "execution_count": 23,
     "metadata": {},
     "output_type": "execute_result"
    }
   ],
   "source": [
    "%%sql\n",
    "SELECT COUNT(*) AS num_records FROM employees;"
   ]
  },
  {
   "cell_type": "markdown",
   "id": "1ff8b3ca-0478-4965-95cb-53318c65286e",
   "metadata": {},
   "source": [
    "Step4. Check, if there are still duplicate records in the data because the **self join** method doesn't delete duplicate records appearing at duplicate IDs."
   ]
  },
  {
   "cell_type": "code",
   "execution_count": 24,
   "id": "34c1b838",
   "metadata": {},
   "outputs": [
    {
     "data": {
      "text/html": [
       "<table>\n",
       "    <thead>\n",
       "        <tr>\n",
       "            <th>first_name</th>\n",
       "            <th>last_name</th>\n",
       "            <th>duplicated_records</th>\n",
       "        </tr>\n",
       "    </thead>\n",
       "    <tbody>\n",
       "        <tr>\n",
       "            <td>Belay</td>\n",
       "            <td>Ketema</td>\n",
       "            <td>2</td>\n",
       "        </tr>\n",
       "    </tbody>\n",
       "</table>"
      ],
      "text/plain": [
       "+------------+-----------+--------------------+\n",
       "| first_name | last_name | duplicated_records |\n",
       "+------------+-----------+--------------------+\n",
       "|   Belay    |   Ketema  |         2          |\n",
       "+------------+-----------+--------------------+"
      ]
     },
     "execution_count": 24,
     "metadata": {},
     "output_type": "execute_result"
    }
   ],
   "source": [
    "%%sql\n",
    "SELECT  \n",
    "    first_name,\n",
    "    last_name,\n",
    "    COUNT(*) as duplicated_records\n",
    "FROM employees\n",
    "GROUP BY first_name, last_name\n",
    "HAVING COUNT(*) > 1;"
   ]
  },
  {
   "cell_type": "markdown",
   "id": "7a3bcfee-5214-4539-ac9a-93f66d94ab43",
   "metadata": {},
   "source": [
    "#### Repopulating the records to apply another method"
   ]
  },
  {
   "cell_type": "code",
   "execution_count": 25,
   "id": "cb99698c-b671-4706-b101-0f613448d235",
   "metadata": {},
   "outputs": [
    {
     "data": {
      "text/html": [
       "<table>\n",
       "    <thead>\n",
       "        <tr>\n",
       "        </tr>\n",
       "    </thead>\n",
       "    <tbody>\n",
       "    </tbody>\n",
       "</table>"
      ],
      "text/plain": [
       "++\n",
       "||\n",
       "++\n",
       "++"
      ]
     },
     "execution_count": 25,
     "metadata": {},
     "output_type": "execute_result"
    }
   ],
   "source": [
    "%%sql\n",
    "USE mydata_two;\n",
    "TRUNCATE TABLE employees;\n"
   ]
  },
  {
   "cell_type": "code",
   "execution_count": 26,
   "id": "c1e809a4-35e3-42fe-901c-4dca107b2e4e",
   "metadata": {},
   "outputs": [
    {
     "data": {
      "text/html": [
       "<table>\n",
       "    <thead>\n",
       "        <tr>\n",
       "        </tr>\n",
       "    </thead>\n",
       "    <tbody>\n",
       "    </tbody>\n",
       "</table>"
      ],
      "text/plain": [
       "++\n",
       "||\n",
       "++\n",
       "++"
      ]
     },
     "execution_count": 26,
     "metadata": {},
     "output_type": "execute_result"
    }
   ],
   "source": [
    "%%sql\n",
    "USE mydata_two;\n",
    "INSERT INTO employees(emp_id, first_name, last_name, gender, age, salary, hire_date, department, manager_id, address)\n",
    "VALUES\n",
    "(1, \"Tamirat\", \"Ketema\", \"male\", 46, 6000, \"2012-10-25\", NULL, NULL, \"33021 456 Gonder\"),\n",
    "(2, \"Bety\", \"Ayle\", \"female\", 26, 5000, \"2013-06-10\", \"Marketing\", 1, \"34034 304 Bahar_dar\"),\n",
    "(3, \"Aragaw\", \"Mola\", \"male\", 25, 4500, \"2000-03-17\", \"IT\", 6, \"45076 206 Debre_tabor\"),\n",
    "(4, \"Alemu\", \"Asmar\", \"male\", 24, 4500, \"2000-04-02\", \"Marketing\", 2, \"55076 809 Addis_Ababa\"),\n",
    "(5, \"Hiwot\", \"Kebede\", \"female\", 27, 4000, \"2016-04-23\", \"IT\", 6, \"33022 455 Gonder\"),\n",
    "(6, \"Getachew\", \"Kebede\", \"male\", 29, 5000, \"2017-06-15\", \"IT\", 1, \"34033 305 Bahar_dar\"),\n",
    "(7, \"Kidist\", \"Kebede\", \"female\", 30, 4500, \"2000-04-10\", \"Marketing\", 2, \"55075 807 Addis_Ababa\"),\n",
    "(8, \"Meseret\", \"Ayle\", \"female\", 26, 3500, \"2002-07-18\", \"HR\", 14, \"45074 205 Debre_tabor\"),\n",
    "(9, \"Gashaw\", \"Kebede\", \"male\", 26, 3000, \"2000-10-13\", \"HR\", 14, \"33022 457 Gonder\"),\n",
    "(10, \"Desta\", \"Mola\", \"male\", 23, 5000, \"2010-09-20\", \"Finance\", 1, \"34033 306 Bahar_dar\"),\n",
    "(11, \"Abebe\", \"Kassaw\", \"male\", 30, 3000, \"2022-08-15\", \"HR\", 14, \"33020 451 Gonder\"),\n",
    "(12, \"Ayalew\", \"Tamire\", \"male\", 26, 4000, \"2022-08-14\", \"Finance\", 10, \"34037 301 Bahar_dar\"),\n",
    "(13, \"Ketemaw\", \"Ketema\", \"male\", 25, 3200, \"2022-08-12\", \"IT\", 6, \"33029 457 Gonder\"),\n",
    "(14, \"Sema\", \"Bitew\", \"male\", 30, 5000, \"2023-01-13\", \"HR\", 1, \"33028 452 Gonder\"),\n",
    "(15, \"Debebe\", \"Kassie\", \"male\", 30, 3500, \"2022-11-13\", \"Marketing\", 2, \"33027 453 Gonder\"),\n",
    "(16, \"Kassaw\", \"Tamirat\", \"male\", 26, 4000, \"2022-11-16\", \"Finance\", 10, \"34037 309 Bahar_dar\"),\n",
    "(17, \"Belay\", \"Ketema\", \"male\", 25, 3500, \"2023-07-14\", \"Finance\", 10, \"33035 449 Gonder\"),\n",
    "(17, \"Belay\", \"Ketema\", \"male\", 25, 3500, \"2023-07-14\", \"Finance\", 10, \"33035 449 Gonder\"),\n",
    "(18, \"Hiwot\", \"Kebede\", \"female\", 27, 4000, \"2016-04-23\", \"IT\", 6, \"33022 455 Gonder\"),\n",
    "(19, \"Desta\", \"Mola\", \"male\", 23, 5000, \"2010-09-20\", \"Finance\", 1, \"34033 306 Bahar_dar\"),\n",
    "(20, \"Kassaw\", \"Tamirat\", \"male\", 26, 4000, \"2022-11-16\", \"Finance\", 10, \"34037 309 Bahar_dar\"); \n",
    "\n",
    "commit;"
   ]
  },
  {
   "cell_type": "markdown",
   "id": "aad3fc95-880a-44ad-9e33-e05b638f89b9",
   "metadata": {},
   "source": [
    "> `3. Removing duplicate records by using the ` **row_number() function**. "
   ]
  },
  {
   "cell_type": "markdown",
   "id": "02abe620-1587-4085-8d33-7e817cc15215",
   "metadata": {},
   "source": [
    "Step1. Create a row_number as rn"
   ]
  },
  {
   "cell_type": "code",
   "execution_count": 27,
   "id": "3a42b02a",
   "metadata": {
    "scrolled": true
   },
   "outputs": [
    {
     "data": {
      "text/html": [
       "<table>\n",
       "    <thead>\n",
       "        <tr>\n",
       "            <th>emp_id</th>\n",
       "            <th>first_name</th>\n",
       "            <th>last_name</th>\n",
       "            <th>gender</th>\n",
       "            <th>age</th>\n",
       "            <th>salary</th>\n",
       "            <th>hire_date</th>\n",
       "            <th>department</th>\n",
       "            <th>manager_id</th>\n",
       "            <th>address</th>\n",
       "            <th>rn</th>\n",
       "        </tr>\n",
       "    </thead>\n",
       "    <tbody>\n",
       "        <tr>\n",
       "            <td>11</td>\n",
       "            <td>Abebe</td>\n",
       "            <td>Kassaw</td>\n",
       "            <td>male</td>\n",
       "            <td>30</td>\n",
       "            <td>3000</td>\n",
       "            <td>2022-08-15</td>\n",
       "            <td>HR</td>\n",
       "            <td>14</td>\n",
       "            <td>33020 451 Gonder</td>\n",
       "            <td>1</td>\n",
       "        </tr>\n",
       "        <tr>\n",
       "            <td>4</td>\n",
       "            <td>Alemu</td>\n",
       "            <td>Asmar</td>\n",
       "            <td>male</td>\n",
       "            <td>24</td>\n",
       "            <td>4500</td>\n",
       "            <td>2000-04-02</td>\n",
       "            <td>Marketing</td>\n",
       "            <td>2</td>\n",
       "            <td>55076 809 Addis_Ababa</td>\n",
       "            <td>1</td>\n",
       "        </tr>\n",
       "        <tr>\n",
       "            <td>3</td>\n",
       "            <td>Aragaw</td>\n",
       "            <td>Mola</td>\n",
       "            <td>male</td>\n",
       "            <td>25</td>\n",
       "            <td>4500</td>\n",
       "            <td>2000-03-17</td>\n",
       "            <td>IT</td>\n",
       "            <td>6</td>\n",
       "            <td>45076 206 Debre_tabor</td>\n",
       "            <td>1</td>\n",
       "        </tr>\n",
       "        <tr>\n",
       "            <td>12</td>\n",
       "            <td>Ayalew</td>\n",
       "            <td>Tamire</td>\n",
       "            <td>male</td>\n",
       "            <td>26</td>\n",
       "            <td>4000</td>\n",
       "            <td>2022-08-14</td>\n",
       "            <td>Finance</td>\n",
       "            <td>10</td>\n",
       "            <td>34037 301 Bahar_dar</td>\n",
       "            <td>1</td>\n",
       "        </tr>\n",
       "        <tr>\n",
       "            <td>17</td>\n",
       "            <td>Belay</td>\n",
       "            <td>Ketema</td>\n",
       "            <td>male</td>\n",
       "            <td>25</td>\n",
       "            <td>3500</td>\n",
       "            <td>2023-07-14</td>\n",
       "            <td>Finance</td>\n",
       "            <td>10</td>\n",
       "            <td>33035 449 Gonder</td>\n",
       "            <td>1</td>\n",
       "        </tr>\n",
       "        <tr>\n",
       "            <td>17</td>\n",
       "            <td>Belay</td>\n",
       "            <td>Ketema</td>\n",
       "            <td>male</td>\n",
       "            <td>25</td>\n",
       "            <td>3500</td>\n",
       "            <td>2023-07-14</td>\n",
       "            <td>Finance</td>\n",
       "            <td>10</td>\n",
       "            <td>33035 449 Gonder</td>\n",
       "            <td>2</td>\n",
       "        </tr>\n",
       "        <tr>\n",
       "            <td>2</td>\n",
       "            <td>Bety</td>\n",
       "            <td>Ayle</td>\n",
       "            <td>female</td>\n",
       "            <td>26</td>\n",
       "            <td>5000</td>\n",
       "            <td>2013-06-10</td>\n",
       "            <td>Marketing</td>\n",
       "            <td>1</td>\n",
       "            <td>34034 304 Bahar_dar</td>\n",
       "            <td>1</td>\n",
       "        </tr>\n",
       "        <tr>\n",
       "            <td>15</td>\n",
       "            <td>Debebe</td>\n",
       "            <td>Kassie</td>\n",
       "            <td>male</td>\n",
       "            <td>30</td>\n",
       "            <td>3500</td>\n",
       "            <td>2022-11-13</td>\n",
       "            <td>Marketing</td>\n",
       "            <td>2</td>\n",
       "            <td>33027 453 Gonder</td>\n",
       "            <td>1</td>\n",
       "        </tr>\n",
       "        <tr>\n",
       "            <td>10</td>\n",
       "            <td>Desta</td>\n",
       "            <td>Mola</td>\n",
       "            <td>male</td>\n",
       "            <td>23</td>\n",
       "            <td>5000</td>\n",
       "            <td>2010-09-20</td>\n",
       "            <td>Finance</td>\n",
       "            <td>1</td>\n",
       "            <td>34033 306 Bahar_dar</td>\n",
       "            <td>1</td>\n",
       "        </tr>\n",
       "        <tr>\n",
       "            <td>19</td>\n",
       "            <td>Desta</td>\n",
       "            <td>Mola</td>\n",
       "            <td>male</td>\n",
       "            <td>23</td>\n",
       "            <td>5000</td>\n",
       "            <td>2010-09-20</td>\n",
       "            <td>Finance</td>\n",
       "            <td>1</td>\n",
       "            <td>34033 306 Bahar_dar</td>\n",
       "            <td>2</td>\n",
       "        </tr>\n",
       "    </tbody>\n",
       "</table>\n",
       "<span style=\"font-style:italic;text-align:center;\">Truncated to <a href=\"https://jupysql.ploomber.io/en/latest/api/configuration.html#displaylimit\">displaylimit</a> of 10.</span>"
      ],
      "text/plain": [
       "+--------+------------+-----------+--------+-----+--------+------------+------------+------------+-----------------------+----+\n",
       "| emp_id | first_name | last_name | gender | age | salary | hire_date  | department | manager_id |        address        | rn |\n",
       "+--------+------------+-----------+--------+-----+--------+------------+------------+------------+-----------------------+----+\n",
       "|   11   |   Abebe    |   Kassaw  |  male  |  30 |  3000  | 2022-08-15 |     HR     |     14     |    33020 451 Gonder   | 1  |\n",
       "|   4    |   Alemu    |   Asmar   |  male  |  24 |  4500  | 2000-04-02 | Marketing  |     2      | 55076 809 Addis_Ababa | 1  |\n",
       "|   3    |   Aragaw   |    Mola   |  male  |  25 |  4500  | 2000-03-17 |     IT     |     6      | 45076 206 Debre_tabor | 1  |\n",
       "|   12   |   Ayalew   |   Tamire  |  male  |  26 |  4000  | 2022-08-14 |  Finance   |     10     |  34037 301 Bahar_dar  | 1  |\n",
       "|   17   |   Belay    |   Ketema  |  male  |  25 |  3500  | 2023-07-14 |  Finance   |     10     |    33035 449 Gonder   | 1  |\n",
       "|   17   |   Belay    |   Ketema  |  male  |  25 |  3500  | 2023-07-14 |  Finance   |     10     |    33035 449 Gonder   | 2  |\n",
       "|   2    |    Bety    |    Ayle   | female |  26 |  5000  | 2013-06-10 | Marketing  |     1      |  34034 304 Bahar_dar  | 1  |\n",
       "|   15   |   Debebe   |   Kassie  |  male  |  30 |  3500  | 2022-11-13 | Marketing  |     2      |    33027 453 Gonder   | 1  |\n",
       "|   10   |   Desta    |    Mola   |  male  |  23 |  5000  | 2010-09-20 |  Finance   |     1      |  34033 306 Bahar_dar  | 1  |\n",
       "|   19   |   Desta    |    Mola   |  male  |  23 |  5000  | 2010-09-20 |  Finance   |     1      |  34033 306 Bahar_dar  | 2  |\n",
       "+--------+------------+-----------+--------+-----+--------+------------+------------+------------+-----------------------+----+\n",
       "Truncated to displaylimit of 10."
      ]
     },
     "execution_count": 27,
     "metadata": {},
     "output_type": "execute_result"
    }
   ],
   "source": [
    "%%sql\n",
    "\n",
    "SELECT *,\n",
    "        row_number() over(PARTITION BY first_name, last_name) AS rn\n",
    "FROM employees\n",
    ";"
   ]
  },
  {
   "cell_type": "markdown",
   "id": "e425f210-5a85-40d4-9ed4-139e7f52809f",
   "metadata": {},
   "source": [
    "Step2. Identify duplicate records by using row_number"
   ]
  },
  {
   "cell_type": "code",
   "execution_count": 28,
   "id": "77475d4d",
   "metadata": {},
   "outputs": [
    {
     "data": {
      "text/html": [
       "<table>\n",
       "    <thead>\n",
       "        <tr>\n",
       "            <th>emp_id</th>\n",
       "        </tr>\n",
       "    </thead>\n",
       "    <tbody>\n",
       "        <tr>\n",
       "            <td>17</td>\n",
       "        </tr>\n",
       "        <tr>\n",
       "            <td>18</td>\n",
       "        </tr>\n",
       "        <tr>\n",
       "            <td>19</td>\n",
       "        </tr>\n",
       "        <tr>\n",
       "            <td>20</td>\n",
       "        </tr>\n",
       "    </tbody>\n",
       "</table>"
      ],
      "text/plain": [
       "+--------+\n",
       "| emp_id |\n",
       "+--------+\n",
       "|   17   |\n",
       "|   18   |\n",
       "|   19   |\n",
       "|   20   |\n",
       "+--------+"
      ]
     },
     "execution_count": 28,
     "metadata": {},
     "output_type": "execute_result"
    }
   ],
   "source": [
    "%%sql\n",
    "\n",
    "    SELECT emp_id\n",
    "    FROM(\n",
    "        SELECT *,\n",
    "             row_number() over(PARTITION BY first_name, last_name) AS rn\n",
    "        FROM employees\n",
    "        ORDER BY emp_id\n",
    "        ) AS subquery\n",
    "    WHERE rn > 1"
   ]
  },
  {
   "cell_type": "markdown",
   "id": "7af7f64d-cd76-4835-9596-951c50d05c68",
   "metadata": {},
   "source": [
    "Step3. Delete duplicate records by using row_number"
   ]
  },
  {
   "cell_type": "code",
   "execution_count": 29,
   "id": "66fef0c3",
   "metadata": {},
   "outputs": [
    {
     "data": {
      "text/html": [
       "<table>\n",
       "    <thead>\n",
       "        <tr>\n",
       "        </tr>\n",
       "    </thead>\n",
       "    <tbody>\n",
       "    </tbody>\n",
       "</table>"
      ],
      "text/plain": [
       "++\n",
       "||\n",
       "++\n",
       "++"
      ]
     },
     "execution_count": 29,
     "metadata": {},
     "output_type": "execute_result"
    }
   ],
   "source": [
    "%%sql\n",
    "USE mydata_two;\n",
    "\n",
    "DELETE FROM employees\n",
    "WHERE emp_id NOT IN(\n",
    "        SELECT emp_id\n",
    "        FROM(\n",
    "            SELECT *,\n",
    "                 row_number() over(PARTITION BY first_name, last_name) AS rn\n",
    "            FROM employees\n",
    "            ORDER BY emp_id\n",
    "            ) AS subquery\n",
    "         WHERE rn < 2\n",
    "        );\n",
    "\n",
    "COMMIT;"
   ]
  },
  {
   "cell_type": "markdown",
   "id": "39583b23-1f32-4915-b22f-129c51ddbe76",
   "metadata": {},
   "source": [
    "Step4. Check, if there are still duplicate records in the data because the **row_number** method doesn't delete duplicate records appearing at duplicate IDs."
   ]
  },
  {
   "cell_type": "code",
   "execution_count": 30,
   "id": "17b9b94c-14e6-47e3-b6c9-d4359a4730c7",
   "metadata": {},
   "outputs": [
    {
     "data": {
      "text/html": [
       "<table>\n",
       "    <thead>\n",
       "        <tr>\n",
       "            <th>Total_records</th>\n",
       "            <th>distinct_records</th>\n",
       "        </tr>\n",
       "    </thead>\n",
       "    <tbody>\n",
       "        <tr>\n",
       "            <td>18</td>\n",
       "            <td>17</td>\n",
       "        </tr>\n",
       "    </tbody>\n",
       "</table>"
      ],
      "text/plain": [
       "+---------------+------------------+\n",
       "| Total_records | distinct_records |\n",
       "+---------------+------------------+\n",
       "|       18      |        17        |\n",
       "+---------------+------------------+"
      ]
     },
     "execution_count": 30,
     "metadata": {},
     "output_type": "execute_result"
    }
   ],
   "source": [
    "%%sql\n",
    "SELECT \n",
    "     COUNT(*) AS Total_records, \n",
    "     COUNT(distinct first_name, last_name)AS distinct_records \n",
    "FROM employees;"
   ]
  },
  {
   "cell_type": "markdown",
   "id": "df632503-57ce-4ed7-899d-989162f04ab6",
   "metadata": {},
   "source": [
    "Step5. Drop the row_number."
   ]
  },
  {
   "cell_type": "markdown",
   "id": "ba7a03be-a69b-4b2c-9724-0fe1c6a7ace9",
   "metadata": {},
   "source": [
    "#### Repopulating the records to apply another method"
   ]
  },
  {
   "cell_type": "code",
   "execution_count": 31,
   "id": "0772a5e2-b6a5-41a4-a61a-6be5c6e7fa02",
   "metadata": {},
   "outputs": [
    {
     "data": {
      "text/html": [
       "<table>\n",
       "    <thead>\n",
       "        <tr>\n",
       "        </tr>\n",
       "    </thead>\n",
       "    <tbody>\n",
       "    </tbody>\n",
       "</table>"
      ],
      "text/plain": [
       "++\n",
       "||\n",
       "++\n",
       "++"
      ]
     },
     "execution_count": 31,
     "metadata": {},
     "output_type": "execute_result"
    }
   ],
   "source": [
    "%%sql\n",
    "USE mydata_two;\n",
    "TRUNCATE TABLE employees;\n"
   ]
  },
  {
   "cell_type": "code",
   "execution_count": 32,
   "id": "5787166b-4197-4955-823b-41d68c1f7f53",
   "metadata": {},
   "outputs": [
    {
     "data": {
      "text/html": [
       "<table>\n",
       "    <thead>\n",
       "        <tr>\n",
       "        </tr>\n",
       "    </thead>\n",
       "    <tbody>\n",
       "    </tbody>\n",
       "</table>"
      ],
      "text/plain": [
       "++\n",
       "||\n",
       "++\n",
       "++"
      ]
     },
     "execution_count": 32,
     "metadata": {},
     "output_type": "execute_result"
    }
   ],
   "source": [
    "%%sql\n",
    "USE mydata_two;\n",
    "INSERT INTO employees(emp_id, first_name, last_name, gender, age, salary, hire_date, department, manager_id, address)\n",
    "VALUES\n",
    "(1, \"Tamirat\", \"Ketema\", \"male\", 46, 6000, \"2012-10-25\", NULL, NULL, \"33021 456 Gonder\"),\n",
    "(2, \"Bety\", \"Ayle\", \"female\", 26, 5000, \"2013-06-10\", \"Marketing\", 1, \"34034 304 Bahar_dar\"),\n",
    "(3, \"Aragaw\", \"Mola\", \"male\", 25, 4500, \"2000-03-17\", \"IT\", 6, \"45076 206 Debre_tabor\"),\n",
    "(4, \"Alemu\", \"Asmar\", \"male\", 24, 4500, \"2000-04-02\", \"Marketing\", 2, \"55076 809 Addis_Ababa\"),\n",
    "(5, \"Hiwot\", \"Kebede\", \"female\", 27, 4000, \"2016-04-23\", \"IT\", 6, \"33022 455 Gonder\"),\n",
    "(6, \"Getachew\", \"Kebede\", \"male\", 29, 5000, \"2017-06-15\", \"IT\", 1, \"34033 305 Bahar_dar\"),\n",
    "(7, \"Kidist\", \"Kebede\", \"female\", 30, 4500, \"2000-04-10\", \"Marketing\", 2, \"55075 807 Addis_Ababa\"),\n",
    "(8, \"Meseret\", \"Ayle\", \"female\", 26, 3500, \"2002-07-18\", \"HR\", 14, \"45074 205 Debre_tabor\"),\n",
    "(9, \"Gashaw\", \"Kebede\", \"male\", 26, 3000, \"2000-10-13\", \"HR\", 14, \"33022 457 Gonder\"),\n",
    "(10, \"Desta\", \"Mola\", \"male\", 23, 5000, \"2010-09-20\", \"Finance\", 1, \"34033 306 Bahar_dar\"),\n",
    "(11, \"Abebe\", \"Kassaw\", \"male\", 30, 3000, \"2022-08-15\", \"HR\", 14, \"33020 451 Gonder\"),\n",
    "(12, \"Ayalew\", \"Tamire\", \"male\", 26, 4000, \"2022-08-14\", \"Finance\", 10, \"34037 301 Bahar_dar\"),\n",
    "(13, \"Ketemaw\", \"Ketema\", \"male\", 25, 3200, \"2022-08-12\", \"IT\", 6, \"33029 457 Gonder\"),\n",
    "(14, \"Sema\", \"Bitew\", \"male\", 30, 5000, \"2023-01-13\", \"HR\", 1, \"33028 452 Gonder\"),\n",
    "(15, \"Debebe\", \"Kassie\", \"male\", 30, 3500, \"2022-11-13\", \"Marketing\", 2, \"33027 453 Gonder\"),\n",
    "(16, \"Kassaw\", \"Tamirat\", \"male\", 26, 4000, \"2022-11-16\", \"Finance\", 10, \"34037 309 Bahar_dar\"),\n",
    "(17, \"Belay\", \"Ketema\", \"male\", 25, 3500, \"2023-07-14\", \"Finance\", 10, \"33035 449 Gonder\"),\n",
    "(17, \"Belay\", \"Ketema\", \"male\", 25, 3500, \"2023-07-14\", \"Finance\", 10, \"33035 449 Gonder\"),\n",
    "(18, \"Hiwot\", \"Kebede\", \"female\", 27, 4000, \"2016-04-23\", \"IT\", 6, \"33022 455 Gonder\"),\n",
    "(19, \"Desta\", \"Mola\", \"male\", 23, 5000, \"2010-09-20\", \"Finance\", 1, \"34033 306 Bahar_dar\"),\n",
    "(20, \"Kassaw\", \"Tamirat\", \"male\", 26, 4000, \"2022-11-16\", \"Finance\", 10, \"34037 309 Bahar_dar\"); \n",
    "\n",
    "commit;"
   ]
  },
  {
   "cell_type": "markdown",
   "id": "e5928def-b231-476c-bbe5-edaaa31a6982",
   "metadata": {},
   "source": [
    "> `4.   Removing duplicate records by using the` **MIN function**.`This method is useful when there are multiple duplicate records` <br> \n",
    "  >    `     in data. Even, this method has still limitations when there are duplicate IDs. It doesn't remove duplicate records` <br> \n",
    "  >     `     appearing at duplicate IDs.`"
   ]
  },
  {
   "cell_type": "markdown",
   "id": "eed0d04f-8c96-4f8e-acca-4cdc4ad81e50",
   "metadata": {},
   "source": [
    "Step1. Select duplicated records appearing at min(emp_id)"
   ]
  },
  {
   "cell_type": "code",
   "execution_count": 33,
   "id": "cf37af64-4561-4819-a754-0b99181c7bd7",
   "metadata": {},
   "outputs": [
    {
     "data": {
      "text/html": [
       "<table>\n",
       "    <thead>\n",
       "        <tr>\n",
       "            <th>min_id</th>\n",
       "        </tr>\n",
       "    </thead>\n",
       "    <tbody>\n",
       "        <tr>\n",
       "            <td>5</td>\n",
       "        </tr>\n",
       "        <tr>\n",
       "            <td>10</td>\n",
       "        </tr>\n",
       "        <tr>\n",
       "            <td>16</td>\n",
       "        </tr>\n",
       "        <tr>\n",
       "            <td>17</td>\n",
       "        </tr>\n",
       "    </tbody>\n",
       "</table>"
      ],
      "text/plain": [
       "+--------+\n",
       "| min_id |\n",
       "+--------+\n",
       "|   5    |\n",
       "|   10   |\n",
       "|   16   |\n",
       "|   17   |\n",
       "+--------+"
      ]
     },
     "execution_count": 33,
     "metadata": {},
     "output_type": "execute_result"
    }
   ],
   "source": [
    "%%sql\n",
    "SELECT min_id   \n",
    "FROM(   \n",
    "    SELECT \n",
    "        first_name,\n",
    "        last_name,\n",
    "        MIN(emp_id) AS min_id\n",
    "    FROM employees\n",
    "    GROUP BY first_name, last_name\n",
    "    HAVING COUNT(*) > 1\n",
    "    ) AS subquery;\n"
   ]
  },
  {
   "cell_type": "markdown",
   "id": "d920a71d-40cc-4966-8e49-5f213c02aee1",
   "metadata": {},
   "source": [
    "Step2. Delete duplicate records by preserving the min_ids."
   ]
  },
  {
   "cell_type": "code",
   "execution_count": 34,
   "id": "f4956d52-bbe1-4cf3-ba8c-7b418a0237b8",
   "metadata": {},
   "outputs": [
    {
     "data": {
      "text/html": [
       "<table>\n",
       "    <thead>\n",
       "        <tr>\n",
       "        </tr>\n",
       "    </thead>\n",
       "    <tbody>\n",
       "    </tbody>\n",
       "</table>"
      ],
      "text/plain": [
       "++\n",
       "||\n",
       "++\n",
       "++"
      ]
     },
     "execution_count": 34,
     "metadata": {},
     "output_type": "execute_result"
    }
   ],
   "source": [
    "%%sql\n",
    "  \n",
    " USE mydata_two;  \n",
    " \n",
    "DELETE FROM employees\n",
    " WHERE emp_id NOT IN(\n",
    "           SELECT min_id  \n",
    "           FROM (\n",
    "                SELECT \n",
    "                    first_name,\n",
    "                    last_name,\n",
    "                    MIN(emp_id) AS min_id\n",
    "                FROM employees\n",
    "                GROUP BY first_name, last_name\n",
    "                ) AS subquery\n",
    "             );\n",
    "COMMIT;"
   ]
  },
  {
   "cell_type": "markdown",
   "id": "9663117c-fdc4-4c0d-856a-61e87866fb61",
   "metadata": {},
   "source": [
    "Step4. Check, if there are still duplicate records in the data because the **MIN function** method doesn't delete duplicate records appearing at duplicate IDs."
   ]
  },
  {
   "cell_type": "code",
   "execution_count": 35,
   "id": "73d34cfc-a2b6-4ede-8a07-831f7be70c33",
   "metadata": {},
   "outputs": [
    {
     "data": {
      "text/html": [
       "<table>\n",
       "    <thead>\n",
       "        <tr>\n",
       "            <th>num_records</th>\n",
       "            <th>distinct_records</th>\n",
       "        </tr>\n",
       "    </thead>\n",
       "    <tbody>\n",
       "        <tr>\n",
       "            <td>18</td>\n",
       "            <td>17</td>\n",
       "        </tr>\n",
       "    </tbody>\n",
       "</table>"
      ],
      "text/plain": [
       "+-------------+------------------+\n",
       "| num_records | distinct_records |\n",
       "+-------------+------------------+\n",
       "|      18     |        17        |\n",
       "+-------------+------------------+"
      ]
     },
     "execution_count": 35,
     "metadata": {},
     "output_type": "execute_result"
    }
   ],
   "source": [
    "%%sql\n",
    "SELECT \n",
    "    COUNT(*) AS num_records,\n",
    "    COUNT(distinct first_name,last_name) AS distinct_records\n",
    "FROM employees;"
   ]
  },
  {
   "cell_type": "markdown",
   "id": "5925c28d-bad7-469c-96a1-46a6497640f3",
   "metadata": {},
   "source": [
    "#### Repopulating the records to apply another method"
   ]
  },
  {
   "cell_type": "code",
   "execution_count": 36,
   "id": "6a8c4fa9-74d1-4635-839a-f934b388fbc8",
   "metadata": {},
   "outputs": [
    {
     "data": {
      "text/html": [
       "<table>\n",
       "    <thead>\n",
       "        <tr>\n",
       "        </tr>\n",
       "    </thead>\n",
       "    <tbody>\n",
       "    </tbody>\n",
       "</table>"
      ],
      "text/plain": [
       "++\n",
       "||\n",
       "++\n",
       "++"
      ]
     },
     "execution_count": 36,
     "metadata": {},
     "output_type": "execute_result"
    }
   ],
   "source": [
    "%%sql\n",
    "USE mydata_two;\n",
    "TRUNCATE TABLE employees;\n"
   ]
  },
  {
   "cell_type": "code",
   "execution_count": 37,
   "id": "3e4a088a-bb1c-4eaf-b1a9-f22688bfef02",
   "metadata": {},
   "outputs": [
    {
     "data": {
      "text/html": [
       "<table>\n",
       "    <thead>\n",
       "        <tr>\n",
       "        </tr>\n",
       "    </thead>\n",
       "    <tbody>\n",
       "    </tbody>\n",
       "</table>"
      ],
      "text/plain": [
       "++\n",
       "||\n",
       "++\n",
       "++"
      ]
     },
     "execution_count": 37,
     "metadata": {},
     "output_type": "execute_result"
    }
   ],
   "source": [
    "%%sql\n",
    "USE mydata_two;\n",
    "INSERT INTO employees(emp_id, first_name, last_name, gender, age, salary, hire_date, department, manager_id, address)\n",
    "VALUES\n",
    "(1, \"Tamirat\", \"Ketema\", \"male\", 46, 6000, \"2012-10-25\", NULL, NULL, \"33021 456 Gonder\"),\n",
    "(2, \"Bety\", \"Ayle\", \"female\", 26, 5000, \"2013-06-10\", \"Marketing\", 1, \"34034 304 Bahar_dar\"),\n",
    "(3, \"Aragaw\", \"Mola\", \"male\", 25, 4500, \"2000-03-17\", \"IT\", 6, \"45076 206 Debre_tabor\"),\n",
    "(4, \"Alemu\", \"Asmar\", \"male\", 24, 4500, \"2000-04-02\", \"Marketing\", 2, \"55076 809 Addis_Ababa\"),\n",
    "(5, \"Hiwot\", \"Kebede\", \"female\", 27, 4000, \"2016-04-23\", \"IT\", 6, \"33022 455 Gonder\"),\n",
    "(6, \"Getachew\", \"Kebede\", \"male\", 29, 5000, \"2017-06-15\", \"IT\", 1, \"34033 305 Bahar_dar\"),\n",
    "(7, \"Kidist\", \"Kebede\", \"female\", 30, 4500, \"2000-04-10\", \"Marketing\", 2, \"55075 807 Addis_Ababa\"),\n",
    "(8, \"Meseret\", \"Ayle\", \"female\", 26, 3500, \"2002-07-18\", \"HR\", 14, \"45074 205 Debre_tabor\"),\n",
    "(9, \"Gashaw\", \"Kebede\", \"male\", 26, 3000, \"2000-10-13\", \"HR\", 14, \"33022 457 Gonder\"),\n",
    "(10, \"Desta\", \"Mola\", \"male\", 23, 5000, \"2010-09-20\", \"Finance\", 1, \"34033 306 Bahar_dar\"),\n",
    "(11, \"Abebe\", \"Kassaw\", \"male\", 30, 3000, \"2022-08-15\", \"HR\", 14, \"33020 451 Gonder\"),\n",
    "(12, \"Ayalew\", \"Tamire\", \"male\", 26, 4000, \"2022-08-14\", \"Finance\", 10, \"34037 301 Bahar_dar\"),\n",
    "(13, \"Ketemaw\", \"Ketema\", \"male\", 25, 3200, \"2022-08-12\", \"IT\", 6, \"33029 457 Gonder\"),\n",
    "(14, \"Sema\", \"Bitew\", \"male\", 30, 5000, \"2023-01-13\", \"HR\", 1, \"33028 452 Gonder\"),\n",
    "(15, \"Debebe\", \"Kassie\", \"male\", 30, 3500, \"2022-11-13\", \"Marketing\", 2, \"33027 453 Gonder\"),\n",
    "(16, \"Kassaw\", \"Tamirat\", \"male\", 26, 4000, \"2022-11-16\", \"Finance\", 10, \"34037 309 Bahar_dar\"),\n",
    "(17, \"Belay\", \"Ketema\", \"male\", 25, 3500, \"2023-07-14\", \"Finance\", 10, \"33035 449 Gonder\"),\n",
    "(17, \"Belay\", \"Ketema\", \"male\", 25, 3500, \"2023-07-14\", \"Finance\", 10, \"33035 449 Gonder\"),\n",
    "(18, \"Hiwot\", \"Kebede\", \"female\", 27, 4000, \"2016-04-23\", \"IT\", 6, \"33022 455 Gonder\"),\n",
    "(19, \"Desta\", \"Mola\", \"male\", 23, 5000, \"2010-09-20\", \"Finance\", 1, \"34033 306 Bahar_dar\"),\n",
    "(20, \"Kassaw\", \"Tamirat\", \"male\", 26, 4000, \"2022-11-16\", \"Finance\", 10, \"34037 309 Bahar_dar\"); \n",
    "\n",
    "commit;"
   ]
  },
  {
   "cell_type": "markdown",
   "id": "0f140fd2-cd5c-4696-9ac5-7edacc363546",
   "metadata": {},
   "source": [
    "> `5. Removing duplicate records by using a` **unique ID**.`This method is the most powerful method to remove any duplicate`\\\n",
    "   >    `   records whether data contains multiple duplicates or duplicate IDs.`"
   ]
  },
  {
   "cell_type": "markdown",
   "id": "660d184b-d1f7-4de7-8e7b-56d5235657df",
   "metadata": {},
   "source": [
    "Step1. Create a unique ID column."
   ]
  },
  {
   "cell_type": "code",
   "execution_count": 38,
   "id": "5759c38a",
   "metadata": {},
   "outputs": [
    {
     "data": {
      "text/html": [
       "<table>\n",
       "    <thead>\n",
       "        <tr>\n",
       "        </tr>\n",
       "    </thead>\n",
       "    <tbody>\n",
       "    </tbody>\n",
       "</table>"
      ],
      "text/plain": [
       "++\n",
       "||\n",
       "++\n",
       "++"
      ]
     },
     "execution_count": 38,
     "metadata": {},
     "output_type": "execute_result"
    }
   ],
   "source": [
    "%%sql\n",
    "\n",
    "USE mydata_two;\n",
    "\n",
    "ALTER TABLE employees\n",
    "ADD COLUMN row_ID INT AUTO_INCREMENT PRIMARY KEY;\n",
    "\n",
    "\n",
    "\n"
   ]
  },
  {
   "cell_type": "markdown",
   "id": "c4ab9503-f69a-45c6-aa3d-2afb7dd49f35",
   "metadata": {},
   "source": [
    "Step2. verify the creation of row_ID column."
   ]
  },
  {
   "cell_type": "code",
   "execution_count": 39,
   "id": "371d48f2",
   "metadata": {},
   "outputs": [
    {
     "data": {
      "text/html": [
       "<table>\n",
       "    <thead>\n",
       "        <tr>\n",
       "            <th>emp_id</th>\n",
       "            <th>first_name</th>\n",
       "            <th>last_name</th>\n",
       "            <th>gender</th>\n",
       "            <th>age</th>\n",
       "            <th>salary</th>\n",
       "            <th>hire_date</th>\n",
       "            <th>department</th>\n",
       "            <th>manager_id</th>\n",
       "            <th>address</th>\n",
       "            <th>row_ID</th>\n",
       "        </tr>\n",
       "    </thead>\n",
       "    <tbody>\n",
       "        <tr>\n",
       "            <td>1</td>\n",
       "            <td>Tamirat</td>\n",
       "            <td>Ketema</td>\n",
       "            <td>male</td>\n",
       "            <td>46</td>\n",
       "            <td>6000</td>\n",
       "            <td>2012-10-25</td>\n",
       "            <td>None</td>\n",
       "            <td>None</td>\n",
       "            <td>33021 456 Gonder</td>\n",
       "            <td>1</td>\n",
       "        </tr>\n",
       "        <tr>\n",
       "            <td>2</td>\n",
       "            <td>Bety</td>\n",
       "            <td>Ayle</td>\n",
       "            <td>female</td>\n",
       "            <td>26</td>\n",
       "            <td>5000</td>\n",
       "            <td>2013-06-10</td>\n",
       "            <td>Marketing</td>\n",
       "            <td>1</td>\n",
       "            <td>34034 304 Bahar_dar</td>\n",
       "            <td>2</td>\n",
       "        </tr>\n",
       "        <tr>\n",
       "            <td>3</td>\n",
       "            <td>Aragaw</td>\n",
       "            <td>Mola</td>\n",
       "            <td>male</td>\n",
       "            <td>25</td>\n",
       "            <td>4500</td>\n",
       "            <td>2000-03-17</td>\n",
       "            <td>IT</td>\n",
       "            <td>6</td>\n",
       "            <td>45076 206 Debre_tabor</td>\n",
       "            <td>3</td>\n",
       "        </tr>\n",
       "        <tr>\n",
       "            <td>4</td>\n",
       "            <td>Alemu</td>\n",
       "            <td>Asmar</td>\n",
       "            <td>male</td>\n",
       "            <td>24</td>\n",
       "            <td>4500</td>\n",
       "            <td>2000-04-02</td>\n",
       "            <td>Marketing</td>\n",
       "            <td>2</td>\n",
       "            <td>55076 809 Addis_Ababa</td>\n",
       "            <td>4</td>\n",
       "        </tr>\n",
       "        <tr>\n",
       "            <td>5</td>\n",
       "            <td>Hiwot</td>\n",
       "            <td>Kebede</td>\n",
       "            <td>female</td>\n",
       "            <td>27</td>\n",
       "            <td>4000</td>\n",
       "            <td>2016-04-23</td>\n",
       "            <td>IT</td>\n",
       "            <td>6</td>\n",
       "            <td>33022 455 Gonder</td>\n",
       "            <td>5</td>\n",
       "        </tr>\n",
       "        <tr>\n",
       "            <td>6</td>\n",
       "            <td>Getachew</td>\n",
       "            <td>Kebede</td>\n",
       "            <td>male</td>\n",
       "            <td>29</td>\n",
       "            <td>5000</td>\n",
       "            <td>2017-06-15</td>\n",
       "            <td>IT</td>\n",
       "            <td>1</td>\n",
       "            <td>34033 305 Bahar_dar</td>\n",
       "            <td>6</td>\n",
       "        </tr>\n",
       "        <tr>\n",
       "            <td>7</td>\n",
       "            <td>Kidist</td>\n",
       "            <td>Kebede</td>\n",
       "            <td>female</td>\n",
       "            <td>30</td>\n",
       "            <td>4500</td>\n",
       "            <td>2000-04-10</td>\n",
       "            <td>Marketing</td>\n",
       "            <td>2</td>\n",
       "            <td>55075 807 Addis_Ababa</td>\n",
       "            <td>7</td>\n",
       "        </tr>\n",
       "        <tr>\n",
       "            <td>8</td>\n",
       "            <td>Meseret</td>\n",
       "            <td>Ayle</td>\n",
       "            <td>female</td>\n",
       "            <td>26</td>\n",
       "            <td>3500</td>\n",
       "            <td>2002-07-18</td>\n",
       "            <td>HR</td>\n",
       "            <td>14</td>\n",
       "            <td>45074 205 Debre_tabor</td>\n",
       "            <td>8</td>\n",
       "        </tr>\n",
       "        <tr>\n",
       "            <td>9</td>\n",
       "            <td>Gashaw</td>\n",
       "            <td>Kebede</td>\n",
       "            <td>male</td>\n",
       "            <td>26</td>\n",
       "            <td>3000</td>\n",
       "            <td>2000-10-13</td>\n",
       "            <td>HR</td>\n",
       "            <td>14</td>\n",
       "            <td>33022 457 Gonder</td>\n",
       "            <td>9</td>\n",
       "        </tr>\n",
       "        <tr>\n",
       "            <td>10</td>\n",
       "            <td>Desta</td>\n",
       "            <td>Mola</td>\n",
       "            <td>male</td>\n",
       "            <td>23</td>\n",
       "            <td>5000</td>\n",
       "            <td>2010-09-20</td>\n",
       "            <td>Finance</td>\n",
       "            <td>1</td>\n",
       "            <td>34033 306 Bahar_dar</td>\n",
       "            <td>10</td>\n",
       "        </tr>\n",
       "    </tbody>\n",
       "</table>\n",
       "<span style=\"font-style:italic;text-align:center;\">Truncated to <a href=\"https://jupysql.ploomber.io/en/latest/api/configuration.html#displaylimit\">displaylimit</a> of 10.</span>"
      ],
      "text/plain": [
       "+--------+------------+-----------+--------+-----+--------+------------+------------+------------+-----------------------+--------+\n",
       "| emp_id | first_name | last_name | gender | age | salary | hire_date  | department | manager_id |        address        | row_ID |\n",
       "+--------+------------+-----------+--------+-----+--------+------------+------------+------------+-----------------------+--------+\n",
       "|   1    |  Tamirat   |   Ketema  |  male  |  46 |  6000  | 2012-10-25 |    None    |    None    |    33021 456 Gonder   |   1    |\n",
       "|   2    |    Bety    |    Ayle   | female |  26 |  5000  | 2013-06-10 | Marketing  |     1      |  34034 304 Bahar_dar  |   2    |\n",
       "|   3    |   Aragaw   |    Mola   |  male  |  25 |  4500  | 2000-03-17 |     IT     |     6      | 45076 206 Debre_tabor |   3    |\n",
       "|   4    |   Alemu    |   Asmar   |  male  |  24 |  4500  | 2000-04-02 | Marketing  |     2      | 55076 809 Addis_Ababa |   4    |\n",
       "|   5    |   Hiwot    |   Kebede  | female |  27 |  4000  | 2016-04-23 |     IT     |     6      |    33022 455 Gonder   |   5    |\n",
       "|   6    |  Getachew  |   Kebede  |  male  |  29 |  5000  | 2017-06-15 |     IT     |     1      |  34033 305 Bahar_dar  |   6    |\n",
       "|   7    |   Kidist   |   Kebede  | female |  30 |  4500  | 2000-04-10 | Marketing  |     2      | 55075 807 Addis_Ababa |   7    |\n",
       "|   8    |  Meseret   |    Ayle   | female |  26 |  3500  | 2002-07-18 |     HR     |     14     | 45074 205 Debre_tabor |   8    |\n",
       "|   9    |   Gashaw   |   Kebede  |  male  |  26 |  3000  | 2000-10-13 |     HR     |     14     |    33022 457 Gonder   |   9    |\n",
       "|   10   |   Desta    |    Mola   |  male  |  23 |  5000  | 2010-09-20 |  Finance   |     1      |  34033 306 Bahar_dar  |   10   |\n",
       "+--------+------------+-----------+--------+-----+--------+------------+------------+------------+-----------------------+--------+\n",
       "Truncated to displaylimit of 10."
      ]
     },
     "execution_count": 39,
     "metadata": {},
     "output_type": "execute_result"
    }
   ],
   "source": [
    "%%sql\n",
    "\n",
    "SELECT * FROM employees;\n",
    "    \n",
    "\n"
   ]
  },
  {
   "cell_type": "markdown",
   "id": "e653e38d-1bb5-420e-a838-f2ba777d9958",
   "metadata": {},
   "source": [
    "Step3. Delete the duplicate records by using the unique ID."
   ]
  },
  {
   "cell_type": "code",
   "execution_count": 40,
   "id": "a740561a",
   "metadata": {},
   "outputs": [
    {
     "data": {
      "text/html": [
       "<table>\n",
       "    <thead>\n",
       "        <tr>\n",
       "        </tr>\n",
       "    </thead>\n",
       "    <tbody>\n",
       "    </tbody>\n",
       "</table>"
      ],
      "text/plain": [
       "++\n",
       "||\n",
       "++\n",
       "++"
      ]
     },
     "execution_count": 40,
     "metadata": {},
     "output_type": "execute_result"
    }
   ],
   "source": [
    "%%sql\n",
    "\n",
    "USE mydata_two;\n",
    "    \n",
    "DELETE FROM employees\n",
    "WHERE row_ID IN (\n",
    "           SELECT \n",
    "                 max_row_ID\n",
    "           FROM(\n",
    "            SELECT \n",
    "                 MAX(row_ID) AS max_row_ID           \n",
    "            FROM employees\n",
    "            GROUP BY first_name, last_name\n",
    "            HAVING COUNT(*) > 1\n",
    "               ) AS subquery\n",
    "            );\n",
    "COMMIT;"
   ]
  },
  {
   "cell_type": "markdown",
   "id": "5a25cd2a-eb70-408a-b23b-1c7886b34487",
   "metadata": {},
   "source": [
    "Step4. Verify the removal of all duplicate records. IF all duplicate records are removed, the total records are equal to the distinct records."
   ]
  },
  {
   "cell_type": "code",
   "execution_count": 41,
   "id": "58724d56",
   "metadata": {},
   "outputs": [
    {
     "data": {
      "text/html": [
       "<table>\n",
       "    <thead>\n",
       "        <tr>\n",
       "            <th>Total_records</th>\n",
       "            <th>Distinct_records</th>\n",
       "        </tr>\n",
       "    </thead>\n",
       "    <tbody>\n",
       "        <tr>\n",
       "            <td>17</td>\n",
       "            <td>17</td>\n",
       "        </tr>\n",
       "    </tbody>\n",
       "</table>"
      ],
      "text/plain": [
       "+---------------+------------------+\n",
       "| Total_records | Distinct_records |\n",
       "+---------------+------------------+\n",
       "|       17      |        17        |\n",
       "+---------------+------------------+"
      ]
     },
     "execution_count": 41,
     "metadata": {},
     "output_type": "execute_result"
    }
   ],
   "source": [
    "%%sql \n",
    "\n",
    "SELECT\n",
    "    COUNT(*) AS Total_records,\n",
    "    COUNT(DISTINCT first_name,last_name) AS Distinct_records\n",
    "\n",
    "FROM employees;"
   ]
  },
  {
   "cell_type": "markdown",
   "id": "8c88fef2-3828-4f9f-8c37-68c500dca249",
   "metadata": {},
   "source": [
    "Step5. Drop the unique ID."
   ]
  },
  {
   "cell_type": "code",
   "execution_count": 42,
   "id": "93242730-0eb4-42cc-882d-140a0c4953d4",
   "metadata": {},
   "outputs": [
    {
     "data": {
      "text/html": [
       "<table>\n",
       "    <thead>\n",
       "        <tr>\n",
       "        </tr>\n",
       "    </thead>\n",
       "    <tbody>\n",
       "    </tbody>\n",
       "</table>"
      ],
      "text/plain": [
       "++\n",
       "||\n",
       "++\n",
       "++"
      ]
     },
     "execution_count": 42,
     "metadata": {},
     "output_type": "execute_result"
    }
   ],
   "source": [
    "%%sql\n",
    "USE mydata_two;\n",
    "\n",
    "ALTER TABLE employees\n",
    "DROP COLUMN row_ID;\n",
    "\n",
    "COMMIT;"
   ]
  },
  {
   "cell_type": "markdown",
   "id": "2f43093e-b510-460f-97bd-a16f4ca74eb7",
   "metadata": {},
   "source": [
    "#### Repopulating the records to apply another method"
   ]
  },
  {
   "cell_type": "code",
   "execution_count": 43,
   "id": "80d1367f-2c2e-412f-b4ec-7c5f79d0375e",
   "metadata": {},
   "outputs": [
    {
     "data": {
      "text/html": [
       "<table>\n",
       "    <thead>\n",
       "        <tr>\n",
       "        </tr>\n",
       "    </thead>\n",
       "    <tbody>\n",
       "    </tbody>\n",
       "</table>"
      ],
      "text/plain": [
       "++\n",
       "||\n",
       "++\n",
       "++"
      ]
     },
     "execution_count": 43,
     "metadata": {},
     "output_type": "execute_result"
    }
   ],
   "source": [
    "%%sql\n",
    "USE mydata_two;\n",
    "TRUNCATE TABLE employees;\n"
   ]
  },
  {
   "cell_type": "code",
   "execution_count": 44,
   "id": "8d563360-9f01-451f-8774-e228742e4871",
   "metadata": {},
   "outputs": [
    {
     "data": {
      "text/html": [
       "<table>\n",
       "    <thead>\n",
       "        <tr>\n",
       "        </tr>\n",
       "    </thead>\n",
       "    <tbody>\n",
       "    </tbody>\n",
       "</table>"
      ],
      "text/plain": [
       "++\n",
       "||\n",
       "++\n",
       "++"
      ]
     },
     "execution_count": 44,
     "metadata": {},
     "output_type": "execute_result"
    }
   ],
   "source": [
    "%%sql\n",
    "USE mydata_two;\n",
    "INSERT INTO employees(emp_id, first_name, last_name, gender, age, salary, hire_date, department, manager_id, address)\n",
    "VALUES\n",
    "(1, \"Tamirat\", \"Ketema\", \"male\", 46, 6000, \"2012-10-25\", NULL, NULL, \"33021 456 Gonder\"),\n",
    "(2, \"Bety\", \"Ayle\", \"female\", 26, 5000, \"2013-06-10\", \"Marketing\", 1, \"34034 304 Bahar_dar\"),\n",
    "(3, \"Aragaw\", \"Mola\", \"male\", 25, 4500, \"2000-03-17\", \"IT\", 6, \"45076 206 Debre_tabor\"),\n",
    "(4, \"Alemu\", \"Asmar\", \"male\", 24, 4500, \"2000-04-02\", \"Marketing\", 2, \"55076 809 Addis_Ababa\"),\n",
    "(5, \"Hiwot\", \"Kebede\", \"female\", 27, 4000, \"2016-04-23\", \"IT\", 6, \"33022 455 Gonder\"),\n",
    "(6, \"Getachew\", \"Kebede\", \"male\", 29, 5000, \"2017-06-15\", \"IT\", 1, \"34033 305 Bahar_dar\"),\n",
    "(7, \"Kidist\", \"Kebede\", \"female\", 30, 4500, \"2000-04-10\", \"Marketing\", 2, \"55075 807 Addis_Ababa\"),\n",
    "(8, \"Meseret\", \"Ayle\", \"female\", 26, 3500, \"2002-07-18\", \"HR\", 14, \"45074 205 Debre_tabor\"),\n",
    "(9, \"Gashaw\", \"Kebede\", \"male\", 26, 3000, \"2000-10-13\", \"HR\", 14, \"33022 457 Gonder\"),\n",
    "(10, \"Desta\", \"Mola\", \"male\", 23, 5000, \"2010-09-20\", \"Finance\", 1, \"34033 306 Bahar_dar\"),\n",
    "(11, \"Abebe\", \"Kassaw\", \"male\", 30, 3000, \"2022-08-15\", \"HR\", 14, \"33020 451 Gonder\"),\n",
    "(12, \"Ayalew\", \"Tamire\", \"male\", 26, 4000, \"2022-08-14\", \"Finance\", 10, \"34037 301 Bahar_dar\"),\n",
    "(13, \"Ketemaw\", \"Ketema\", \"male\", 25, 3200, \"2022-08-12\", \"IT\", 6, \"33029 457 Gonder\"),\n",
    "(14, \"Sema\", \"Bitew\", \"male\", 30, 5000, \"2023-01-13\", \"HR\", 1, \"33028 452 Gonder\"),\n",
    "(15, \"Debebe\", \"Kassie\", \"male\", 30, 3500, \"2022-11-13\", \"Marketing\", 2, \"33027 453 Gonder\"),\n",
    "(16, \"Kassaw\", \"Tamirat\", \"male\", 26, 4000, \"2022-11-16\", \"Finance\", 10, \"34037 309 Bahar_dar\"),\n",
    "(17, \"Belay\", \"Ketema\", \"male\", 25, 3500, \"2023-07-14\", \"Finance\", 10, \"33035 449 Gonder\"),\n",
    "(17, \"Belay\", \"Ketema\", \"male\", 25, 3500, \"2023-07-14\", \"Finance\", 10, \"33035 449 Gonder\"),\n",
    "(18, \"Hiwot\", \"Kebede\", \"female\", 27, 4000, \"2016-04-23\", \"IT\", 6, \"33022 455 Gonder\"),\n",
    "(19, \"Desta\", \"Mola\", \"male\", 23, 5000, \"2010-09-20\", \"Finance\", 1, \"34033 306 Bahar_dar\"),\n",
    "(20, \"Kassaw\", \"Tamirat\", \"male\", 26, 4000, \"2022-11-16\", \"Finance\", 10, \"34037 309 Bahar_dar\"); \n",
    "\n",
    "commit;"
   ]
  },
  {
   "cell_type": "markdown",
   "id": "ab9cd3cb-5f50-4987-a186-f3437121a79a",
   "metadata": {},
   "source": [
    "> `6. Removing duplicate records by using` **backup table**.`This method is also the most useful method like a unique ID` <br> \n",
    "      >  `   method to remove any duplicate records whether data contains multiple duplicate records or duplicate IDs.`"
   ]
  },
  {
   "cell_type": "markdown",
   "id": "522611a5-e157-4fca-ba8e-fc90793d1def",
   "metadata": {},
   "source": [
    "Step1. Create a backup table."
   ]
  },
  {
   "cell_type": "code",
   "execution_count": 45,
   "id": "a58bc36c-74f7-4619-9054-ac6a441cfcc2",
   "metadata": {},
   "outputs": [
    {
     "data": {
      "text/html": [
       "<table>\n",
       "    <thead>\n",
       "        <tr>\n",
       "        </tr>\n",
       "    </thead>\n",
       "    <tbody>\n",
       "    </tbody>\n",
       "</table>"
      ],
      "text/plain": [
       "++\n",
       "||\n",
       "++\n",
       "++"
      ]
     },
     "execution_count": 45,
     "metadata": {},
     "output_type": "execute_result"
    }
   ],
   "source": [
    "%%sql\n",
    "USE mydata_two;\n",
    "CREATE TABLE employees_backup AS\n",
    "SELECT MIN(emp_id) AS emp_id, first_name, last_name, gender, age, salary, hire_date, department, manager_id, address FROM employees\n",
    "GROUP BY first_name, last_name, gender, age, salary, hire_date, department, manager_id, address;\n"
   ]
  },
  {
   "cell_type": "markdown",
   "id": "67be2745-742e-4ec6-9d5d-1ee073aecc09",
   "metadata": {},
   "source": [
    "Step2. Identify the total records and distinct records from the employees table to compare with the employees_backup table."
   ]
  },
  {
   "cell_type": "code",
   "execution_count": 46,
   "id": "8fc5221f-c681-40c2-be06-64e406cc466c",
   "metadata": {},
   "outputs": [
    {
     "data": {
      "text/html": [
       "<table>\n",
       "    <thead>\n",
       "        <tr>\n",
       "            <th>Total_records</th>\n",
       "            <th>Distinct_records</th>\n",
       "        </tr>\n",
       "    </thead>\n",
       "    <tbody>\n",
       "        <tr>\n",
       "            <td>21</td>\n",
       "            <td>17</td>\n",
       "        </tr>\n",
       "    </tbody>\n",
       "</table>"
      ],
      "text/plain": [
       "+---------------+------------------+\n",
       "| Total_records | Distinct_records |\n",
       "+---------------+------------------+\n",
       "|       21      |        17        |\n",
       "+---------------+------------------+"
      ]
     },
     "execution_count": 46,
     "metadata": {},
     "output_type": "execute_result"
    }
   ],
   "source": [
    "%%sql\n",
    "\n",
    "SELECT \n",
    "     COUNT(*) AS Total_records,\n",
    "     COUNT(DISTINCT first_name, last_name) AS Distinct_records\n",
    "FROM employees;\n"
   ]
  },
  {
   "cell_type": "markdown",
   "id": "522e078f-0e6e-4a70-8ab2-dea0bf78b7e4",
   "metadata": {},
   "source": [
    "Step2. verify the removal of all duplicate records from the employees_backup table.\n",
    "       IF all duplicate records are removed, the total records must be equal to the distinct records."
   ]
  },
  {
   "cell_type": "code",
   "execution_count": 47,
   "id": "71d7b454-8b20-4bde-b1b0-17837f4d4311",
   "metadata": {},
   "outputs": [
    {
     "data": {
      "text/html": [
       "<table>\n",
       "    <thead>\n",
       "        <tr>\n",
       "            <th>Total_records</th>\n",
       "            <th>Distinct_records</th>\n",
       "        </tr>\n",
       "    </thead>\n",
       "    <tbody>\n",
       "        <tr>\n",
       "            <td>17</td>\n",
       "            <td>17</td>\n",
       "        </tr>\n",
       "    </tbody>\n",
       "</table>"
      ],
      "text/plain": [
       "+---------------+------------------+\n",
       "| Total_records | Distinct_records |\n",
       "+---------------+------------------+\n",
       "|       17      |        17        |\n",
       "+---------------+------------------+"
      ]
     },
     "execution_count": 47,
     "metadata": {},
     "output_type": "execute_result"
    }
   ],
   "source": [
    "%%sql\n",
    "\n",
    "SELECT \n",
    "     COUNT(*) AS Total_records,\n",
    "     COUNT(DISTINCT first_name, last_name) AS Distinct_records\n",
    "FROM employees_backup;\n"
   ]
  },
  {
   "cell_type": "markdown",
   "id": "4e1d4542-f56d-4755-a50b-0ea10b9bc4d6",
   "metadata": {},
   "source": [
    "Step3. Drop the employees table. and rename the employees_backup table As employees."
   ]
  },
  {
   "cell_type": "code",
   "execution_count": 48,
   "id": "faeee914-f057-477c-9bc7-b6fb36242585",
   "metadata": {},
   "outputs": [
    {
     "data": {
      "text/html": [
       "<table>\n",
       "    <thead>\n",
       "        <tr>\n",
       "        </tr>\n",
       "    </thead>\n",
       "    <tbody>\n",
       "    </tbody>\n",
       "</table>"
      ],
      "text/plain": [
       "++\n",
       "||\n",
       "++\n",
       "++"
      ]
     },
     "execution_count": 48,
     "metadata": {},
     "output_type": "execute_result"
    }
   ],
   "source": [
    "%%sql\n",
    "USE mydata_two;\n",
    "DROP TABLE employees;\n",
    "COMMIT;"
   ]
  },
  {
   "cell_type": "markdown",
   "id": "ec0ea5da-4bab-41e6-9193-d3075abd45d8",
   "metadata": {},
   "source": [
    "Step4. Rename the employees_backup table to the original table name 'employees'"
   ]
  },
  {
   "cell_type": "code",
   "execution_count": 49,
   "id": "fdb3a52f-e8d3-4439-bd18-60584a327d22",
   "metadata": {},
   "outputs": [
    {
     "data": {
      "text/html": [
       "<table>\n",
       "    <thead>\n",
       "        <tr>\n",
       "        </tr>\n",
       "    </thead>\n",
       "    <tbody>\n",
       "    </tbody>\n",
       "</table>"
      ],
      "text/plain": [
       "++\n",
       "||\n",
       "++\n",
       "++"
      ]
     },
     "execution_count": 49,
     "metadata": {},
     "output_type": "execute_result"
    }
   ],
   "source": [
    "%%sql\n",
    "USE mydata_two;\n",
    "RENAME TABLE employees_backup To employees;\n",
    "COMMIT;"
   ]
  },
  {
   "cell_type": "markdown",
   "id": "3ebb2c23-ecf3-4745-9be7-1018052c21a6",
   "metadata": {},
   "source": [
    "Step5. check, the table name is renamed to 'employees'."
   ]
  },
  {
   "cell_type": "code",
   "execution_count": 50,
   "id": "d0e6f7dc-c6b0-4a35-842b-59bd5fd755cb",
   "metadata": {},
   "outputs": [
    {
     "data": {
      "text/html": [
       "<table>\n",
       "    <thead>\n",
       "        <tr>\n",
       "            <th>emp_id</th>\n",
       "            <th>first_name</th>\n",
       "            <th>last_name</th>\n",
       "            <th>gender</th>\n",
       "            <th>age</th>\n",
       "            <th>salary</th>\n",
       "            <th>hire_date</th>\n",
       "            <th>department</th>\n",
       "            <th>manager_id</th>\n",
       "            <th>address</th>\n",
       "        </tr>\n",
       "    </thead>\n",
       "    <tbody>\n",
       "        <tr>\n",
       "            <td>1</td>\n",
       "            <td>Tamirat</td>\n",
       "            <td>Ketema</td>\n",
       "            <td>male</td>\n",
       "            <td>46</td>\n",
       "            <td>6000</td>\n",
       "            <td>2012-10-25</td>\n",
       "            <td>None</td>\n",
       "            <td>None</td>\n",
       "            <td>33021 456 Gonder</td>\n",
       "        </tr>\n",
       "        <tr>\n",
       "            <td>2</td>\n",
       "            <td>Bety</td>\n",
       "            <td>Ayle</td>\n",
       "            <td>female</td>\n",
       "            <td>26</td>\n",
       "            <td>5000</td>\n",
       "            <td>2013-06-10</td>\n",
       "            <td>Marketing</td>\n",
       "            <td>1</td>\n",
       "            <td>34034 304 Bahar_dar</td>\n",
       "        </tr>\n",
       "        <tr>\n",
       "            <td>3</td>\n",
       "            <td>Aragaw</td>\n",
       "            <td>Mola</td>\n",
       "            <td>male</td>\n",
       "            <td>25</td>\n",
       "            <td>4500</td>\n",
       "            <td>2000-03-17</td>\n",
       "            <td>IT</td>\n",
       "            <td>6</td>\n",
       "            <td>45076 206 Debre_tabor</td>\n",
       "        </tr>\n",
       "        <tr>\n",
       "            <td>4</td>\n",
       "            <td>Alemu</td>\n",
       "            <td>Asmar</td>\n",
       "            <td>male</td>\n",
       "            <td>24</td>\n",
       "            <td>4500</td>\n",
       "            <td>2000-04-02</td>\n",
       "            <td>Marketing</td>\n",
       "            <td>2</td>\n",
       "            <td>55076 809 Addis_Ababa</td>\n",
       "        </tr>\n",
       "        <tr>\n",
       "            <td>5</td>\n",
       "            <td>Hiwot</td>\n",
       "            <td>Kebede</td>\n",
       "            <td>female</td>\n",
       "            <td>27</td>\n",
       "            <td>4000</td>\n",
       "            <td>2016-04-23</td>\n",
       "            <td>IT</td>\n",
       "            <td>6</td>\n",
       "            <td>33022 455 Gonder</td>\n",
       "        </tr>\n",
       "    </tbody>\n",
       "</table>"
      ],
      "text/plain": [
       "+--------+------------+-----------+--------+-----+--------+------------+------------+------------+-----------------------+\n",
       "| emp_id | first_name | last_name | gender | age | salary | hire_date  | department | manager_id |        address        |\n",
       "+--------+------------+-----------+--------+-----+--------+------------+------------+------------+-----------------------+\n",
       "|   1    |  Tamirat   |   Ketema  |  male  |  46 |  6000  | 2012-10-25 |    None    |    None    |    33021 456 Gonder   |\n",
       "|   2    |    Bety    |    Ayle   | female |  26 |  5000  | 2013-06-10 | Marketing  |     1      |  34034 304 Bahar_dar  |\n",
       "|   3    |   Aragaw   |    Mola   |  male  |  25 |  4500  | 2000-03-17 |     IT     |     6      | 45076 206 Debre_tabor |\n",
       "|   4    |   Alemu    |   Asmar   |  male  |  24 |  4500  | 2000-04-02 | Marketing  |     2      | 55076 809 Addis_Ababa |\n",
       "|   5    |   Hiwot    |   Kebede  | female |  27 |  4000  | 2016-04-23 |     IT     |     6      |    33022 455 Gonder   |\n",
       "+--------+------------+-----------+--------+-----+--------+------------+------------+------------+-----------------------+"
      ]
     },
     "execution_count": 50,
     "metadata": {},
     "output_type": "execute_result"
    }
   ],
   "source": [
    "%%sql\n",
    "\n",
    "SELECT * from employees\n",
    "LIMIT 5;"
   ]
  },
  {
   "cell_type": "markdown",
   "id": "775f6825-e37a-42fe-a18c-8e33db9bf2f1",
   "metadata": {},
   "source": [
    "### C. DATA TRANSFORMATION"
   ]
  },
  {
   "cell_type": "markdown",
   "id": "55af1c84-3d4f-4e70-bca2-e254b3f0b6e8",
   "metadata": {},
   "source": [
    "##### Change the data types"
   ]
  },
  {
   "cell_type": "code",
   "execution_count": 51,
   "id": "be13b779-bdc0-4b44-935e-e7c446c0f943",
   "metadata": {},
   "outputs": [
    {
     "data": {
      "text/html": [
       "<table>\n",
       "    <thead>\n",
       "        <tr>\n",
       "        </tr>\n",
       "    </thead>\n",
       "    <tbody>\n",
       "    </tbody>\n",
       "</table>"
      ],
      "text/plain": [
       "++\n",
       "||\n",
       "++\n",
       "++"
      ]
     },
     "execution_count": 51,
     "metadata": {},
     "output_type": "execute_result"
    }
   ],
   "source": [
    "%%sql \n",
    "USE mydata_two;\n",
    "\n",
    "ALTER TABLE employees\n",
    "MODIFY salary FLOAT, \n",
    "MODIFY hire_date DATE;\n",
    "\n",
    "COMMIT;\n"
   ]
  },
  {
   "cell_type": "markdown",
   "id": "5fa0826d-fad8-46ff-a731-87b8b9abeb54",
   "metadata": {},
   "source": [
    "Verify that the data types(salary and hire_date) are changed."
   ]
  },
  {
   "cell_type": "code",
   "execution_count": 52,
   "id": "ac4be296-2d25-40e6-8d45-d16ea0f91aeb",
   "metadata": {},
   "outputs": [
    {
     "data": {
      "text/html": [
       "<table>\n",
       "    <thead>\n",
       "        <tr>\n",
       "            <th>Field</th>\n",
       "            <th>Type</th>\n",
       "            <th>Null</th>\n",
       "            <th>Key</th>\n",
       "            <th>Default</th>\n",
       "            <th>Extra</th>\n",
       "        </tr>\n",
       "    </thead>\n",
       "    <tbody>\n",
       "        <tr>\n",
       "            <td>emp_id</td>\n",
       "            <td>int</td>\n",
       "            <td>YES</td>\n",
       "            <td></td>\n",
       "            <td>None</td>\n",
       "            <td></td>\n",
       "        </tr>\n",
       "        <tr>\n",
       "            <td>first_name</td>\n",
       "            <td>varchar(50)</td>\n",
       "            <td>YES</td>\n",
       "            <td></td>\n",
       "            <td>None</td>\n",
       "            <td></td>\n",
       "        </tr>\n",
       "        <tr>\n",
       "            <td>last_name</td>\n",
       "            <td>varchar(50)</td>\n",
       "            <td>YES</td>\n",
       "            <td></td>\n",
       "            <td>None</td>\n",
       "            <td></td>\n",
       "        </tr>\n",
       "        <tr>\n",
       "            <td>gender</td>\n",
       "            <td>varchar(10)</td>\n",
       "            <td>YES</td>\n",
       "            <td></td>\n",
       "            <td>None</td>\n",
       "            <td></td>\n",
       "        </tr>\n",
       "        <tr>\n",
       "            <td>age</td>\n",
       "            <td>int</td>\n",
       "            <td>YES</td>\n",
       "            <td></td>\n",
       "            <td>None</td>\n",
       "            <td></td>\n",
       "        </tr>\n",
       "        <tr>\n",
       "            <td>salary</td>\n",
       "            <td>float</td>\n",
       "            <td>YES</td>\n",
       "            <td></td>\n",
       "            <td>None</td>\n",
       "            <td></td>\n",
       "        </tr>\n",
       "        <tr>\n",
       "            <td>hire_date</td>\n",
       "            <td>date</td>\n",
       "            <td>YES</td>\n",
       "            <td></td>\n",
       "            <td>None</td>\n",
       "            <td></td>\n",
       "        </tr>\n",
       "        <tr>\n",
       "            <td>department</td>\n",
       "            <td>varchar(50)</td>\n",
       "            <td>YES</td>\n",
       "            <td></td>\n",
       "            <td>None</td>\n",
       "            <td></td>\n",
       "        </tr>\n",
       "        <tr>\n",
       "            <td>manager_id</td>\n",
       "            <td>int</td>\n",
       "            <td>YES</td>\n",
       "            <td></td>\n",
       "            <td>None</td>\n",
       "            <td></td>\n",
       "        </tr>\n",
       "        <tr>\n",
       "            <td>address</td>\n",
       "            <td>varchar(50)</td>\n",
       "            <td>YES</td>\n",
       "            <td></td>\n",
       "            <td>None</td>\n",
       "            <td></td>\n",
       "        </tr>\n",
       "    </tbody>\n",
       "</table>\n",
       "<span style=\"font-style:italic;text-align:center;\">Truncated to <a href=\"https://jupysql.ploomber.io/en/latest/api/configuration.html#displaylimit\">displaylimit</a> of 10.</span>"
      ],
      "text/plain": [
       "+------------+-------------+------+-----+---------+-------+\n",
       "|   Field    |     Type    | Null | Key | Default | Extra |\n",
       "+------------+-------------+------+-----+---------+-------+\n",
       "|   emp_id   |     int     | YES  |     |   None  |       |\n",
       "| first_name | varchar(50) | YES  |     |   None  |       |\n",
       "| last_name  | varchar(50) | YES  |     |   None  |       |\n",
       "|   gender   | varchar(10) | YES  |     |   None  |       |\n",
       "|    age     |     int     | YES  |     |   None  |       |\n",
       "|   salary   |    float    | YES  |     |   None  |       |\n",
       "| hire_date  |     date    | YES  |     |   None  |       |\n",
       "| department | varchar(50) | YES  |     |   None  |       |\n",
       "| manager_id |     int     | YES  |     |   None  |       |\n",
       "|  address   | varchar(50) | YES  |     |   None  |       |\n",
       "+------------+-------------+------+-----+---------+-------+\n",
       "Truncated to displaylimit of 10."
      ]
     },
     "execution_count": 52,
     "metadata": {},
     "output_type": "execute_result"
    }
   ],
   "source": [
    "%%sql\n",
    "\n",
    "DESCRIBE employees;"
   ]
  },
  {
   "cell_type": "markdown",
   "id": "cf5289a5-c796-44a9-b0b6-0e3368b41b14",
   "metadata": {},
   "source": [
    "##### Merge columns"
   ]
  },
  {
   "cell_type": "markdown",
   "id": "851b2806-8fe6-497d-a43b-5c442a4b629b",
   "metadata": {},
   "source": [
    "Step1.Add a new column for merging columns(first_name and last_name) as \"full_name\"."
   ]
  },
  {
   "cell_type": "code",
   "execution_count": 53,
   "id": "c302c695-1a6f-490e-8ca4-73de80492a9c",
   "metadata": {},
   "outputs": [
    {
     "data": {
      "text/html": [
       "<table>\n",
       "    <thead>\n",
       "        <tr>\n",
       "        </tr>\n",
       "    </thead>\n",
       "    <tbody>\n",
       "    </tbody>\n",
       "</table>"
      ],
      "text/plain": [
       "++\n",
       "||\n",
       "++\n",
       "++"
      ]
     },
     "execution_count": 53,
     "metadata": {},
     "output_type": "execute_result"
    }
   ],
   "source": [
    "%%sql\n",
    "\n",
    "USE mydata_two;\n",
    "\n",
    "ALTER TABLE employees\n",
    "ADD COLUMN full_name VARCHAR(50) AFTER emp_id;\n",
    "\n",
    "COMMIT;\n"
   ]
  },
  {
   "cell_type": "markdown",
   "id": "7cc3166c-1581-4bbf-9908-6488220aeff8",
   "metadata": {},
   "source": [
    "Step2. Verfiy that the full_name column is created."
   ]
  },
  {
   "cell_type": "code",
   "execution_count": 54,
   "id": "9cf55490-321f-4bca-a1d4-b34441bf7b02",
   "metadata": {},
   "outputs": [
    {
     "data": {
      "text/html": [
       "<table>\n",
       "    <thead>\n",
       "        <tr>\n",
       "            <th>emp_id</th>\n",
       "            <th>full_name</th>\n",
       "            <th>first_name</th>\n",
       "            <th>last_name</th>\n",
       "            <th>gender</th>\n",
       "            <th>age</th>\n",
       "            <th>salary</th>\n",
       "            <th>hire_date</th>\n",
       "            <th>department</th>\n",
       "            <th>manager_id</th>\n",
       "            <th>address</th>\n",
       "        </tr>\n",
       "    </thead>\n",
       "    <tbody>\n",
       "        <tr>\n",
       "            <td>1</td>\n",
       "            <td>None</td>\n",
       "            <td>Tamirat</td>\n",
       "            <td>Ketema</td>\n",
       "            <td>male</td>\n",
       "            <td>46</td>\n",
       "            <td>6000.0</td>\n",
       "            <td>2012-10-25</td>\n",
       "            <td>None</td>\n",
       "            <td>None</td>\n",
       "            <td>33021 456 Gonder</td>\n",
       "        </tr>\n",
       "        <tr>\n",
       "            <td>2</td>\n",
       "            <td>None</td>\n",
       "            <td>Bety</td>\n",
       "            <td>Ayle</td>\n",
       "            <td>female</td>\n",
       "            <td>26</td>\n",
       "            <td>5000.0</td>\n",
       "            <td>2013-06-10</td>\n",
       "            <td>Marketing</td>\n",
       "            <td>1</td>\n",
       "            <td>34034 304 Bahar_dar</td>\n",
       "        </tr>\n",
       "    </tbody>\n",
       "</table>"
      ],
      "text/plain": [
       "+--------+-----------+------------+-----------+--------+-----+--------+------------+------------+------------+---------------------+\n",
       "| emp_id | full_name | first_name | last_name | gender | age | salary | hire_date  | department | manager_id |       address       |\n",
       "+--------+-----------+------------+-----------+--------+-----+--------+------------+------------+------------+---------------------+\n",
       "|   1    |    None   |  Tamirat   |   Ketema  |  male  |  46 | 6000.0 | 2012-10-25 |    None    |    None    |   33021 456 Gonder  |\n",
       "|   2    |    None   |    Bety    |    Ayle   | female |  26 | 5000.0 | 2013-06-10 | Marketing  |     1      | 34034 304 Bahar_dar |\n",
       "+--------+-----------+------------+-----------+--------+-----+--------+------------+------------+------------+---------------------+"
      ]
     },
     "execution_count": 54,
     "metadata": {},
     "output_type": "execute_result"
    }
   ],
   "source": [
    "%%sql\n",
    "\n",
    "SELECT * FROM employees\n",
    "LIMIT 2;"
   ]
  },
  {
   "cell_type": "markdown",
   "id": "344adfb7-4919-4ebd-98be-2656c2524592",
   "metadata": {},
   "source": [
    "Step3. insert the values of merging columns into full_name column."
   ]
  },
  {
   "cell_type": "code",
   "execution_count": 64,
   "id": "f9ad723c-6c18-454a-97bc-b7eac32fdd57",
   "metadata": {},
   "outputs": [
    {
     "data": {
      "text/html": [
       "<table>\n",
       "    <thead>\n",
       "        <tr>\n",
       "        </tr>\n",
       "    </thead>\n",
       "    <tbody>\n",
       "    </tbody>\n",
       "</table>"
      ],
      "text/plain": [
       "++\n",
       "||\n",
       "++\n",
       "++"
      ]
     },
     "execution_count": 64,
     "metadata": {},
     "output_type": "execute_result"
    }
   ],
   "source": [
    "%%sql\n",
    "\n",
    "USE mydata_two;\n",
    "\n",
    "UPDATE employees\n",
    "SET full_name = CONCAT(first_name, ' ', last_name);"
   ]
  },
  {
   "cell_type": "markdown",
   "id": "39c2e2bb-126a-4ae9-90a3-3ded8f60cdbb",
   "metadata": {},
   "source": [
    "Step4. Verify that the values are inserted into the column full_name."
   ]
  },
  {
   "cell_type": "code",
   "execution_count": 56,
   "id": "b4067bf6-cb5b-4a34-bbd7-c3d8aa86b22f",
   "metadata": {},
   "outputs": [
    {
     "data": {
      "text/html": [
       "<table>\n",
       "    <thead>\n",
       "        <tr>\n",
       "            <th>emp_id</th>\n",
       "            <th>full_name</th>\n",
       "            <th>first_name</th>\n",
       "            <th>last_name</th>\n",
       "            <th>gender</th>\n",
       "            <th>age</th>\n",
       "            <th>salary</th>\n",
       "            <th>hire_date</th>\n",
       "            <th>department</th>\n",
       "            <th>manager_id</th>\n",
       "            <th>address</th>\n",
       "        </tr>\n",
       "    </thead>\n",
       "    <tbody>\n",
       "        <tr>\n",
       "            <td>1</td>\n",
       "            <td>Tamirat Ketema</td>\n",
       "            <td>Tamirat</td>\n",
       "            <td>Ketema</td>\n",
       "            <td>male</td>\n",
       "            <td>46</td>\n",
       "            <td>6000.0</td>\n",
       "            <td>2012-10-25</td>\n",
       "            <td>None</td>\n",
       "            <td>None</td>\n",
       "            <td>33021 456 Gonder</td>\n",
       "        </tr>\n",
       "        <tr>\n",
       "            <td>2</td>\n",
       "            <td>Bety Ayle</td>\n",
       "            <td>Bety</td>\n",
       "            <td>Ayle</td>\n",
       "            <td>female</td>\n",
       "            <td>26</td>\n",
       "            <td>5000.0</td>\n",
       "            <td>2013-06-10</td>\n",
       "            <td>Marketing</td>\n",
       "            <td>1</td>\n",
       "            <td>34034 304 Bahar_dar</td>\n",
       "        </tr>\n",
       "        <tr>\n",
       "            <td>3</td>\n",
       "            <td>Aragaw Mola</td>\n",
       "            <td>Aragaw</td>\n",
       "            <td>Mola</td>\n",
       "            <td>male</td>\n",
       "            <td>25</td>\n",
       "            <td>4500.0</td>\n",
       "            <td>2000-03-17</td>\n",
       "            <td>IT</td>\n",
       "            <td>6</td>\n",
       "            <td>45076 206 Debre_tabor</td>\n",
       "        </tr>\n",
       "        <tr>\n",
       "            <td>4</td>\n",
       "            <td>Alemu Asmar</td>\n",
       "            <td>Alemu</td>\n",
       "            <td>Asmar</td>\n",
       "            <td>male</td>\n",
       "            <td>24</td>\n",
       "            <td>4500.0</td>\n",
       "            <td>2000-04-02</td>\n",
       "            <td>Marketing</td>\n",
       "            <td>2</td>\n",
       "            <td>55076 809 Addis_Ababa</td>\n",
       "        </tr>\n",
       "        <tr>\n",
       "            <td>5</td>\n",
       "            <td>Hiwot Kebede</td>\n",
       "            <td>Hiwot</td>\n",
       "            <td>Kebede</td>\n",
       "            <td>female</td>\n",
       "            <td>27</td>\n",
       "            <td>4000.0</td>\n",
       "            <td>2016-04-23</td>\n",
       "            <td>IT</td>\n",
       "            <td>6</td>\n",
       "            <td>33022 455 Gonder</td>\n",
       "        </tr>\n",
       "    </tbody>\n",
       "</table>"
      ],
      "text/plain": [
       "+--------+----------------+------------+-----------+--------+-----+--------+------------+------------+------------+-----------------------+\n",
       "| emp_id |   full_name    | first_name | last_name | gender | age | salary | hire_date  | department | manager_id |        address        |\n",
       "+--------+----------------+------------+-----------+--------+-----+--------+------------+------------+------------+-----------------------+\n",
       "|   1    | Tamirat Ketema |  Tamirat   |   Ketema  |  male  |  46 | 6000.0 | 2012-10-25 |    None    |    None    |    33021 456 Gonder   |\n",
       "|   2    |   Bety Ayle    |    Bety    |    Ayle   | female |  26 | 5000.0 | 2013-06-10 | Marketing  |     1      |  34034 304 Bahar_dar  |\n",
       "|   3    |  Aragaw Mola   |   Aragaw   |    Mola   |  male  |  25 | 4500.0 | 2000-03-17 |     IT     |     6      | 45076 206 Debre_tabor |\n",
       "|   4    |  Alemu Asmar   |   Alemu    |   Asmar   |  male  |  24 | 4500.0 | 2000-04-02 | Marketing  |     2      | 55076 809 Addis_Ababa |\n",
       "|   5    |  Hiwot Kebede  |   Hiwot    |   Kebede  | female |  27 | 4000.0 | 2016-04-23 |     IT     |     6      |    33022 455 Gonder   |\n",
       "+--------+----------------+------------+-----------+--------+-----+--------+------------+------------+------------+-----------------------+"
      ]
     },
     "execution_count": 56,
     "metadata": {},
     "output_type": "execute_result"
    }
   ],
   "source": [
    "%%sql\n",
    "\n",
    "SELECT * FROM employees\n",
    "LIMIT 5;"
   ]
  },
  {
   "cell_type": "markdown",
   "id": "933c463c-a1b3-4d53-a0d4-563bc0a8a5f0",
   "metadata": {},
   "source": [
    "Step5. Drop the merged columns(first-name and last_name)."
   ]
  },
  {
   "cell_type": "code",
   "execution_count": 57,
   "id": "8f41e61d-ef3a-4ee1-be00-12fdf746a972",
   "metadata": {},
   "outputs": [
    {
     "data": {
      "text/html": [
       "<table>\n",
       "    <thead>\n",
       "        <tr>\n",
       "        </tr>\n",
       "    </thead>\n",
       "    <tbody>\n",
       "    </tbody>\n",
       "</table>"
      ],
      "text/plain": [
       "++\n",
       "||\n",
       "++\n",
       "++"
      ]
     },
     "execution_count": 57,
     "metadata": {},
     "output_type": "execute_result"
    }
   ],
   "source": [
    "%%sql\n",
    "\n",
    "USE mydata_two;\n",
    "\n",
    "ALTER TABLE employees\n",
    "DROP COLUMN first_name,\n",
    "DROP COLUMN last_name;\n",
    "\n",
    "COMMIT;"
   ]
  },
  {
   "cell_type": "markdown",
   "id": "f5764ddb-e352-499b-bbea-00dd327afbf7",
   "metadata": {},
   "source": [
    "Step6. Verify that the first_name and last_name columns are dropped."
   ]
  },
  {
   "cell_type": "code",
   "execution_count": 58,
   "id": "6af18d2e-4a18-476a-bb26-134a8bd563f8",
   "metadata": {},
   "outputs": [
    {
     "data": {
      "text/html": [
       "<table>\n",
       "    <thead>\n",
       "        <tr>\n",
       "            <th>emp_id</th>\n",
       "            <th>full_name</th>\n",
       "            <th>gender</th>\n",
       "            <th>age</th>\n",
       "            <th>salary</th>\n",
       "            <th>hire_date</th>\n",
       "            <th>department</th>\n",
       "            <th>manager_id</th>\n",
       "            <th>address</th>\n",
       "        </tr>\n",
       "    </thead>\n",
       "    <tbody>\n",
       "        <tr>\n",
       "            <td>1</td>\n",
       "            <td>Tamirat Ketema</td>\n",
       "            <td>male</td>\n",
       "            <td>46</td>\n",
       "            <td>6000.0</td>\n",
       "            <td>2012-10-25</td>\n",
       "            <td>None</td>\n",
       "            <td>None</td>\n",
       "            <td>33021 456 Gonder</td>\n",
       "        </tr>\n",
       "        <tr>\n",
       "            <td>2</td>\n",
       "            <td>Bety Ayle</td>\n",
       "            <td>female</td>\n",
       "            <td>26</td>\n",
       "            <td>5000.0</td>\n",
       "            <td>2013-06-10</td>\n",
       "            <td>Marketing</td>\n",
       "            <td>1</td>\n",
       "            <td>34034 304 Bahar_dar</td>\n",
       "        </tr>\n",
       "        <tr>\n",
       "            <td>3</td>\n",
       "            <td>Aragaw Mola</td>\n",
       "            <td>male</td>\n",
       "            <td>25</td>\n",
       "            <td>4500.0</td>\n",
       "            <td>2000-03-17</td>\n",
       "            <td>IT</td>\n",
       "            <td>6</td>\n",
       "            <td>45076 206 Debre_tabor</td>\n",
       "        </tr>\n",
       "        <tr>\n",
       "            <td>4</td>\n",
       "            <td>Alemu Asmar</td>\n",
       "            <td>male</td>\n",
       "            <td>24</td>\n",
       "            <td>4500.0</td>\n",
       "            <td>2000-04-02</td>\n",
       "            <td>Marketing</td>\n",
       "            <td>2</td>\n",
       "            <td>55076 809 Addis_Ababa</td>\n",
       "        </tr>\n",
       "        <tr>\n",
       "            <td>5</td>\n",
       "            <td>Hiwot Kebede</td>\n",
       "            <td>female</td>\n",
       "            <td>27</td>\n",
       "            <td>4000.0</td>\n",
       "            <td>2016-04-23</td>\n",
       "            <td>IT</td>\n",
       "            <td>6</td>\n",
       "            <td>33022 455 Gonder</td>\n",
       "        </tr>\n",
       "    </tbody>\n",
       "</table>"
      ],
      "text/plain": [
       "+--------+----------------+--------+-----+--------+------------+------------+------------+-----------------------+\n",
       "| emp_id |   full_name    | gender | age | salary | hire_date  | department | manager_id |        address        |\n",
       "+--------+----------------+--------+-----+--------+------------+------------+------------+-----------------------+\n",
       "|   1    | Tamirat Ketema |  male  |  46 | 6000.0 | 2012-10-25 |    None    |    None    |    33021 456 Gonder   |\n",
       "|   2    |   Bety Ayle    | female |  26 | 5000.0 | 2013-06-10 | Marketing  |     1      |  34034 304 Bahar_dar  |\n",
       "|   3    |  Aragaw Mola   |  male  |  25 | 4500.0 | 2000-03-17 |     IT     |     6      | 45076 206 Debre_tabor |\n",
       "|   4    |  Alemu Asmar   |  male  |  24 | 4500.0 | 2000-04-02 | Marketing  |     2      | 55076 809 Addis_Ababa |\n",
       "|   5    |  Hiwot Kebede  | female |  27 | 4000.0 | 2016-04-23 |     IT     |     6      |    33022 455 Gonder   |\n",
       "+--------+----------------+--------+-----+--------+------------+------------+------------+-----------------------+"
      ]
     },
     "execution_count": 58,
     "metadata": {},
     "output_type": "execute_result"
    }
   ],
   "source": [
    "%%sql\n",
    "\n",
    "SELECT * FROM employees\n",
    "LIMIT 5;"
   ]
  },
  {
   "cell_type": "markdown",
   "id": "22b7663c-1f30-4664-9ce9-dde9f2442e0e",
   "metadata": {},
   "source": [
    "##### Split Column"
   ]
  },
  {
   "cell_type": "markdown",
   "id": "24dc4a93-dcd0-4e50-9e07-0df5ed3a58b5",
   "metadata": {},
   "source": [
    "Step1.Add three new columns for splitting column(address) as \"zip code, postal code and city\"."
   ]
  },
  {
   "cell_type": "code",
   "execution_count": 62,
   "id": "669f9820-60d0-4b9f-8086-517cb798abb1",
   "metadata": {},
   "outputs": [
    {
     "data": {
      "text/html": [
       "<table>\n",
       "    <thead>\n",
       "        <tr>\n",
       "        </tr>\n",
       "    </thead>\n",
       "    <tbody>\n",
       "    </tbody>\n",
       "</table>"
      ],
      "text/plain": [
       "++\n",
       "||\n",
       "++\n",
       "++"
      ]
     },
     "execution_count": 62,
     "metadata": {},
     "output_type": "execute_result"
    }
   ],
   "source": [
    "%%sql\n",
    "\n",
    "USE mydata_two;\n",
    "\n",
    "ALTER TABLE employees\n",
    "ADD COLUMN zip_code VARCHAR(50), \n",
    "ADD COLUMN postal_code VARCHAR(50), \n",
    "ADD COLUMN city VARCHAR(50) ;\n",
    "\n",
    "    COMMIT;"
   ]
  },
  {
   "cell_type": "markdown",
   "id": "e1f7aa75-6db6-4686-ac1b-322925a67c8d",
   "metadata": {},
   "source": [
    "Step2. Verfiy that the new columns are created."
   ]
  },
  {
   "cell_type": "code",
   "execution_count": 63,
   "id": "307bea91-e4d0-4f50-8973-8f0096d92f4b",
   "metadata": {},
   "outputs": [
    {
     "data": {
      "text/html": [
       "<table>\n",
       "    <thead>\n",
       "        <tr>\n",
       "            <th>emp_id</th>\n",
       "            <th>full_name</th>\n",
       "            <th>gender</th>\n",
       "            <th>age</th>\n",
       "            <th>salary</th>\n",
       "            <th>hire_date</th>\n",
       "            <th>department</th>\n",
       "            <th>manager_id</th>\n",
       "            <th>address</th>\n",
       "            <th>zip_code</th>\n",
       "            <th>postal_code</th>\n",
       "            <th>city</th>\n",
       "        </tr>\n",
       "    </thead>\n",
       "    <tbody>\n",
       "        <tr>\n",
       "            <td>1</td>\n",
       "            <td>Tamirat Ketema</td>\n",
       "            <td>male</td>\n",
       "            <td>46</td>\n",
       "            <td>6000.0</td>\n",
       "            <td>2012-10-25</td>\n",
       "            <td>None</td>\n",
       "            <td>None</td>\n",
       "            <td>33021 456 Gonder</td>\n",
       "            <td>None</td>\n",
       "            <td>None</td>\n",
       "            <td>None</td>\n",
       "        </tr>\n",
       "        <tr>\n",
       "            <td>2</td>\n",
       "            <td>Bety Ayle</td>\n",
       "            <td>female</td>\n",
       "            <td>26</td>\n",
       "            <td>5000.0</td>\n",
       "            <td>2013-06-10</td>\n",
       "            <td>Marketing</td>\n",
       "            <td>1</td>\n",
       "            <td>34034 304 Bahar_dar</td>\n",
       "            <td>None</td>\n",
       "            <td>None</td>\n",
       "            <td>None</td>\n",
       "        </tr>\n",
       "    </tbody>\n",
       "</table>"
      ],
      "text/plain": [
       "+--------+----------------+--------+-----+--------+------------+------------+------------+---------------------+----------+-------------+------+\n",
       "| emp_id |   full_name    | gender | age | salary | hire_date  | department | manager_id |       address       | zip_code | postal_code | city |\n",
       "+--------+----------------+--------+-----+--------+------------+------------+------------+---------------------+----------+-------------+------+\n",
       "|   1    | Tamirat Ketema |  male  |  46 | 6000.0 | 2012-10-25 |    None    |    None    |   33021 456 Gonder  |   None   |     None    | None |\n",
       "|   2    |   Bety Ayle    | female |  26 | 5000.0 | 2013-06-10 | Marketing  |     1      | 34034 304 Bahar_dar |   None   |     None    | None |\n",
       "+--------+----------------+--------+-----+--------+------------+------------+------------+---------------------+----------+-------------+------+"
      ]
     },
     "execution_count": 63,
     "metadata": {},
     "output_type": "execute_result"
    }
   ],
   "source": [
    "%%sql\n",
    "\n",
    "SELECT * FROM employees\n",
    "LIMIT 2;"
   ]
  },
  {
   "cell_type": "markdown",
   "id": "0b689978-8988-4356-b5e6-084a3f9e2588",
   "metadata": {},
   "source": [
    "Step3. insert the values that are separated by white-space delimeter of splited column(address) into the new three columns ."
   ]
  },
  {
   "cell_type": "code",
   "execution_count": null,
   "id": "64978b0a-8c74-4e36-bb59-c1bf9bec4184",
   "metadata": {},
   "outputs": [],
   "source": [
    "%%sql\n",
    "\n",
    "USE mydata_two;\n",
    "\n",
    "UPDATE employees\n",
    "SET zip_code = SUBSTRING_INDEX(address, ' ', 1),\n",
    "    postal_code = SUBSTRING_INDEX(SUBSTRING_INDEX(address, ' ', 2), ' ', -1),\n",
    "    city = SUBSTRING_INDEX(address, ' ', -1);"
   ]
  },
  {
   "cell_type": "markdown",
   "id": "4df83ae3-228c-4ac4-88cb-6f96b6e427f5",
   "metadata": {},
   "source": [
    "Step4. Verify that the values are inserted into the new columns."
   ]
  },
  {
   "cell_type": "code",
   "execution_count": 65,
   "id": "8c1d5fd7-c0d9-4bfd-be3a-a21cadbb827f",
   "metadata": {},
   "outputs": [
    {
     "data": {
      "text/html": [
       "<table>\n",
       "    <thead>\n",
       "        <tr>\n",
       "            <th>emp_id</th>\n",
       "            <th>full_name</th>\n",
       "            <th>gender</th>\n",
       "            <th>age</th>\n",
       "            <th>salary</th>\n",
       "            <th>hire_date</th>\n",
       "            <th>department</th>\n",
       "            <th>manager_id</th>\n",
       "            <th>address</th>\n",
       "            <th>zip_code</th>\n",
       "            <th>postal_code</th>\n",
       "            <th>city</th>\n",
       "        </tr>\n",
       "    </thead>\n",
       "    <tbody>\n",
       "        <tr>\n",
       "            <td>1</td>\n",
       "            <td>Tamirat Ketema</td>\n",
       "            <td>male</td>\n",
       "            <td>46</td>\n",
       "            <td>6000.0</td>\n",
       "            <td>2012-10-25</td>\n",
       "            <td>None</td>\n",
       "            <td>None</td>\n",
       "            <td>33021 456 Gonder</td>\n",
       "            <td>33021</td>\n",
       "            <td>456</td>\n",
       "            <td>Gonder</td>\n",
       "        </tr>\n",
       "        <tr>\n",
       "            <td>2</td>\n",
       "            <td>Bety Ayle</td>\n",
       "            <td>female</td>\n",
       "            <td>26</td>\n",
       "            <td>5000.0</td>\n",
       "            <td>2013-06-10</td>\n",
       "            <td>Marketing</td>\n",
       "            <td>1</td>\n",
       "            <td>34034 304 Bahar_dar</td>\n",
       "            <td>34034</td>\n",
       "            <td>304</td>\n",
       "            <td>Bahar_dar</td>\n",
       "        </tr>\n",
       "    </tbody>\n",
       "</table>"
      ],
      "text/plain": [
       "+--------+----------------+--------+-----+--------+------------+------------+------------+---------------------+----------+-------------+-----------+\n",
       "| emp_id |   full_name    | gender | age | salary | hire_date  | department | manager_id |       address       | zip_code | postal_code |    city   |\n",
       "+--------+----------------+--------+-----+--------+------------+------------+------------+---------------------+----------+-------------+-----------+\n",
       "|   1    | Tamirat Ketema |  male  |  46 | 6000.0 | 2012-10-25 |    None    |    None    |   33021 456 Gonder  |  33021   |     456     |   Gonder  |\n",
       "|   2    |   Bety Ayle    | female |  26 | 5000.0 | 2013-06-10 | Marketing  |     1      | 34034 304 Bahar_dar |  34034   |     304     | Bahar_dar |\n",
       "+--------+----------------+--------+-----+--------+------------+------------+------------+---------------------+----------+-------------+-----------+"
      ]
     },
     "execution_count": 65,
     "metadata": {},
     "output_type": "execute_result"
    }
   ],
   "source": [
    "%%sql\n",
    "\n",
    "SELECT * FROM employees\n",
    "LIMIT 2;"
   ]
  },
  {
   "cell_type": "markdown",
   "id": "792ebddf-8904-477d-901c-1a8dddc1a0f3",
   "metadata": {},
   "source": [
    "Step5. Drop the splitted column(address)."
   ]
  },
  {
   "cell_type": "code",
   "execution_count": 66,
   "id": "b89a1c92-d1f6-4b1a-9ee7-f96d52634d61",
   "metadata": {},
   "outputs": [
    {
     "data": {
      "text/html": [
       "<table>\n",
       "    <thead>\n",
       "        <tr>\n",
       "        </tr>\n",
       "    </thead>\n",
       "    <tbody>\n",
       "    </tbody>\n",
       "</table>"
      ],
      "text/plain": [
       "++\n",
       "||\n",
       "++\n",
       "++"
      ]
     },
     "execution_count": 66,
     "metadata": {},
     "output_type": "execute_result"
    }
   ],
   "source": [
    "%%sql\n",
    "\n",
    "USE mydata_two;\n",
    "\n",
    "ALTER TABLE employees\n",
    "DROP COLUMN address;\n",
    "\n",
    "COMMIT;"
   ]
  },
  {
   "cell_type": "markdown",
   "id": "ca82c632-6595-488c-aa65-0de89a4076a2",
   "metadata": {},
   "source": [
    "Step6. Verify that the splitted column address is dropped."
   ]
  },
  {
   "cell_type": "code",
   "execution_count": 68,
   "id": "6d98eca3-49e4-4e32-a30c-66fe7e7c5db7",
   "metadata": {},
   "outputs": [
    {
     "data": {
      "text/html": [
       "<table>\n",
       "    <thead>\n",
       "        <tr>\n",
       "            <th>emp_id</th>\n",
       "            <th>full_name</th>\n",
       "            <th>gender</th>\n",
       "            <th>age</th>\n",
       "            <th>salary</th>\n",
       "            <th>hire_date</th>\n",
       "            <th>department</th>\n",
       "            <th>manager_id</th>\n",
       "            <th>zip_code</th>\n",
       "            <th>postal_code</th>\n",
       "            <th>city</th>\n",
       "        </tr>\n",
       "    </thead>\n",
       "    <tbody>\n",
       "        <tr>\n",
       "            <td>1</td>\n",
       "            <td>Tamirat Ketema</td>\n",
       "            <td>male</td>\n",
       "            <td>46</td>\n",
       "            <td>6000.0</td>\n",
       "            <td>2012-10-25</td>\n",
       "            <td>None</td>\n",
       "            <td>None</td>\n",
       "            <td>33021</td>\n",
       "            <td>456</td>\n",
       "            <td>Gonder</td>\n",
       "        </tr>\n",
       "        <tr>\n",
       "            <td>2</td>\n",
       "            <td>Bety Ayle</td>\n",
       "            <td>female</td>\n",
       "            <td>26</td>\n",
       "            <td>5000.0</td>\n",
       "            <td>2013-06-10</td>\n",
       "            <td>Marketing</td>\n",
       "            <td>1</td>\n",
       "            <td>34034</td>\n",
       "            <td>304</td>\n",
       "            <td>Bahar_dar</td>\n",
       "        </tr>\n",
       "    </tbody>\n",
       "</table>"
      ],
      "text/plain": [
       "+--------+----------------+--------+-----+--------+------------+------------+------------+----------+-------------+-----------+\n",
       "| emp_id |   full_name    | gender | age | salary | hire_date  | department | manager_id | zip_code | postal_code |    city   |\n",
       "+--------+----------------+--------+-----+--------+------------+------------+------------+----------+-------------+-----------+\n",
       "|   1    | Tamirat Ketema |  male  |  46 | 6000.0 | 2012-10-25 |    None    |    None    |  33021   |     456     |   Gonder  |\n",
       "|   2    |   Bety Ayle    | female |  26 | 5000.0 | 2013-06-10 | Marketing  |     1      |  34034   |     304     | Bahar_dar |\n",
       "+--------+----------------+--------+-----+--------+------------+------------+------------+----------+-------------+-----------+"
      ]
     },
     "execution_count": 68,
     "metadata": {},
     "output_type": "execute_result"
    }
   ],
   "source": [
    "%%sql\n",
    "\n",
    "SELECT * FROM employees\n",
    "LIMIT 2;"
   ]
  },
  {
   "cell_type": "markdown",
   "id": "2044f63b-2cfe-48d5-b1e1-6fe373c5cd0a",
   "metadata": {},
   "source": [
    "### D. DATA RETRIEVING"
   ]
  },
  {
   "cell_type": "markdown",
   "id": "1090af96-e14e-478b-898d-1e72c5eb8221",
   "metadata": {},
   "source": [
    "##### using window function"
   ]
  },
  {
   "cell_type": "markdown",
   "id": "371bf3ec-acf0-4c5c-b7bb-cc0285839c2d",
   "metadata": {},
   "source": [
    "Fetch all the employees who earn the maximum salary in each department along with emp_id, full_name, salary and department."
   ]
  },
  {
   "cell_type": "code",
   "execution_count": 41,
   "id": "1d27fa43-2ca5-4a44-aada-463f3a08968c",
   "metadata": {},
   "outputs": [
    {
     "data": {
      "text/html": [
       "<table>\n",
       "    <thead>\n",
       "        <tr>\n",
       "            <th>emp_id</th>\n",
       "            <th>full_name</th>\n",
       "            <th>salary</th>\n",
       "            <th>department</th>\n",
       "        </tr>\n",
       "    </thead>\n",
       "    <tbody>\n",
       "        <tr>\n",
       "            <td>10</td>\n",
       "            <td>Desta Mola</td>\n",
       "            <td>5000.0</td>\n",
       "            <td>Finance</td>\n",
       "        </tr>\n",
       "        <tr>\n",
       "            <td>14</td>\n",
       "            <td>Sema Bitew</td>\n",
       "            <td>5000.0</td>\n",
       "            <td>HR</td>\n",
       "        </tr>\n",
       "        <tr>\n",
       "            <td>6</td>\n",
       "            <td>Getachew Kebede</td>\n",
       "            <td>5000.0</td>\n",
       "            <td>IT</td>\n",
       "        </tr>\n",
       "        <tr>\n",
       "            <td>2</td>\n",
       "            <td>Bety Ayle</td>\n",
       "            <td>5000.0</td>\n",
       "            <td>Marketing</td>\n",
       "        </tr>\n",
       "    </tbody>\n",
       "</table>"
      ],
      "text/plain": [
       "+--------+-----------------+--------+------------+\n",
       "| emp_id |    full_name    | salary | department |\n",
       "+--------+-----------------+--------+------------+\n",
       "|   10   |    Desta Mola   | 5000.0 |  Finance   |\n",
       "|   14   |    Sema Bitew   | 5000.0 |     HR     |\n",
       "|   6    | Getachew Kebede | 5000.0 |     IT     |\n",
       "|   2    |    Bety Ayle    | 5000.0 | Marketing  |\n",
       "+--------+-----------------+--------+------------+"
      ]
     },
     "execution_count": 41,
     "metadata": {},
     "output_type": "execute_result"
    }
   ],
   "source": [
    "%%sql\n",
    "WITH department_max_salary AS(\n",
    "        SELECT *, \n",
    "            RANK() OVER(PARTITION BY department ORDER BY salary DESC) AS rk\n",
    "        FROM employees\n",
    "    )\n",
    "SELECT \n",
    "    emp_id,\n",
    "    full_name,\n",
    "    salary,\n",
    "    department\n",
    "FROM department_max_salary\n",
    "WHERE department IS NOT NULL AND rk = 1; \n",
    "    "
   ]
  },
  {
   "cell_type": "markdown",
   "id": "264f8708-7260-4868-87ab-1f5222f3cdad",
   "metadata": {},
   "source": [
    "Fetch all the employees who earn the second maximum salary in each department along with emp_id, full_name, salary and department."
   ]
  },
  {
   "cell_type": "code",
   "execution_count": 42,
   "id": "d3407173-2acd-4710-8bd7-3f788802414f",
   "metadata": {},
   "outputs": [
    {
     "data": {
      "text/html": [
       "<table>\n",
       "    <thead>\n",
       "        <tr>\n",
       "            <th>emp_id</th>\n",
       "            <th>full_name</th>\n",
       "            <th>salary</th>\n",
       "            <th>department</th>\n",
       "        </tr>\n",
       "    </thead>\n",
       "    <tbody>\n",
       "        <tr>\n",
       "            <td>12</td>\n",
       "            <td>Ayalew Tamire</td>\n",
       "            <td>4000.0</td>\n",
       "            <td>Finance</td>\n",
       "        </tr>\n",
       "        <tr>\n",
       "            <td>16</td>\n",
       "            <td>Kassaw Tamirat</td>\n",
       "            <td>4000.0</td>\n",
       "            <td>Finance</td>\n",
       "        </tr>\n",
       "        <tr>\n",
       "            <td>8</td>\n",
       "            <td>Meseret Ayle</td>\n",
       "            <td>3500.0</td>\n",
       "            <td>HR</td>\n",
       "        </tr>\n",
       "        <tr>\n",
       "            <td>3</td>\n",
       "            <td>Aragaw Mola</td>\n",
       "            <td>4500.0</td>\n",
       "            <td>IT</td>\n",
       "        </tr>\n",
       "        <tr>\n",
       "            <td>4</td>\n",
       "            <td>Alemu Asmar</td>\n",
       "            <td>4500.0</td>\n",
       "            <td>Marketing</td>\n",
       "        </tr>\n",
       "        <tr>\n",
       "            <td>7</td>\n",
       "            <td>Kidist Kebede</td>\n",
       "            <td>4500.0</td>\n",
       "            <td>Marketing</td>\n",
       "        </tr>\n",
       "    </tbody>\n",
       "</table>"
      ],
      "text/plain": [
       "+--------+----------------+--------+------------+\n",
       "| emp_id |   full_name    | salary | department |\n",
       "+--------+----------------+--------+------------+\n",
       "|   12   | Ayalew Tamire  | 4000.0 |  Finance   |\n",
       "|   16   | Kassaw Tamirat | 4000.0 |  Finance   |\n",
       "|   8    |  Meseret Ayle  | 3500.0 |     HR     |\n",
       "|   3    |  Aragaw Mola   | 4500.0 |     IT     |\n",
       "|   4    |  Alemu Asmar   | 4500.0 | Marketing  |\n",
       "|   7    | Kidist Kebede  | 4500.0 | Marketing  |\n",
       "+--------+----------------+--------+------------+"
      ]
     },
     "execution_count": 42,
     "metadata": {},
     "output_type": "execute_result"
    }
   ],
   "source": [
    "%%sql\n",
    "WITH department_max_salary AS(\n",
    "        SELECT *,  \n",
    "            RANK() OVER(PARTITION BY department ORDER BY salary DESC) AS rk\n",
    "        FROM employees\n",
    "          )\n",
    "SELECT \n",
    "     emp_id,\n",
    "     full_name,\n",
    "     salary,\n",
    "     department  \n",
    "FROM department_max_salary\n",
    "WHERE department IS NOT NULL AND rk = 2; \n",
    "    "
   ]
  },
  {
   "cell_type": "markdown",
   "id": "42d58a16-6ea3-4d20-a2c7-f2b4c835da0a",
   "metadata": {},
   "source": [
    "Fetch the first two departments that earn the highest total salary."
   ]
  },
  {
   "cell_type": "code",
   "execution_count": 46,
   "id": "960ebd37-418a-4106-90b5-a79267e9daac",
   "metadata": {},
   "outputs": [
    {
     "data": {
      "text/html": [
       "<table>\n",
       "    <thead>\n",
       "        <tr>\n",
       "            <th>department</th>\n",
       "            <th>Total_salary_by_department</th>\n",
       "        </tr>\n",
       "    </thead>\n",
       "    <tbody>\n",
       "        <tr>\n",
       "            <td>Marketing</td>\n",
       "            <td>17,500</td>\n",
       "        </tr>\n",
       "        <tr>\n",
       "            <td>IT</td>\n",
       "            <td>16,700</td>\n",
       "        </tr>\n",
       "    </tbody>\n",
       "</table>"
      ],
      "text/plain": [
       "+------------+----------------------------+\n",
       "| department | Total_salary_by_department |\n",
       "+------------+----------------------------+\n",
       "| Marketing  |           17,500           |\n",
       "|     IT     |           16,700           |\n",
       "+------------+----------------------------+"
      ]
     },
     "execution_count": 46,
     "metadata": {},
     "output_type": "execute_result"
    }
   ],
   "source": [
    "%%sql\n",
    "SELECT\n",
    "    department,\n",
    "    FORMAT(Total_salary_by_department, 0) AS Total_salary_by_department\n",
    "FROM(\n",
    "        SELECT \n",
    "              department,\n",
    "              SUM(salary) as Total_salary_by_department\n",
    "        FROM employees\n",
    "        GROUP BY department\n",
    "        ORDER BY Total_salary_by_department DESC\n",
    "        LIMIT 2\n",
    "     ) AS Subquery;"
   ]
  },
  {
   "cell_type": "markdown",
   "id": "ef307282-14d1-4763-ac20-6f42a6f0de06",
   "metadata": {},
   "source": [
    "##### USING RECURSIVE QUERY "
   ]
  },
  {
   "cell_type": "markdown",
   "id": "a0593d32-7785-4f1f-91f3-107f40d6115b",
   "metadata": {},
   "source": [
    "1. Recursive from a higher to a lower position."
   ]
  },
  {
   "cell_type": "markdown",
   "id": "8c81f3da-bf94-42ad-aaca-3db91e58e824",
   "metadata": {},
   "source": [
    "Fetch all employees with their managers, and consider that the top-level manager's manager_id is null."
   ]
  },
  {
   "cell_type": "code",
   "execution_count": 3,
   "id": "3c653569-3b3f-41b6-9bd9-c18f15dc40a0",
   "metadata": {},
   "outputs": [
    {
     "data": {
      "text/html": [
       "<table>\n",
       "    <thead>\n",
       "        <tr>\n",
       "            <th>employee_name</th>\n",
       "            <th>emp_level</th>\n",
       "            <th>manager_name</th>\n",
       "        </tr>\n",
       "    </thead>\n",
       "    <tbody>\n",
       "        <tr>\n",
       "            <td>Tamirat Ketema</td>\n",
       "            <td>1</td>\n",
       "            <td>None</td>\n",
       "        </tr>\n",
       "        <tr>\n",
       "            <td>Bety Ayle,Getachew Kebede,Desta Mola,Sema Bitew</td>\n",
       "            <td>2</td>\n",
       "            <td>Tamirat Ketema</td>\n",
       "        </tr>\n",
       "        <tr>\n",
       "            <td>Alemu Asmar,Kidist Kebede,Debebe Kassie</td>\n",
       "            <td>3</td>\n",
       "            <td>Bety Ayle</td>\n",
       "        </tr>\n",
       "        <tr>\n",
       "            <td>Ayalew Tamire,Kassaw Tamirat,Belay Ketema</td>\n",
       "            <td>3</td>\n",
       "            <td>Desta Mola</td>\n",
       "        </tr>\n",
       "        <tr>\n",
       "            <td>Aragaw Mola,Hiwot Kebede,Ketemaw Ketema</td>\n",
       "            <td>3</td>\n",
       "            <td>Getachew Kebede</td>\n",
       "        </tr>\n",
       "        <tr>\n",
       "            <td>Meseret Ayle,Gashaw Kebede,Abebe Kassaw</td>\n",
       "            <td>3</td>\n",
       "            <td>Sema Bitew</td>\n",
       "        </tr>\n",
       "    </tbody>\n",
       "</table>"
      ],
      "text/plain": [
       "+-------------------------------------------------+-----------+-----------------+\n",
       "|                  employee_name                  | emp_level |   manager_name  |\n",
       "+-------------------------------------------------+-----------+-----------------+\n",
       "|                  Tamirat Ketema                 |     1     |       None      |\n",
       "| Bety Ayle,Getachew Kebede,Desta Mola,Sema Bitew |     2     |  Tamirat Ketema |\n",
       "|     Alemu Asmar,Kidist Kebede,Debebe Kassie     |     3     |    Bety Ayle    |\n",
       "|    Ayalew Tamire,Kassaw Tamirat,Belay Ketema    |     3     |    Desta Mola   |\n",
       "|     Aragaw Mola,Hiwot Kebede,Ketemaw Ketema     |     3     | Getachew Kebede |\n",
       "|     Meseret Ayle,Gashaw Kebede,Abebe Kassaw     |     3     |    Sema Bitew   |\n",
       "+-------------------------------------------------+-----------+-----------------+"
      ]
     },
     "execution_count": 3,
     "metadata": {},
     "output_type": "execute_result"
    }
   ],
   "source": [
    "%%sql\n",
    "\n",
    "WITH RECURSIVE manager_hierarchy AS(\n",
    "    SELECT \n",
    "        emp_id,\n",
    "        full_name,\n",
    "        manager_id,\n",
    "        1 AS emp_level -- Assume that level 1 here is the highest hierarchical level\n",
    "    FROM employees \n",
    "    WHERE manager_id IS NULL\n",
    "    UNION ALL\n",
    "    SELECT\n",
    "        E.emp_id,\n",
    "        E.full_name,\n",
    "        E.manager_id,\n",
    "        MH.emp_level+1 AS emp_level\n",
    "    FROM manager_hierarchy  MH\n",
    "    JOIN employees E\n",
    "    ON MH.emp_id = E.manager_id\n",
    "    )\n",
    "\n",
    "SELECT \n",
    "    GROUP_CONCAT(mh.full_name) AS employee_name,\n",
    "    MH.emp_level,\n",
    "    E.full_name AS manager_name     \n",
    "FROM manager_hierarchy MH\n",
    "LEFT JOIN employees E \n",
    "ON E.emp_id = MH.manager_id\n",
    "GROUP BY manager_name, emp_level\n",
    "ORDER BY emp_level;"
   ]
  },
  {
   "cell_type": "markdown",
   "id": "1bd37073-c276-48cc-9869-1567dfd59df2",
   "metadata": {},
   "source": [
    "Fetch all employees under the hierarchical position of manager \"Tamirat Ketema\"."
   ]
  },
  {
   "cell_type": "code",
   "execution_count": 37,
   "id": "6dc2bc7a-4fa5-4c7b-93fb-50a87168fd57",
   "metadata": {},
   "outputs": [
    {
     "data": {
      "text/html": [
       "<table>\n",
       "    <thead>\n",
       "        <tr>\n",
       "            <th>manager_name</th>\n",
       "            <th>employee_name</th>\n",
       "            <th>emp_level</th>\n",
       "        </tr>\n",
       "    </thead>\n",
       "    <tbody>\n",
       "        <tr>\n",
       "            <td>Tamirat Ketema</td>\n",
       "            <td>Sema Bitew,Desta Mola,Getachew Kebede,Bety Ayle</td>\n",
       "            <td>2</td>\n",
       "        </tr>\n",
       "        <tr>\n",
       "            <td>Bety Ayle</td>\n",
       "            <td>Debebe Kassie,Kidist Kebede,Alemu Asmar</td>\n",
       "            <td>3</td>\n",
       "        </tr>\n",
       "        <tr>\n",
       "            <td>Desta Mola</td>\n",
       "            <td>Belay Ketema,Kassaw Tamirat,Ayalew Tamire</td>\n",
       "            <td>3</td>\n",
       "        </tr>\n",
       "        <tr>\n",
       "            <td>Getachew Kebede</td>\n",
       "            <td>Ketemaw Ketema,Hiwot Kebede,Aragaw Mola</td>\n",
       "            <td>3</td>\n",
       "        </tr>\n",
       "        <tr>\n",
       "            <td>Sema Bitew</td>\n",
       "            <td>Abebe Kassaw,Gashaw Kebede,Meseret Ayle</td>\n",
       "            <td>3</td>\n",
       "        </tr>\n",
       "    </tbody>\n",
       "</table>"
      ],
      "text/plain": [
       "+-----------------+-------------------------------------------------+-----------+\n",
       "|   manager_name  |                  employee_name                  | emp_level |\n",
       "+-----------------+-------------------------------------------------+-----------+\n",
       "|  Tamirat Ketema | Sema Bitew,Desta Mola,Getachew Kebede,Bety Ayle |     2     |\n",
       "|    Bety Ayle    |     Debebe Kassie,Kidist Kebede,Alemu Asmar     |     3     |\n",
       "|    Desta Mola   |    Belay Ketema,Kassaw Tamirat,Ayalew Tamire    |     3     |\n",
       "| Getachew Kebede |     Ketemaw Ketema,Hiwot Kebede,Aragaw Mola     |     3     |\n",
       "|    Sema Bitew   |     Abebe Kassaw,Gashaw Kebede,Meseret Ayle     |     3     |\n",
       "+-----------------+-------------------------------------------------+-----------+"
      ]
     },
     "execution_count": 37,
     "metadata": {},
     "output_type": "execute_result"
    }
   ],
   "source": [
    "%%sql\n",
    "\n",
    "WITH RECURSIVE manager_hierarchy AS(\n",
    "    SELECT \n",
    "        emp_id,\n",
    "        full_name,\n",
    "        manager_id,\n",
    "        1 AS emp_level -- Assume level 1 here is the highest hierarchical level\n",
    "    FROM employees \n",
    "    WHERE full_name = \"Tamirat Ketema\" \n",
    "    UNION ALL\n",
    "    SELECT\n",
    "        E.emp_id,\n",
    "        E.full_name,\n",
    "        E.manager_id,\n",
    "        MH.emp_level+1 AS emp_level\n",
    "    FROM manager_hierarchy  MH\n",
    "    JOIN employees E\n",
    "    ON MH.emp_id = E.manager_id\n",
    "    )\n",
    "  \n",
    "SELECT \n",
    "    E.full_name AS manager_name,\n",
    "    GROUP_CONCAT(eh.full_name) AS employee_name,\n",
    "    MH.emp_level   \n",
    "FROM manager_hierarchy MH\n",
    "JOIN employees E \n",
    "ON E.emp_id = MH.manager_id\n",
    "GROUP BY manager_name, emp_level\n",
    "ORDER BY emp_level;"
   ]
  },
  {
   "cell_type": "markdown",
   "id": "1f6e7d01-1388-4aa9-a7f1-2188b427ad6d",
   "metadata": {},
   "source": [
    "2. Recursive from a lower to a higher position."
   ]
  },
  {
   "cell_type": "markdown",
   "id": "e2e640df-388e-4c33-9f4a-8103680bc197",
   "metadata": {},
   "source": [
    "Fetch all hierarchical managers of an employee whose `emp_id` = 9."
   ]
  },
  {
   "cell_type": "code",
   "execution_count": 13,
   "id": "b16eceb9-4b8c-4eef-816f-bcf513f3bcb4",
   "metadata": {},
   "outputs": [
    {
     "data": {
      "text/html": [
       "<table>\n",
       "    <thead>\n",
       "        <tr>\n",
       "            <th>emp_id</th>\n",
       "            <th>employee_name</th>\n",
       "            <th>manager_name</th>\n",
       "            <th>emp_level</th>\n",
       "        </tr>\n",
       "    </thead>\n",
       "    <tbody>\n",
       "        <tr>\n",
       "            <td>9</td>\n",
       "            <td>Gashaw Kebede</td>\n",
       "            <td>Sema Bitew</td>\n",
       "            <td>1</td>\n",
       "        </tr>\n",
       "        <tr>\n",
       "            <td>14</td>\n",
       "            <td>Sema Bitew</td>\n",
       "            <td>Tamirat Ketema</td>\n",
       "            <td>2</td>\n",
       "        </tr>\n",
       "    </tbody>\n",
       "</table>"
      ],
      "text/plain": [
       "+--------+---------------+----------------+-----------+\n",
       "| emp_id | employee_name |  manager_name  | emp_level |\n",
       "+--------+---------------+----------------+-----------+\n",
       "|   9    | Gashaw Kebede |   Sema Bitew   |     1     |\n",
       "|   14   |   Sema Bitew  | Tamirat Ketema |     2     |\n",
       "+--------+---------------+----------------+-----------+"
      ]
     },
     "execution_count": 13,
     "metadata": {},
     "output_type": "execute_result"
    }
   ],
   "source": [
    "%%sql\n",
    "\n",
    "WITH RECURSIVE employee_hierarchy AS(\n",
    "    SELECT \n",
    "        emp_id,\n",
    "        full_name,\n",
    "        manager_id,\n",
    "        1 AS emp_level -- Assume that level 1 here is the lowest hierarchical level.\n",
    "    FROM employees \n",
    "    WHERE emp_id =9\n",
    "    UNION ALL\n",
    "    SELECT\n",
    "        E.emp_id,\n",
    "        E.full_name,\n",
    "        E.manager_id,\n",
    "        EH.emp_level+1 AS emp_level\n",
    "    FROM employee_hierarchy EH\n",
    "    JOIN employees E\n",
    "    ON E.emp_id = EH.manager_id\n",
    "    )\n",
    "SELECT \n",
    "    EH.emp_id,\n",
    "    EH.full_name AS employee_name,\n",
    "    EH.full_name AS manager_name,\n",
    "    emp_level   \n",
    "FROM employee_hierarchy EH\n",
    "JOIN employees E\n",
    "ON E.emp_id = EH.manager_id \n",
    "ORDER BY emp_level;\n",
    "    \n",
    "    "
   ]
  }
 ],
 "metadata": {
  "kernelspec": {
   "display_name": "Python 3 (ipykernel)",
   "language": "python",
   "name": "python3"
  },
  "language_info": {
   "codemirror_mode": {
    "name": "ipython",
    "version": 3
   },
   "file_extension": ".py",
   "mimetype": "text/x-python",
   "name": "python",
   "nbconvert_exporter": "python",
   "pygments_lexer": "ipython3",
   "version": "3.11.7"
  }
 },
 "nbformat": 4,
 "nbformat_minor": 5
}
