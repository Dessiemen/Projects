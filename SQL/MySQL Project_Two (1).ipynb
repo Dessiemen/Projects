{
 "cells": [
  {
   "cell_type": "markdown",
   "id": "83f198db-dc33-416c-bf67-a8afb707291c",
   "metadata": {},
   "source": [
    "### Project Overview: Northwind Traders Dataset Analysis"
   ]
  },
  {
   "cell_type": "markdown",
   "id": "14c151fa-1dbc-46a9-9759-541ff17341a7",
   "metadata": {},
   "source": [
    "### Table of Contents"
   ]
  },
  {
   "cell_type": "markdown",
   "id": "ce2cb0be-53ad-4da5-aee7-1ef367dc7c81",
   "metadata": {
    "jp-MarkdownHeadingCollapsed": true
   },
   "source": [
    "#### 1. Purpose/Objective\n",
    "\n",
    "#### 2. Project Workflow\n",
    "- Data Downloading\n",
    "- Data Transformation in Excel\n",
    "- Database Creation and Table Design in MySQL-Workbench\n",
    "- Importing CSV Files into MySQL Database\n",
    "- Data Retrieval and Analysis with Jupyter Notebook\n",
    "#### 3. Showcases in Data Retrieving and Analysis)\n",
    "- Using Having clause, Group by clause, and In operator\n",
    "- Using With clause, Window functions, Case statement, Join, Union, Group_Concat, Format, and Aggregated functions"
   ]
  },
  {
   "cell_type": "markdown",
   "id": "7182f444-9a6b-4c4d-aeec-9a8af08c14c2",
   "metadata": {},
   "source": [
    "\n",
    "\n",
    "####  Purpose/Objective:\n",
    "\n",
    "The purpose of this project is to showcase proficiency in MySQL database management, data transformation, and analysis using real-world data from the Northwind Traders dataset. \n",
    "\n",
    "                                           "
   ]
  },
  {
   "cell_type": "markdown",
   "id": "18ba8881-d3e0-4fec-9459-34c5ad04fe67",
   "metadata": {},
   "source": [
    "###  Project Workflow\n",
    "The Northwind dataset obtained from Kaggle comprises seven CSV files. However, for this project, I focused on six of these files.<br> \n",
    "##### 1. Data Downloading:\n",
    "- Six CSV files were downloaded from the Kaggle dataset.<br>\n",
    "##### 2. Data Transformation in Excel:\n",
    "- Downloaded and processed six CSV files from the Northwind dataset in Microsoft Excel.<br>\n",
    "- Transformed columns to ensure data accuracy and relevance.<br>\n",
    "- Dropped unnecessary columns to streamline data before importation.<br>\n",
    "##### 3. Database Creation and Table Design in MySQL Workbench:\n",
    "- Created the Northwind database in MySQL Workbench.<br>\n",
    "- Designed six tables representing the dataset.<br>\n",
    "   - Categories\n",
    "   - Customers\n",
    "   - Employees\n",
    "   - OrderDetails\n",
    "   - Orders\n",
    "   - Products\n",
    "- Tables were designed with appropriate column names, data types, and constraints to accurately reflect the dataset structure.<br>"
   ]
  },
  {
   "cell_type": "markdown",
   "id": "6bcb73d3-e8e0-4e42-997a-97a26a2d971f",
   "metadata": {},
   "source": [
    "* The following query was used to create the **Northwind** Database and the **Six Tables** in MySQL workbench."
   ]
  },
  {
   "cell_type": "markdown",
   "id": "99d433ca-14df-4594-b6f9-1dca78d5a883",
   "metadata": {},
   "source": [
    "%%sql\n",
    "\n",
    "CREATE DATABASE IF NOT EXISTS Northwind;\n",
    "USE Northwind;\n",
    "\n",
    "\n",
    "CREATE TABLE Categories\n",
    "(      \n",
    "    CategoryID INT PRIMARY KEY AUTO_INCREMENT,\n",
    "    CategoryName VARCHAR(25),\n",
    "    Description VARCHAR(255)\n",
    ");\n",
    "\n",
    "CREATE TABLE Customers\n",
    "(      \n",
    "    CustomerID INT PRIMARY KEY AUTO_INCREMENT,\n",
    "    CustomerName VARCHAR(50),\n",
    "    City VARCHAR(30),\n",
    "    Country VARCHAR(30)\n",
    ");\n",
    "\n",
    "CREATE TABLE Employee\n",
    "(\n",
    "    EmployeeID INT PRIMARY KEY AUTO_INCREMENT,\n",
    "    employeeName VARCHAR(50),\n",
    "    Title VARCHAR(50),\n",
    "    City VARCHAR(30),\n",
    "    Country VARCHAR(30)\n",
    ");\n",
    "\n",
    "CREATE TABLE Shippers(\n",
    "    ShipperID INT PRIMARY KEY AUTO_INCREMENT,\n",
    "    ShipperName VARCHAR(25)\n",
    "\n",
    ");\n",
    "\n",
    "CREATE TABLE Products(\n",
    "    ProductID INT PRIMARY KEY AUTO_INCREMENT,\n",
    "    ProductName VARCHAR(50),\n",
    "    CategoryID INT,\n",
    "\tFOREIGN KEY (CategoryID) REFERENCES Categories (CategoryID)\n",
    "\t\n",
    ");\n",
    "\n",
    "CREATE TABLE Orders(\n",
    "    OrderID INT PRIMARY KEY AUTO_INCREMENT,\n",
    "    CustomerID INT,\n",
    "    EmployeeID INT,\n",
    "    OrderDate DATETIME,\n",
    "    ShipperID INT,\n",
    "    FOREIGN KEY (EmployeeID) REFERENCES Employee (EmployeeID),\n",
    "    FOREIGN KEY (CustomerID) REFERENCES Customers (CustomerID),\n",
    "    FOREIGN KEY (ShipperID) REFERENCES Shippers (ShipperID)\n",
    ");\n",
    "\n",
    "CREATE TABLE OrderDetails(\n",
    "    OrderDetailID INT PRIMARY KEY AUTO_INCREMENT,\n",
    "    OrderID INT,\n",
    "    ProductID INT,\n",
    "    unitPrice FLOAT,\n",
    "    Quantity INT,\n",
    "\tFOREIGN KEY (OrderID) REFERENCES Orders (OrderID),\n",
    "\tFOREIGN KEY (ProductID) REFERENCES Products (ProductID)"
   ]
  },
  {
   "cell_type": "markdown",
   "id": "a5aa714a-51f1-41b5-b6f2-00e738a63059",
   "metadata": {},
   "source": [
    "\n",
    "##### 4. Importing CSV Files into MySQL Database:**<br>\n",
    "   - Imported the transformed CSV files into the Northwind database using MySQL-Workbench.<br>\n",
    "   - Mapped CSV columns to MySQL table columns to ensure data integrity.<br>\n",
    "   - Resolved any importation challenges encountered during the process.<br>"
   ]
  },
  {
   "cell_type": "markdown",
   "id": "fabdc601-42ec-4323-b59f-aa601b69d038",
   "metadata": {},
   "source": [
    "\n",
    "##### 5. Data Retrieval and Analysis with Jupyter Notebook:\n",
    "   - Utilized Jupyter Notebook with Python libraries (pymysql, sqlalchemy) to connect to the MySQL database.<br>\n",
    "   - Executed complex SQL queries to retrieve and analyze data from the Northwind database.<br>\n",
    "   - Leveraged Jupyter Notebook magic commands to streamline query execution.<br>\n",
    "   - Applied data analysis techniques to derive insights and generate reports.<br>\n"
   ]
  },
  {
   "cell_type": "markdown",
   "id": "12a34a2c-2da2-4034-b217-206dc88af0cb",
   "metadata": {},
   "source": [
    "**Note:** <div style='text-align:justify;'>\n",
    " MySQL database tables along with their corresponding CSV files that are used for this data retrieval and analysis project are displayed here \n",
    "      so that it helps to understand the transformation process and the queries easily.</div>"
   ]
  },
  {
   "cell_type": "markdown",
   "id": "b8272f7e-2ce4-438d-b4c4-7c0828bd64e8",
   "metadata": {},
   "source": [
    "**Customers CSV file vs Customers Table**"
   ]
  },
  {
   "cell_type": "code",
   "execution_count": 1,
   "id": "2f6cc1aa-fe75-4f5c-81f6-1e932a89f1f0",
   "metadata": {},
   "outputs": [],
   "source": [
    "import pandas as pd"
   ]
  },
  {
   "cell_type": "code",
   "execution_count": 7,
   "id": "16e24d69-6fda-4b89-a750-dcc151effd53",
   "metadata": {},
   "outputs": [
    {
     "data": {
      "text/html": [
       "<div>\n",
       "<style scoped>\n",
       "    .dataframe tbody tr th:only-of-type {\n",
       "        vertical-align: middle;\n",
       "    }\n",
       "\n",
       "    .dataframe tbody tr th {\n",
       "        vertical-align: top;\n",
       "    }\n",
       "\n",
       "    .dataframe thead th {\n",
       "        text-align: right;\n",
       "    }\n",
       "</style>\n",
       "<table border=\"1\" class=\"dataframe\">\n",
       "  <thead>\n",
       "    <tr style=\"text-align: right;\">\n",
       "      <th></th>\n",
       "      <th>customerID</th>\n",
       "      <th>companyName</th>\n",
       "      <th>contactName</th>\n",
       "      <th>contactTitle</th>\n",
       "      <th>city</th>\n",
       "      <th>country</th>\n",
       "    </tr>\n",
       "  </thead>\n",
       "  <tbody>\n",
       "    <tr>\n",
       "      <th>0</th>\n",
       "      <td>ALFKI</td>\n",
       "      <td>Alfreds Futterkiste</td>\n",
       "      <td>Maria Anders</td>\n",
       "      <td>Sales Representative</td>\n",
       "      <td>Berlin</td>\n",
       "      <td>Germany</td>\n",
       "    </tr>\n",
       "    <tr>\n",
       "      <th>1</th>\n",
       "      <td>ANATR</td>\n",
       "      <td>Ana Trujillo Emparedados y helados</td>\n",
       "      <td>Ana Trujillo</td>\n",
       "      <td>Owner</td>\n",
       "      <td>Mexico City</td>\n",
       "      <td>Mexico</td>\n",
       "    </tr>\n",
       "  </tbody>\n",
       "</table>\n",
       "</div>"
      ],
      "text/plain": [
       "  customerID                         companyName   contactName  \\\n",
       "0      ALFKI                 Alfreds Futterkiste  Maria Anders   \n",
       "1      ANATR  Ana Trujillo Emparedados y helados  Ana Trujillo   \n",
       "\n",
       "           contactTitle         city  country  \n",
       "0  Sales Representative       Berlin  Germany  \n",
       "1                 Owner  Mexico City   Mexico  "
      ]
     },
     "execution_count": 7,
     "metadata": {},
     "output_type": "execute_result"
    }
   ],
   "source": [
    "Customers = pd.read_csv(r\"C:\\Users\\tinsu\\Desktop\\Northwind Traders\\customers.csv\", encoding='latin1')\n",
    "Customers.head(2)\n"
   ]
  },
  {
   "cell_type": "code",
   "execution_count": 8,
   "id": "0266019e-5953-4fd4-a54f-b047b2f73b56",
   "metadata": {},
   "outputs": [
    {
     "data": {
      "text/html": [
       "<table>\n",
       "    <thead>\n",
       "        <tr>\n",
       "            <th>CustomerID</th>\n",
       "            <th>CustomerName</th>\n",
       "            <th>City</th>\n",
       "            <th>Country</th>\n",
       "        </tr>\n",
       "    </thead>\n",
       "    <tbody>\n",
       "        <tr>\n",
       "            <td>1</td>\n",
       "            <td>Alfreds Futterkiste</td>\n",
       "            <td>Berlin</td>\n",
       "            <td>Germany</td>\n",
       "        </tr>\n",
       "        <tr>\n",
       "            <td>2</td>\n",
       "            <td>Ana Trujillo Emparedados y helados</td>\n",
       "            <td>Mexico City</td>\n",
       "            <td>Mexico</td>\n",
       "        </tr>\n",
       "    </tbody>\n",
       "</table>"
      ],
      "text/plain": [
       "+------------+------------------------------------+-------------+---------+\n",
       "| CustomerID |            CustomerName            |     City    | Country |\n",
       "+------------+------------------------------------+-------------+---------+\n",
       "|     1      |        Alfreds Futterkiste         |    Berlin   | Germany |\n",
       "|     2      | Ana Trujillo Emparedados y helados | Mexico City |  Mexico |\n",
       "+------------+------------------------------------+-------------+---------+"
      ]
     },
     "execution_count": 8,
     "metadata": {},
     "output_type": "execute_result"
    }
   ],
   "source": [
    "%%sql\n",
    "SELECT * FROM Customers\n",
    "LIMIT 2"
   ]
  },
  {
   "cell_type": "markdown",
   "id": "1379aedb-aea3-438a-9541-a72a359faca9",
   "metadata": {},
   "source": [
    "**Orders CSV file Vs Orders Table**"
   ]
  },
  {
   "cell_type": "code",
   "execution_count": 9,
   "id": "e5a3ae07-8fa9-4f1f-9295-81d18026c041",
   "metadata": {},
   "outputs": [
    {
     "data": {
      "text/html": [
       "<div>\n",
       "<style scoped>\n",
       "    .dataframe tbody tr th:only-of-type {\n",
       "        vertical-align: middle;\n",
       "    }\n",
       "\n",
       "    .dataframe tbody tr th {\n",
       "        vertical-align: top;\n",
       "    }\n",
       "\n",
       "    .dataframe thead th {\n",
       "        text-align: right;\n",
       "    }\n",
       "</style>\n",
       "<table border=\"1\" class=\"dataframe\">\n",
       "  <thead>\n",
       "    <tr style=\"text-align: right;\">\n",
       "      <th></th>\n",
       "      <th>orderID</th>\n",
       "      <th>customerID</th>\n",
       "      <th>employeeID</th>\n",
       "      <th>orderDate</th>\n",
       "      <th>requiredDate</th>\n",
       "      <th>shippedDate</th>\n",
       "      <th>shipperID</th>\n",
       "      <th>freight</th>\n",
       "    </tr>\n",
       "  </thead>\n",
       "  <tbody>\n",
       "    <tr>\n",
       "      <th>0</th>\n",
       "      <td>10248</td>\n",
       "      <td>VINET</td>\n",
       "      <td>5</td>\n",
       "      <td>2013-07-04</td>\n",
       "      <td>2013-08-01</td>\n",
       "      <td>2013-07-16</td>\n",
       "      <td>3</td>\n",
       "      <td>32.38</td>\n",
       "    </tr>\n",
       "    <tr>\n",
       "      <th>1</th>\n",
       "      <td>10249</td>\n",
       "      <td>TOMSP</td>\n",
       "      <td>6</td>\n",
       "      <td>2013-07-05</td>\n",
       "      <td>2013-08-16</td>\n",
       "      <td>2013-07-10</td>\n",
       "      <td>1</td>\n",
       "      <td>11.61</td>\n",
       "    </tr>\n",
       "  </tbody>\n",
       "</table>\n",
       "</div>"
      ],
      "text/plain": [
       "   orderID customerID  employeeID   orderDate requiredDate shippedDate  \\\n",
       "0    10248      VINET           5  2013-07-04   2013-08-01  2013-07-16   \n",
       "1    10249      TOMSP           6  2013-07-05   2013-08-16  2013-07-10   \n",
       "\n",
       "   shipperID  freight  \n",
       "0          3    32.38  \n",
       "1          1    11.61  "
      ]
     },
     "execution_count": 9,
     "metadata": {},
     "output_type": "execute_result"
    }
   ],
   "source": [
    "Orders = pd.read_csv(r\"C:\\Users\\tinsu\\Desktop\\Northwind Traders\\orders.csv\", encoding='latin1')\n",
    "Orders.head(2)"
   ]
  },
  {
   "cell_type": "code",
   "execution_count": 10,
   "id": "0f0b9087-f69a-4435-b91c-b44570bffc39",
   "metadata": {},
   "outputs": [
    {
     "data": {
      "text/html": [
       "<table>\n",
       "    <thead>\n",
       "        <tr>\n",
       "            <th>OrderID</th>\n",
       "            <th>CustomerID</th>\n",
       "            <th>EmployeeID</th>\n",
       "            <th>OrderDate</th>\n",
       "            <th>ShipperID</th>\n",
       "        </tr>\n",
       "    </thead>\n",
       "    <tbody>\n",
       "        <tr>\n",
       "            <td>10248</td>\n",
       "            <td>85</td>\n",
       "            <td>5</td>\n",
       "            <td>2013-07-04 00:00:00</td>\n",
       "            <td>3</td>\n",
       "        </tr>\n",
       "        <tr>\n",
       "            <td>10249</td>\n",
       "            <td>79</td>\n",
       "            <td>6</td>\n",
       "            <td>2013-07-05 00:00:00</td>\n",
       "            <td>1</td>\n",
       "        </tr>\n",
       "    </tbody>\n",
       "</table>"
      ],
      "text/plain": [
       "+---------+------------+------------+---------------------+-----------+\n",
       "| OrderID | CustomerID | EmployeeID |      OrderDate      | ShipperID |\n",
       "+---------+------------+------------+---------------------+-----------+\n",
       "|  10248  |     85     |     5      | 2013-07-04 00:00:00 |     3     |\n",
       "|  10249  |     79     |     6      | 2013-07-05 00:00:00 |     1     |\n",
       "+---------+------------+------------+---------------------+-----------+"
      ]
     },
     "execution_count": 10,
     "metadata": {},
     "output_type": "execute_result"
    }
   ],
   "source": [
    "%%sql\n",
    "SELECT * FROM Orders\n",
    "LIMIT 2"
   ]
  },
  {
   "cell_type": "markdown",
   "id": "2a28306c-32f6-42d8-b8cc-4e1af7d40e7b",
   "metadata": {},
   "source": [
    "**order_details CSV file vs OrdersDetails Table** "
   ]
  },
  {
   "cell_type": "code",
   "execution_count": 11,
   "id": "08819cbe-66ee-4dc2-bb99-7f788708cdd3",
   "metadata": {},
   "outputs": [
    {
     "data": {
      "text/html": [
       "<div>\n",
       "<style scoped>\n",
       "    .dataframe tbody tr th:only-of-type {\n",
       "        vertical-align: middle;\n",
       "    }\n",
       "\n",
       "    .dataframe tbody tr th {\n",
       "        vertical-align: top;\n",
       "    }\n",
       "\n",
       "    .dataframe thead th {\n",
       "        text-align: right;\n",
       "    }\n",
       "</style>\n",
       "<table border=\"1\" class=\"dataframe\">\n",
       "  <thead>\n",
       "    <tr style=\"text-align: right;\">\n",
       "      <th></th>\n",
       "      <th>orderID</th>\n",
       "      <th>productID</th>\n",
       "      <th>unitPrice</th>\n",
       "      <th>quantity</th>\n",
       "      <th>discount</th>\n",
       "    </tr>\n",
       "  </thead>\n",
       "  <tbody>\n",
       "    <tr>\n",
       "      <th>0</th>\n",
       "      <td>10248</td>\n",
       "      <td>11</td>\n",
       "      <td>14.0</td>\n",
       "      <td>12</td>\n",
       "      <td>0.0</td>\n",
       "    </tr>\n",
       "    <tr>\n",
       "      <th>1</th>\n",
       "      <td>10248</td>\n",
       "      <td>42</td>\n",
       "      <td>9.8</td>\n",
       "      <td>10</td>\n",
       "      <td>0.0</td>\n",
       "    </tr>\n",
       "  </tbody>\n",
       "</table>\n",
       "</div>"
      ],
      "text/plain": [
       "   orderID  productID  unitPrice  quantity  discount\n",
       "0    10248         11       14.0        12       0.0\n",
       "1    10248         42        9.8        10       0.0"
      ]
     },
     "execution_count": 11,
     "metadata": {},
     "output_type": "execute_result"
    }
   ],
   "source": [
    "Orderdetails = pd.read_csv(r\"C:\\Users\\tinsu\\Desktop\\Northwind Traders\\order_details.csv\", encoding='latin1')\n",
    "Orderdetails.head(2)"
   ]
  },
  {
   "cell_type": "code",
   "execution_count": 12,
   "id": "e8737e04-05f0-421c-9564-f0a7448ca6c3",
   "metadata": {},
   "outputs": [
    {
     "data": {
      "text/html": [
       "<table>\n",
       "    <thead>\n",
       "        <tr>\n",
       "            <th>OrderDetailID</th>\n",
       "            <th>OrderID</th>\n",
       "            <th>ProductID</th>\n",
       "            <th>unitPrice</th>\n",
       "            <th>Quantity</th>\n",
       "        </tr>\n",
       "    </thead>\n",
       "    <tbody>\n",
       "        <tr>\n",
       "            <td>1</td>\n",
       "            <td>10248</td>\n",
       "            <td>11</td>\n",
       "            <td>14.0</td>\n",
       "            <td>12</td>\n",
       "        </tr>\n",
       "        <tr>\n",
       "            <td>2</td>\n",
       "            <td>10248</td>\n",
       "            <td>42</td>\n",
       "            <td>9.8</td>\n",
       "            <td>10</td>\n",
       "        </tr>\n",
       "    </tbody>\n",
       "</table>"
      ],
      "text/plain": [
       "+---------------+---------+-----------+-----------+----------+\n",
       "| OrderDetailID | OrderID | ProductID | unitPrice | Quantity |\n",
       "+---------------+---------+-----------+-----------+----------+\n",
       "|       1       |  10248  |     11    |    14.0   |    12    |\n",
       "|       2       |  10248  |     42    |    9.8    |    10    |\n",
       "+---------------+---------+-----------+-----------+----------+"
      ]
     },
     "execution_count": 12,
     "metadata": {},
     "output_type": "execute_result"
    }
   ],
   "source": [
    "%%sql\n",
    "\n",
    "SELECT * FROM OrderDetails\n",
    "LIMIT 2"
   ]
  },
  {
   "cell_type": "markdown",
   "id": "777c3c07-ab3d-428a-a8d6-be014483d4b8",
   "metadata": {},
   "source": [
    "**products CSV file vs Products Table**"
   ]
  },
  {
   "cell_type": "code",
   "execution_count": 13,
   "id": "88fd5e59-611e-4b62-96fc-c989e8996492",
   "metadata": {},
   "outputs": [
    {
     "data": {
      "text/html": [
       "<div>\n",
       "<style scoped>\n",
       "    .dataframe tbody tr th:only-of-type {\n",
       "        vertical-align: middle;\n",
       "    }\n",
       "\n",
       "    .dataframe tbody tr th {\n",
       "        vertical-align: top;\n",
       "    }\n",
       "\n",
       "    .dataframe thead th {\n",
       "        text-align: right;\n",
       "    }\n",
       "</style>\n",
       "<table border=\"1\" class=\"dataframe\">\n",
       "  <thead>\n",
       "    <tr style=\"text-align: right;\">\n",
       "      <th></th>\n",
       "      <th>productID</th>\n",
       "      <th>productName</th>\n",
       "      <th>quantityPerUnit</th>\n",
       "      <th>unitPrice</th>\n",
       "      <th>discontinued</th>\n",
       "      <th>categoryID</th>\n",
       "    </tr>\n",
       "  </thead>\n",
       "  <tbody>\n",
       "    <tr>\n",
       "      <th>0</th>\n",
       "      <td>1</td>\n",
       "      <td>Chai</td>\n",
       "      <td>10 boxes x 20 bags</td>\n",
       "      <td>18.0</td>\n",
       "      <td>0</td>\n",
       "      <td>1</td>\n",
       "    </tr>\n",
       "    <tr>\n",
       "      <th>1</th>\n",
       "      <td>2</td>\n",
       "      <td>Chang</td>\n",
       "      <td>24 - 12 oz bottles</td>\n",
       "      <td>19.0</td>\n",
       "      <td>0</td>\n",
       "      <td>1</td>\n",
       "    </tr>\n",
       "  </tbody>\n",
       "</table>\n",
       "</div>"
      ],
      "text/plain": [
       "   productID productName     quantityPerUnit  unitPrice  discontinued  \\\n",
       "0          1        Chai  10 boxes x 20 bags       18.0             0   \n",
       "1          2       Chang  24 - 12 oz bottles       19.0             0   \n",
       "\n",
       "   categoryID  \n",
       "0           1  \n",
       "1           1  "
      ]
     },
     "execution_count": 13,
     "metadata": {},
     "output_type": "execute_result"
    }
   ],
   "source": [
    "Products = pd.read_csv(r\"C:\\Users\\tinsu\\Desktop\\Northwind Traders\\products.csv\", encoding='latin1')\n",
    "Products.head(2)"
   ]
  },
  {
   "cell_type": "code",
   "execution_count": 14,
   "id": "e174ecf7-d1ac-44f5-bf3e-2a69bd037216",
   "metadata": {},
   "outputs": [
    {
     "data": {
      "text/html": [
       "<table>\n",
       "    <thead>\n",
       "        <tr>\n",
       "            <th>ProductID</th>\n",
       "            <th>ProductName</th>\n",
       "            <th>CategoryID</th>\n",
       "        </tr>\n",
       "    </thead>\n",
       "    <tbody>\n",
       "        <tr>\n",
       "            <td>1</td>\n",
       "            <td>Chai</td>\n",
       "            <td>1</td>\n",
       "        </tr>\n",
       "        <tr>\n",
       "            <td>2</td>\n",
       "            <td>Chang</td>\n",
       "            <td>1</td>\n",
       "        </tr>\n",
       "    </tbody>\n",
       "</table>"
      ],
      "text/plain": [
       "+-----------+-------------+------------+\n",
       "| ProductID | ProductName | CategoryID |\n",
       "+-----------+-------------+------------+\n",
       "|     1     |     Chai    |     1      |\n",
       "|     2     |    Chang    |     1      |\n",
       "+-----------+-------------+------------+"
      ]
     },
     "execution_count": 14,
     "metadata": {},
     "output_type": "execute_result"
    }
   ],
   "source": [
    "%%sql\n",
    "SELECT * FROM Products\n",
    "LIMIT 2"
   ]
  },
  {
   "cell_type": "markdown",
   "id": "2a05d02d-43e4-4885-b964-c099374461cf",
   "metadata": {},
   "source": [
    "### SHOWCASES IN DATA RETRIEVING AND ANALYSIS"
   ]
  },
  {
   "cell_type": "markdown",
   "id": "df76e5cb-8423-4961-a21e-f087553e66d4",
   "metadata": {},
   "source": [
    " ##### 1. USING HAVING CLAUSE, GROUP BY CLAUSE, AND IN OPERATOR"
   ]
  },
  {
   "cell_type": "markdown",
   "id": "255356c3-015b-4ef8-89c5-ad6d5bac890e",
   "metadata": {},
   "source": [
    "Display countries that have more than 10 customers from the customer table."
   ]
  },
  {
   "cell_type": "code",
   "execution_count": 15,
   "id": "9e9b5e9d",
   "metadata": {},
   "outputs": [
    {
     "data": {
      "text/html": [
       "<table>\n",
       "    <thead>\n",
       "        <tr>\n",
       "            <th>Country</th>\n",
       "            <th>Number_Of_Customer</th>\n",
       "        </tr>\n",
       "    </thead>\n",
       "    <tbody>\n",
       "        <tr>\n",
       "            <td>USA</td>\n",
       "            <td>13</td>\n",
       "        </tr>\n",
       "        <tr>\n",
       "            <td>Germany</td>\n",
       "            <td>11</td>\n",
       "        </tr>\n",
       "        <tr>\n",
       "            <td>France</td>\n",
       "            <td>11</td>\n",
       "        </tr>\n",
       "    </tbody>\n",
       "</table>"
      ],
      "text/plain": [
       "+---------+--------------------+\n",
       "| Country | Number_Of_Customer |\n",
       "+---------+--------------------+\n",
       "|   USA   |         13         |\n",
       "| Germany |         11         |\n",
       "|  France |         11         |\n",
       "+---------+--------------------+"
      ]
     },
     "execution_count": 15,
     "metadata": {},
     "output_type": "execute_result"
    }
   ],
   "source": [
    "%%sql\n",
    " \n",
    "SELECT \n",
    "    Country,\n",
    "    COUNT(CustomerName) as Number_Of_Customer   \n",
    "FROM Customers\n",
    "GROUP BY Country\n",
    "HAVING COUNT(CustomerName) > 10\n",
    "ORDER BY COUNT(CustomerName) DESC \n",
    "\n",
    "\n"
   ]
  },
  {
   "cell_type": "markdown",
   "id": "9b9bb40a-50a7-4a6d-afa5-81c8eb414a88",
   "metadata": {},
   "source": [
    "Display cities along with their countries that have more than 3 customers from the customer table."
   ]
  },
  {
   "cell_type": "code",
   "execution_count": 16,
   "id": "253788b3",
   "metadata": {},
   "outputs": [
    {
     "data": {
      "text/html": [
       "<table>\n",
       "    <thead>\n",
       "        <tr>\n",
       "            <th>Country</th>\n",
       "            <th>City</th>\n",
       "            <th>Number_Of_customer</th>\n",
       "        </tr>\n",
       "    </thead>\n",
       "    <tbody>\n",
       "        <tr>\n",
       "            <td>UK</td>\n",
       "            <td>London</td>\n",
       "            <td>6</td>\n",
       "        </tr>\n",
       "        <tr>\n",
       "            <td>Mexico</td>\n",
       "            <td>Mexico City</td>\n",
       "            <td>5</td>\n",
       "        </tr>\n",
       "        <tr>\n",
       "            <td>Brazil</td>\n",
       "            <td>Sao Paulo</td>\n",
       "            <td>4</td>\n",
       "        </tr>\n",
       "    </tbody>\n",
       "</table>"
      ],
      "text/plain": [
       "+---------+-------------+--------------------+\n",
       "| Country |     City    | Number_Of_customer |\n",
       "+---------+-------------+--------------------+\n",
       "|    UK   |    London   |         6          |\n",
       "|  Mexico | Mexico City |         5          |\n",
       "|  Brazil |  Sao Paulo  |         4          |\n",
       "+---------+-------------+--------------------+"
      ]
     },
     "execution_count": 16,
     "metadata": {},
     "output_type": "execute_result"
    }
   ],
   "source": [
    "%%sql \n",
    "SELECT \n",
    "    Country,\n",
    "    City,\n",
    "    COUNT(CustomerName) as Number_Of_customer\n",
    "FROM Customers\n",
    "GROUP BY Country, City\n",
    "HAVING COUNT(CustomerName) > 3\n",
    "ORDER BY COUNT(CustomerName) DESC \n",
    "\n"
   ]
  },
  {
   "cell_type": "markdown",
   "id": "a75d9a35-e74c-4194-9b4a-ef8cf8e45507",
   "metadata": {},
   "source": [
    "Return distinct number of customers from 'USA', 'France', or 'UK'"
   ]
  },
  {
   "cell_type": "code",
   "execution_count": 17,
   "id": "63cf5d6c-1789-4e06-84f0-939e22711fa4",
   "metadata": {},
   "outputs": [
    {
     "data": {
      "text/html": [
       "<table>\n",
       "    <thead>\n",
       "        <tr>\n",
       "            <th>Country</th>\n",
       "            <th>Number_Of_Customers</th>\n",
       "        </tr>\n",
       "    </thead>\n",
       "    <tbody>\n",
       "        <tr>\n",
       "            <td>USA</td>\n",
       "            <td>13</td>\n",
       "        </tr>\n",
       "        <tr>\n",
       "            <td>France</td>\n",
       "            <td>11</td>\n",
       "        </tr>\n",
       "        <tr>\n",
       "            <td>UK</td>\n",
       "            <td>7</td>\n",
       "        </tr>\n",
       "    </tbody>\n",
       "</table>"
      ],
      "text/plain": [
       "+---------+---------------------+\n",
       "| Country | Number_Of_Customers |\n",
       "+---------+---------------------+\n",
       "|   USA   |          13         |\n",
       "|  France |          11         |\n",
       "|    UK   |          7          |\n",
       "+---------+---------------------+"
      ]
     },
     "execution_count": 17,
     "metadata": {},
     "output_type": "execute_result"
    }
   ],
   "source": [
    "%%sql\n",
    "SELECT \n",
    "    Country,\n",
    "    COUNT(DISTINCT CustomerName) AS Number_Of_Customers\n",
    "FROM Customers\n",
    "WHERE Country IN ('USA', 'France', 'UK')\n",
    "GROUP BY Country\n",
    "ORDER BY Number_Of_Customers DESC"
   ]
  },
  {
   "cell_type": "markdown",
   "id": "60570f93-b268-4546-b302-1e9a17e60554",
   "metadata": {},
   "source": [
    "Return countries with more than 3 distinct number of customers that are not from 'USA', 'France', or 'UK'"
   ]
  },
  {
   "cell_type": "code",
   "execution_count": 18,
   "id": "67daf89f-81d0-4aa8-966c-bb9831f850cd",
   "metadata": {},
   "outputs": [
    {
     "data": {
      "text/html": [
       "<table>\n",
       "    <thead>\n",
       "        <tr>\n",
       "            <th>Country</th>\n",
       "            <th>Number_Of_Customers</th>\n",
       "        </tr>\n",
       "    </thead>\n",
       "    <tbody>\n",
       "        <tr>\n",
       "            <td>Germany</td>\n",
       "            <td>11</td>\n",
       "        </tr>\n",
       "        <tr>\n",
       "            <td>Brazil</td>\n",
       "            <td>9</td>\n",
       "        </tr>\n",
       "        <tr>\n",
       "            <td>Mexico</td>\n",
       "            <td>5</td>\n",
       "        </tr>\n",
       "        <tr>\n",
       "            <td>Spain</td>\n",
       "            <td>5</td>\n",
       "        </tr>\n",
       "        <tr>\n",
       "            <td>Venezuela</td>\n",
       "            <td>4</td>\n",
       "        </tr>\n",
       "    </tbody>\n",
       "</table>"
      ],
      "text/plain": [
       "+-----------+---------------------+\n",
       "|  Country  | Number_Of_Customers |\n",
       "+-----------+---------------------+\n",
       "|  Germany  |          11         |\n",
       "|   Brazil  |          9          |\n",
       "|   Mexico  |          5          |\n",
       "|   Spain   |          5          |\n",
       "| Venezuela |          4          |\n",
       "+-----------+---------------------+"
      ]
     },
     "execution_count": 18,
     "metadata": {},
     "output_type": "execute_result"
    }
   ],
   "source": [
    "%%sql\n",
    "\n",
    "SELECT \n",
    "    Country,\n",
    "    COUNT(DISTINCT CustomerName) AS Number_Of_Customers  \n",
    "FROM Customers\n",
    "WHERE Country NOT IN ('USA', 'France', 'UK')\n",
    "GROUP BY Country\n",
    "HAVING Number_Of_Customers > 3\n",
    "ORDER BY Number_Of_Customers desc"
   ]
  },
  {
   "cell_type": "markdown",
   "id": "2b95b5bd-72f3-4249-8555-bf0b81bac239",
   "metadata": {},
   "source": [
    "### COMPLEX QUERIES"
   ]
  },
  {
   "cell_type": "markdown",
   "id": "9dfd9dde-51b3-4497-85b1-ea57c7515e91",
   "metadata": {},
   "source": [
    "##### 2.USING WITH CLAUSE, WINDOW FUNCTIONS, CASE STATEMENT, JOIN, UNION, GROUP_CONCAT, FORMAT, AND AGGREGATED FUNCTIONS."
   ]
  },
  {
   "cell_type": "markdown",
   "id": "cf75e0da-32ee-47e2-bb12-3729b570eba4",
   "metadata": {},
   "source": [
    "Fetch from first to third-ranked customers by orders in 2014 along with CustomeName, CustomerID, Number of Orders, and their dense_rank."
   ]
  },
  {
   "cell_type": "code",
   "execution_count": 19,
   "id": "67b679db-1ee1-40fa-bf1b-a674cc67133c",
   "metadata": {},
   "outputs": [
    {
     "data": {
      "text/html": [
       "<table>\n",
       "    <thead>\n",
       "        <tr>\n",
       "            <th>CustomerID</th>\n",
       "            <th>CustomerName</th>\n",
       "            <th>Top3_Order_2014</th>\n",
       "            <th>rn</th>\n",
       "        </tr>\n",
       "    </thead>\n",
       "    <tbody>\n",
       "        <tr>\n",
       "            <td>71</td>\n",
       "            <td>Save-a-lot Markets</td>\n",
       "            <td>17</td>\n",
       "            <td>1</td>\n",
       "        </tr>\n",
       "        <tr>\n",
       "            <td>20</td>\n",
       "            <td>Ernst Handel</td>\n",
       "            <td>15</td>\n",
       "            <td>2</td>\n",
       "        </tr>\n",
       "        <tr>\n",
       "            <td>37</td>\n",
       "            <td>Hungry Owl All-Night Grocers</td>\n",
       "            <td>15</td>\n",
       "            <td>2</td>\n",
       "        </tr>\n",
       "        <tr>\n",
       "            <td>63</td>\n",
       "            <td>QUICK-Stop</td>\n",
       "            <td>14</td>\n",
       "            <td>3</td>\n",
       "        </tr>\n",
       "    </tbody>\n",
       "</table>"
      ],
      "text/plain": [
       "+------------+------------------------------+-----------------+----+\n",
       "| CustomerID |         CustomerName         | Top3_Order_2014 | rn |\n",
       "+------------+------------------------------+-----------------+----+\n",
       "|     71     |      Save-a-lot Markets      |        17       | 1  |\n",
       "|     20     |         Ernst Handel         |        15       | 2  |\n",
       "|     37     | Hungry Owl All-Night Grocers |        15       | 2  |\n",
       "|     63     |          QUICK-Stop          |        14       | 3  |\n",
       "+------------+------------------------------+-----------------+----+"
      ]
     },
     "execution_count": 19,
     "metadata": {},
     "output_type": "execute_result"
    }
   ],
   "source": [
    "%%sql    \n",
    "WITH Customer_Order_Join AS(   \n",
    "    SELECT\n",
    "        CustomerID,\n",
    "        Order_2014 AS Top3_Order_2014,\n",
    "        rn\n",
    "    FROM(\n",
    "        WITH Order_Years AS\n",
    "             (\n",
    "            SELECT \n",
    "                CustomerID, \n",
    "                COUNT(CASE WHEN YEAR(OrderDate) = 2013 THEN OrderID END) AS Order_2013,\n",
    "                COUNT(CASE WHEN YEAR(OrderDate) = 2014 THEN OrderID END) AS Order_2014, \n",
    "                COUNT(CASE WHEN YEAR(OrderDate) = 2015 THEN OrderID END) AS Order_2015\n",
    "            FROM Orders  \n",
    "            GROUP BY CustomerID\n",
    "          )\n",
    "        SELECT \n",
    "            CustomerID, \n",
    "            Order_2014,\n",
    "            DENSE_RANK() OVER(ORDER BY Order_2014 DESC) AS rn   \n",
    "        FROM Order_Years\n",
    "      ) AS subquery\n",
    "    \n",
    "    WHERE rn <= 3\n",
    "            )\n",
    "SELECT \n",
    "    COJ.CustomerID,\n",
    "    CustomerName,\n",
    "    COJ.Top3_Order_2014,\n",
    "    rn\n",
    "FROM Customer_Order_Join COJ\n",
    "JOIN Customers C\n",
    "ON C.CustomerID = COJ.CustomerID"
   ]
  },
  {
   "cell_type": "markdown",
   "id": "876aa613-0c08-4456-8664-d74f66b1ae54",
   "metadata": {},
   "source": [
    "Fetch from first to second-ranked customers by orders in all years along with CustomerName, CustomerID, and Number of Orders."
   ]
  },
  {
   "cell_type": "code",
   "execution_count": 20,
   "id": "11ce2250-d649-4703-8619-9c794da42a56",
   "metadata": {},
   "outputs": [
    {
     "data": {
      "text/html": [
       "<table>\n",
       "    <thead>\n",
       "        <tr>\n",
       "            <th>CustomerID</th>\n",
       "            <th>CustomerName</th>\n",
       "            <th>Top2_Order_2013</th>\n",
       "            <th>Top2_Order_2014</th>\n",
       "            <th>Top2_Order_2015</th>\n",
       "        </tr>\n",
       "    </thead>\n",
       "    <tbody>\n",
       "        <tr>\n",
       "            <td>37</td>\n",
       "            <td>Hungry Owl All-Night Grocers</td>\n",
       "            <td>8</td>\n",
       "            <td></td>\n",
       "            <td></td>\n",
       "        </tr>\n",
       "        <tr>\n",
       "            <td>63</td>\n",
       "            <td>QUICK-Stop</td>\n",
       "            <td>6</td>\n",
       "            <td></td>\n",
       "            <td></td>\n",
       "        </tr>\n",
       "        <tr>\n",
       "            <td>20</td>\n",
       "            <td>Ernst Handel</td>\n",
       "            <td>6</td>\n",
       "            <td></td>\n",
       "            <td></td>\n",
       "        </tr>\n",
       "        <tr>\n",
       "            <td>65</td>\n",
       "            <td>Rattlesnake Canyon Grocery</td>\n",
       "            <td>6</td>\n",
       "            <td></td>\n",
       "            <td></td>\n",
       "        </tr>\n",
       "        <tr>\n",
       "            <td>71</td>\n",
       "            <td>Save-a-lot Markets</td>\n",
       "            <td></td>\n",
       "            <td>17</td>\n",
       "            <td></td>\n",
       "        </tr>\n",
       "        <tr>\n",
       "            <td>20</td>\n",
       "            <td>Ernst Handel</td>\n",
       "            <td></td>\n",
       "            <td>15</td>\n",
       "            <td></td>\n",
       "        </tr>\n",
       "        <tr>\n",
       "            <td>37</td>\n",
       "            <td>Hungry Owl All-Night Grocers</td>\n",
       "            <td></td>\n",
       "            <td>15</td>\n",
       "            <td></td>\n",
       "        </tr>\n",
       "        <tr>\n",
       "            <td>71</td>\n",
       "            <td>Save-a-lot Markets</td>\n",
       "            <td></td>\n",
       "            <td></td>\n",
       "            <td>11</td>\n",
       "        </tr>\n",
       "        <tr>\n",
       "            <td>24</td>\n",
       "            <td>Folk och f HB</td>\n",
       "            <td></td>\n",
       "            <td></td>\n",
       "            <td>9</td>\n",
       "        </tr>\n",
       "        <tr>\n",
       "            <td>20</td>\n",
       "            <td>Ernst Handel</td>\n",
       "            <td></td>\n",
       "            <td></td>\n",
       "            <td>9</td>\n",
       "        </tr>\n",
       "    </tbody>\n",
       "</table>\n",
       "<span style=\"font-style:italic;text-align:center;\">Truncated to <a href=\"https://jupysql.ploomber.io/en/latest/api/configuration.html#displaylimit\">displaylimit</a> of 10.</span>"
      ],
      "text/plain": [
       "+------------+------------------------------+-----------------+-----------------+-----------------+\n",
       "| CustomerID |         CustomerName         | Top2_Order_2013 | Top2_Order_2014 | Top2_Order_2015 |\n",
       "+------------+------------------------------+-----------------+-----------------+-----------------+\n",
       "|     37     | Hungry Owl All-Night Grocers |        8        |                 |                 |\n",
       "|     63     |          QUICK-Stop          |        6        |                 |                 |\n",
       "|     20     |         Ernst Handel         |        6        |                 |                 |\n",
       "|     65     |  Rattlesnake Canyon Grocery  |        6        |                 |                 |\n",
       "|     71     |      Save-a-lot Markets      |                 |        17       |                 |\n",
       "|     20     |         Ernst Handel         |                 |        15       |                 |\n",
       "|     37     | Hungry Owl All-Night Grocers |                 |        15       |                 |\n",
       "|     71     |      Save-a-lot Markets      |                 |                 |        11       |\n",
       "|     24     |        Folk och f HB         |                 |                 |        9        |\n",
       "|     20     |         Ernst Handel         |                 |                 |        9        |\n",
       "+------------+------------------------------+-----------------+-----------------+-----------------+\n",
       "Truncated to displaylimit of 10."
      ]
     },
     "execution_count": 20,
     "metadata": {},
     "output_type": "execute_result"
    }
   ],
   "source": [
    "%%sql\n",
    "WITH Customer_Order_Join AS(\n",
    "WITH Order_Years AS (\n",
    "    SELECT \n",
    "        CustomerID, \n",
    "        COUNT(CASE WHEN Year(OrderDate) = 2013 THEN OrderID END) AS Order_2013,\n",
    "        COUNT(CASE WHEN Year(OrderDate) = 2014 THEN OrderID END) AS Order_2014, \n",
    "        COUNT(CASE WHEN Year(OrderDate) = 2015 THEN OrderID END) AS Order_2015    \n",
    "    FROM Orders  \n",
    "    GROUP BY CustomerID\n",
    "),\n",
    "Order_2013 AS (\n",
    "    SELECT \n",
    "        CustomerID, \n",
    "        CASE WHEN Order_2013 THEN Order_2013 END AS Top2_Order_2013,\n",
    "        COALESCE('') AS Top2_Order_2014,\n",
    "        COALESCE('') AS Top2_Order_2015,\n",
    "        DENSE_RANK() OVER(ORDER BY Order_2013 DESC) AS RN\n",
    "    FROM Order_Years \n",
    "),\n",
    "\n",
    "Order_2014 AS (\n",
    "SELECT \n",
    "         CustomerID,    \n",
    "         COALESCE(\"\") AS Top2_Order_2013,\n",
    "         CASE WHEN Order_2014 THEN Order_2014 END AS Top2_Order_2014,\n",
    "         COALESCE(\"\") AS Top2_Order_2015,                 \n",
    "         DENSE_RANK() OVER(ORDER BY Order_2014 DESC) AS RN\n",
    "    FROM Order_Years \n",
    "),\n",
    "\n",
    "Order_2015 as(\n",
    "    SELECT \n",
    "         CustomerID,    \n",
    "         COALESCE(\"\") AS Top2_Order_2013,\n",
    "         COALESCE(\"\") AS Top2_Order_2014,\n",
    "         CASE WHEN Order_2015 THEN Order_2015 END AS Top2_Order_2015,                  \n",
    "         DENSE_RANK() OVER(ORDER BY Order_2015 DESC) AS RN\n",
    "    FROM Order_Years\n",
    ")\n",
    "\n",
    "SELECT * FROM Order_2013 WHERE RN <= 2\n",
    "UNION ALL\n",
    "SELECT * FROM Order_2014 WHERE RN <= 2\n",
    "UNION ALL\n",
    "SELECT * FROM Order_2015 WHERE RN <= 2\n",
    "\n",
    " )           \n",
    "SELECT \n",
    "    CUJ.CustomerID,\n",
    "    C.CustomerName, \n",
    "    CUJ.Top2_Order_2013,\n",
    "    CUJ.Top2_Order_2014,\n",
    "    CUJ.Top2_Order_2015\n",
    "FROM Customer_Order_Join CUJ \n",
    "JOIN Customers C \n",
    "ON CUJ. CustomerID = C.CustomerID\n"
   ]
  },
  {
   "cell_type": "markdown",
   "id": "29a36986-ac58-4a4d-8bbb-975525c774da",
   "metadata": {},
   "source": [
    "Display the number of orders shipped by each shipper."
   ]
  },
  {
   "cell_type": "code",
   "execution_count": 21,
   "id": "e3b61d5c-284b-4811-b93b-5c1ce82c929e",
   "metadata": {},
   "outputs": [
    {
     "data": {
      "text/html": [
       "<table>\n",
       "    <thead>\n",
       "        <tr>\n",
       "            <th>ShipperName</th>\n",
       "            <th>Number_of_Orders</th>\n",
       "        </tr>\n",
       "    </thead>\n",
       "    <tbody>\n",
       "        <tr>\n",
       "            <td>United Package</td>\n",
       "            <td>326</td>\n",
       "        </tr>\n",
       "        <tr>\n",
       "            <td>Federal Shipping</td>\n",
       "            <td>255</td>\n",
       "        </tr>\n",
       "        <tr>\n",
       "            <td>Speedy Express</td>\n",
       "            <td>249</td>\n",
       "        </tr>\n",
       "    </tbody>\n",
       "</table>"
      ],
      "text/plain": [
       "+------------------+------------------+\n",
       "|   ShipperName    | Number_of_Orders |\n",
       "+------------------+------------------+\n",
       "|  United Package  |       326        |\n",
       "| Federal Shipping |       255        |\n",
       "|  Speedy Express  |       249        |\n",
       "+------------------+------------------+"
      ]
     },
     "execution_count": 21,
     "metadata": {},
     "output_type": "execute_result"
    }
   ],
   "source": [
    "%%sql\n",
    "SELECT\n",
    "    ShipperName,\n",
    "    COUNT(OrderID) AS Number_of_Orders   \n",
    "FROM orders O\n",
    "JOIN shippers S\n",
    "ON O.ShipperID = S.shipperID\n",
    "GROUP BY ShipperName\n",
    "Order BY number_of_Orders DESC"
   ]
  },
  {
   "cell_type": "markdown",
   "id": "24c5e9b1-783d-40c6-8e2c-810147801c2a",
   "metadata": {},
   "source": [
    "Fetch the name of the employee/s who sold the highest number of orders. "
   ]
  },
  {
   "cell_type": "code",
   "execution_count": 22,
   "id": "c4b874a1-67ab-46bf-bbbb-7573e61450ae",
   "metadata": {},
   "outputs": [
    {
     "data": {
      "text/html": [
       "<table>\n",
       "    <thead>\n",
       "        <tr>\n",
       "            <th>EmployeeName</th>\n",
       "            <th>Number_of_Orders</th>\n",
       "        </tr>\n",
       "    </thead>\n",
       "    <tbody>\n",
       "        <tr>\n",
       "            <td>Margaret Peacock</td>\n",
       "            <td>156</td>\n",
       "        </tr>\n",
       "    </tbody>\n",
       "</table>"
      ],
      "text/plain": [
       "+------------------+------------------+\n",
       "|   EmployeeName   | Number_of_Orders |\n",
       "+------------------+------------------+\n",
       "| Margaret Peacock |       156        |\n",
       "+------------------+------------------+"
      ]
     },
     "execution_count": 22,
     "metadata": {},
     "output_type": "execute_result"
    }
   ],
   "source": [
    "%%sql\n",
    " WITH Employee_Orders AS (  \n",
    "   \n",
    "    SELECT\n",
    "        EmployeeName,\n",
    "        COUNT(OrderID) As Number_of_Orders\n",
    "    FROM employee E\n",
    "    JOIN orders O\n",
    "    ON E.EmployeeID = O.EmployeeID\n",
    "    GROUP BY EmployeeName\n",
    "     )\n",
    "SELECT *\n",
    "FROM Employee_Orders\n",
    "WHERE Number_of_Orders = (SELECT Max(Number_of_Orders) FROM Employee_Orders )"
   ]
  },
  {
   "cell_type": "markdown",
   "id": "c3b386c4-6017-4370-a88a-7c272d2806cb",
   "metadata": {},
   "source": [
    "Fetch the highest-sold product by quantity."
   ]
  },
  {
   "cell_type": "code",
   "execution_count": 23,
   "id": "171d0e57",
   "metadata": {
    "scrolled": true
   },
   "outputs": [
    {
     "data": {
      "text/html": [
       "<table>\n",
       "    <thead>\n",
       "        <tr>\n",
       "            <th>ProductName</th>\n",
       "            <th>Max_Total_Quantity</th>\n",
       "        </tr>\n",
       "    </thead>\n",
       "    <tbody>\n",
       "        <tr>\n",
       "            <td>Camembert Pierrot</td>\n",
       "            <td>1,577</td>\n",
       "        </tr>\n",
       "    </tbody>\n",
       "</table>"
      ],
      "text/plain": [
       "+-------------------+--------------------+\n",
       "|    ProductName    | Max_Total_Quantity |\n",
       "+-------------------+--------------------+\n",
       "| Camembert Pierrot |       1,577        |\n",
       "+-------------------+--------------------+"
      ]
     },
     "execution_count": 23,
     "metadata": {},
     "output_type": "execute_result"
    }
   ],
   "source": [
    "%%sql\n",
    "SELECT \n",
    "    PrOductName, \n",
    "    FORMAT(Max_Total_Quantity, 0) as Max_Total_Quantity\n",
    "FROM(\n",
    "    WITH Max_Total_Quantity AS (\n",
    "        SELECT \n",
    "            O.ProductID, \n",
    "            SUM(O.Quantity) AS Total_Quantity, \n",
    "            ProductName \n",
    "        FROM orderdetails O\n",
    "        JOIN products P \n",
    "        ON O.ProductID = P.ProductID\n",
    "        GROUP BY O.ProductID, ProductName\n",
    "    )\n",
    "    SELECT \n",
    "        ProductName,\n",
    "        Total_Quantity AS Max_Total_Quantity\n",
    "    FROM Max_Total_Quantity\n",
    "    WHERE Total_Quantity = (SELECT MAX(Total_Quantity) FROM Max_Total_Quantity)\n",
    "\n",
    ") AS Product_max_Total_Quantity \n",
    "               \n",
    "           "
   ]
  },
  {
   "cell_type": "markdown",
   "id": "69b71754-f4e1-4aa5-9c19-fe9acc27a990",
   "metadata": {},
   "source": [
    "Fetch the highest-sold category by quantity."
   ]
  },
  {
   "cell_type": "code",
   "execution_count": 24,
   "id": "f2f3291d",
   "metadata": {},
   "outputs": [
    {
     "data": {
      "text/html": [
       "<table>\n",
       "    <thead>\n",
       "        <tr>\n",
       "            <th>CategoryID</th>\n",
       "            <th>CategoryName</th>\n",
       "            <th>Total_Quantity_By_Category</th>\n",
       "        </tr>\n",
       "    </thead>\n",
       "    <tbody>\n",
       "        <tr>\n",
       "            <td>1</td>\n",
       "            <td>Beverages</td>\n",
       "            <td>9,532</td>\n",
       "        </tr>\n",
       "    </tbody>\n",
       "</table>"
      ],
      "text/plain": [
       "+------------+--------------+----------------------------+\n",
       "| CategoryID | CategoryName | Total_Quantity_By_Category |\n",
       "+------------+--------------+----------------------------+\n",
       "|     1      |  Beverages   |           9,532            |\n",
       "+------------+--------------+----------------------------+"
      ]
     },
     "execution_count": 24,
     "metadata": {},
     "output_type": "execute_result"
    }
   ],
   "source": [
    "%%sql\n",
    "\n",
    "\n",
    "SELECT\n",
    "    CategoryID,\n",
    "    CategoryName,\n",
    "    FORMAT(Total_Quantity_By_category, 0) AS Total_Quantity_By_Category\n",
    "FROM(\n",
    "    WITH Max_Sold_Category AS ( \n",
    "        SELECT\n",
    "            C.CategoryID,\n",
    "            CategoryName,\n",
    "            SUM(Quantity)  AS Total_Quantity_By_Category\n",
    "        FROM categories C\n",
    "        JOIN products p\n",
    "        ON C.CategoryID = P.CategoryID\n",
    "        JOIN orderdetails O\n",
    "        ON P.ProductID = O.ProductID\n",
    "        GROUP BY C.CategoryID, CategoryName\n",
    "    \n",
    "    ) \n",
    "    SELECT *\n",
    "    FROM Max_Sold_Category\n",
    "    WHERE Total_Quantity_By_Category = (\n",
    "                                        SELECT\n",
    "                                            MAX(Total_Quantity_By_Category) AS Max_Total_Quantity_By_Category \n",
    "                                        FROM Max_Sold_Category\n",
    "                                        )\n",
    ")AS Total_Quantity\n",
    "\n",
    "\n",
    "        "
   ]
  },
  {
   "cell_type": "markdown",
   "id": "8ad5b5da",
   "metadata": {},
   "source": [
    "Fetch the top 5 products by total average sales."
   ]
  },
  {
   "cell_type": "code",
   "execution_count": 25,
   "id": "0f001296",
   "metadata": {},
   "outputs": [
    {
     "data": {
      "text/html": [
       "<table>\n",
       "    <thead>\n",
       "        <tr>\n",
       "            <th>ProductName</th>\n",
       "            <th>Total_Quantity</th>\n",
       "            <th>Average_Unit_Price</th>\n",
       "            <th>Total_Sales</th>\n",
       "        </tr>\n",
       "    </thead>\n",
       "    <tbody>\n",
       "        <tr>\n",
       "            <td>Côte de Blaye</td>\n",
       "            <td>623</td>\n",
       "            <td>246.33</td>\n",
       "            <td>153,465.67</td>\n",
       "        </tr>\n",
       "        <tr>\n",
       "            <td>Thüringer Rostbratwurst</td>\n",
       "            <td>746</td>\n",
       "            <td>116.19</td>\n",
       "            <td>86,675.88</td>\n",
       "        </tr>\n",
       "        <tr>\n",
       "            <td>Raclette Courdavault</td>\n",
       "            <td>1496</td>\n",
       "            <td>51.13</td>\n",
       "            <td>76,489.93</td>\n",
       "        </tr>\n",
       "        <tr>\n",
       "            <td>Camembert Pierrot</td>\n",
       "            <td>1577</td>\n",
       "            <td>32.08</td>\n",
       "            <td>50,587.69</td>\n",
       "        </tr>\n",
       "        <tr>\n",
       "            <td>Tarte au sucre</td>\n",
       "            <td>1083</td>\n",
       "            <td>46.08</td>\n",
       "            <td>49,908.25</td>\n",
       "        </tr>\n",
       "    </tbody>\n",
       "</table>"
      ],
      "text/plain": [
       "+-------------------------+----------------+--------------------+-------------+\n",
       "|       ProductName       | Total_Quantity | Average_Unit_Price | Total_Sales |\n",
       "+-------------------------+----------------+--------------------+-------------+\n",
       "|      Côte de Blaye      |      623       |       246.33       |  153,465.67 |\n",
       "| Thüringer Rostbratwurst |      746       |       116.19       |  86,675.88  |\n",
       "|   Raclette Courdavault  |      1496      |       51.13        |  76,489.93  |\n",
       "|    Camembert Pierrot    |      1577      |       32.08        |  50,587.69  |\n",
       "|      Tarte au sucre     |      1083      |       46.08        |  49,908.25  |\n",
       "+-------------------------+----------------+--------------------+-------------+"
      ]
     },
     "execution_count": 25,
     "metadata": {},
     "output_type": "execute_result"
    }
   ],
   "source": [
    "%%sql\n",
    "       \n",
    "SELECT\n",
    "    ProductName,\n",
    "    Total_Quantity,\n",
    "    FORMAT(Average_Unit_Price, 2) AS Average_Unit_Price,\n",
    "    FORMAT(Total_Sales, 2) AS Total_Sales\n",
    "FROM(  \n",
    "    SELECT *\n",
    "    \n",
    "    FROM(\n",
    "        WITH Products_Total_Sales AS(\n",
    "            SELECT \n",
    "                ProductName,\n",
    "                SUM(Quantity) AS Total_Quantity,\n",
    "                AVG(unitPrice) AS Average_Unit_Price  \n",
    "            FROM products P\n",
    "            JOIN orderdetails O\n",
    "            ON P.ProductID = O.ProductID\n",
    "            GROUP BY ProductName\n",
    "        )\n",
    "        SELECT * ,\n",
    "        \n",
    "            Total_Quantity * Average_Unit_Price AS Total_Sales\n",
    "        FROM Products_Total_Sales\n",
    "    ) AS Total_Sales\n",
    "ORDER BY Total_Sales DESC\n",
    "LIMIT 5\n",
    ") AS Top5_Total_Sales\n"
   ]
  },
  {
   "cell_type": "markdown",
   "id": "2eb781cc-1317-459e-8c27-cebccb0efa11",
   "metadata": {},
   "source": [
    "Fetch each category's total sold quantity and total average sales."
   ]
  },
  {
   "cell_type": "code",
   "execution_count": 26,
   "id": "3109b965",
   "metadata": {},
   "outputs": [
    {
     "data": {
      "text/html": [
       "<table>\n",
       "    <thead>\n",
       "        <tr>\n",
       "            <th>CategoryID</th>\n",
       "            <th>CategoryName</th>\n",
       "            <th>Total_Quantity_By_Category</th>\n",
       "            <th>Total_Average_Sales_By_Category</th>\n",
       "        </tr>\n",
       "    </thead>\n",
       "    <tbody>\n",
       "        <tr>\n",
       "            <td>1</td>\n",
       "            <td>Beverages</td>\n",
       "            <td>9,532</td>\n",
       "            <td>290,587.22</td>\n",
       "        </tr>\n",
       "        <tr>\n",
       "            <td>4</td>\n",
       "            <td>Dairy Products</td>\n",
       "            <td>9,149</td>\n",
       "            <td>252,580.26</td>\n",
       "        </tr>\n",
       "        <tr>\n",
       "            <td>6</td>\n",
       "            <td>Meat & Poultry</td>\n",
       "            <td>4,199</td>\n",
       "            <td>178,076.18</td>\n",
       "        </tr>\n",
       "        <tr>\n",
       "            <td>3</td>\n",
       "            <td>Confections</td>\n",
       "            <td>7,906</td>\n",
       "            <td>177,490.79</td>\n",
       "        </tr>\n",
       "        <tr>\n",
       "            <td>8</td>\n",
       "            <td>Seafood</td>\n",
       "            <td>7,681</td>\n",
       "            <td>142,050.59</td>\n",
       "        </tr>\n",
       "        <tr>\n",
       "            <td>2</td>\n",
       "            <td>Condiments</td>\n",
       "            <td>5,298</td>\n",
       "            <td>115,527.66</td>\n",
       "        </tr>\n",
       "        <tr>\n",
       "            <td>7</td>\n",
       "            <td>Produce</td>\n",
       "            <td>2,990</td>\n",
       "            <td>105,121.63</td>\n",
       "        </tr>\n",
       "        <tr>\n",
       "            <td>5</td>\n",
       "            <td>Grains & Cereals</td>\n",
       "            <td>4,562</td>\n",
       "            <td>100,084.27</td>\n",
       "        </tr>\n",
       "    </tbody>\n",
       "</table>"
      ],
      "text/plain": [
       "+------------+------------------+----------------------------+---------------------------------+\n",
       "| CategoryID |   CategoryName   | Total_Quantity_By_Category | Total_Average_Sales_By_Category |\n",
       "+------------+------------------+----------------------------+---------------------------------+\n",
       "|     1      |    Beverages     |           9,532            |            290,587.22           |\n",
       "|     4      |  Dairy Products  |           9,149            |            252,580.26           |\n",
       "|     6      |  Meat & Poultry  |           4,199            |            178,076.18           |\n",
       "|     3      |   Confections    |           7,906            |            177,490.79           |\n",
       "|     8      |     Seafood      |           7,681            |            142,050.59           |\n",
       "|     2      |    Condiments    |           5,298            |            115,527.66           |\n",
       "|     7      |     Produce      |           2,990            |            105,121.63           |\n",
       "|     5      | Grains & Cereals |           4,562            |            100,084.27           |\n",
       "+------------+------------------+----------------------------+---------------------------------+"
      ]
     },
     "execution_count": 26,
     "metadata": {},
     "output_type": "execute_result"
    }
   ],
   "source": [
    "%%sql\n",
    "\n",
    "\n",
    "\n",
    "\n",
    "SELECT\n",
    "    CategoryID, \n",
    "    CategoryName,\n",
    "    FORMAT(Total_Quantity, 0) AS Total_Quantity_By_Category,\n",
    "    FORMAT(Total_Average_Sales, 2) AS Total_Average_Sales_By_Category\n",
    "FROM(\n",
    "    WITH Total_Average_Sales as (    \n",
    "        SELECT *\n",
    "        \n",
    "        FROM(\n",
    "            WITH Products_Total_Sales AS(\n",
    "                SELECT \n",
    "                    ProductName,\n",
    "                    SUM(Quantity) AS Total_Quantity,\n",
    "                    AVG(unitPrice) AS Average_Unit_Price  \n",
    "                FROM products P\n",
    "                JOIN orderdetails O\n",
    "                ON P.ProductID = O.ProductID\n",
    "                GROUP BY ProductName\n",
    "                                 )\n",
    "            SELECT * ,\n",
    "                Total_Quantity * Average_Unit_Price AS Total_Sales\n",
    "            FROM Products_Total_Sales \n",
    "           )  AS PTS\n",
    "    \n",
    "                     ) \n",
    "    SELECT \n",
    "        C.CategoryID, \n",
    "        CategoryName, \n",
    "        SUM(Total_Quantity) AS Total_Quantity,\n",
    "        SUM(Total_Sales) AS Total_Average_Sales            \n",
    "    FROM Total_Average_Sales  TAS                \n",
    "    JOIN products P\n",
    "    ON P.ProductName = TAS.ProductName\n",
    "    JOIN categories C\n",
    "    ON P.categoryID = C.categoryID\n",
    "    GROUP BY CategoryName, CategoryID\n",
    "    ORDER BY Total_Average_Sales DESC\n",
    "   ) AS TAS;\n",
    "  \n",
    "               "
   ]
  },
  {
   "cell_type": "markdown",
   "id": "15cddf51-59fb-4a41-8777-666437dcbcaa",
   "metadata": {},
   "source": [
    "Fetch the first three highest-sold products in each category along with their CategoryID, CategoryName, and ProductName. "
   ]
  },
  {
   "cell_type": "code",
   "execution_count": 27,
   "id": "2c6f4025",
   "metadata": {},
   "outputs": [
    {
     "data": {
      "text/html": [
       "<table>\n",
       "    <thead>\n",
       "        <tr>\n",
       "            <th>CategoryID</th>\n",
       "            <th>CategoryName</th>\n",
       "            <th>ProductName</th>\n",
       "        </tr>\n",
       "    </thead>\n",
       "    <tbody>\n",
       "        <tr>\n",
       "            <td>1</td>\n",
       "            <td>Beverages</td>\n",
       "            <td>Côte de Blaye,Ipoh Coffee,Chang</td>\n",
       "        </tr>\n",
       "        <tr>\n",
       "            <td>2</td>\n",
       "            <td>Condiments</td>\n",
       "            <td>Vegie-spread,Sirop d'érable,Louisiana Fiery Hot Pepper Sauce</td>\n",
       "        </tr>\n",
       "        <tr>\n",
       "            <td>3</td>\n",
       "            <td>Confections</td>\n",
       "            <td>Tarte au sucre,Sir Rodney's Marmalade,Gumbär Gummibärchen</td>\n",
       "        </tr>\n",
       "        <tr>\n",
       "            <td>4</td>\n",
       "            <td>Dairy Products</td>\n",
       "            <td>Raclette Courdavault,Camembert Pierrot,Mozzarella di Giovanni</td>\n",
       "        </tr>\n",
       "        <tr>\n",
       "            <td>5</td>\n",
       "            <td>Grains & Cereals</td>\n",
       "            <td>Gnocchi di nonna Alice,Wimmers gute Semmelknödel,Singaporean Hokkien Fried Mee</td>\n",
       "        </tr>\n",
       "        <tr>\n",
       "            <td>6</td>\n",
       "            <td>Meat & Poultry</td>\n",
       "            <td>Thüringer Rostbratwurst,Alice Mutton,Perth Pasties</td>\n",
       "        </tr>\n",
       "        <tr>\n",
       "            <td>7</td>\n",
       "            <td>Produce</td>\n",
       "            <td>Manjimup Dried Apples,Rössle Sauerkraut,Uncle Bob's Organic Dried Pears</td>\n",
       "        </tr>\n",
       "        <tr>\n",
       "            <td>8</td>\n",
       "            <td>Seafood</td>\n",
       "            <td>Carnarvon Tigers,Ikura,Boston Crab Meat</td>\n",
       "        </tr>\n",
       "    </tbody>\n",
       "</table>"
      ],
      "text/plain": [
       "+------------+------------------+--------------------------------------------------------------------------------+\n",
       "| CategoryID |   CategoryName   |                                  ProductName                                   |\n",
       "+------------+------------------+--------------------------------------------------------------------------------+\n",
       "|     1      |    Beverages     |                        Côte de Blaye,Ipoh Coffee,Chang                         |\n",
       "|     2      |    Condiments    |          Vegie-spread,Sirop d'érable,Louisiana Fiery Hot Pepper Sauce          |\n",
       "|     3      |   Confections    |           Tarte au sucre,Sir Rodney's Marmalade,Gumbär Gummibärchen            |\n",
       "|     4      |  Dairy Products  |         Raclette Courdavault,Camembert Pierrot,Mozzarella di Giovanni          |\n",
       "|     5      | Grains & Cereals | Gnocchi di nonna Alice,Wimmers gute Semmelknödel,Singaporean Hokkien Fried Mee |\n",
       "|     6      |  Meat & Poultry  |               Thüringer Rostbratwurst,Alice Mutton,Perth Pasties               |\n",
       "|     7      |     Produce      |    Manjimup Dried Apples,Rössle Sauerkraut,Uncle Bob's Organic Dried Pears     |\n",
       "|     8      |     Seafood      |                    Carnarvon Tigers,Ikura,Boston Crab Meat                     |\n",
       "+------------+------------------+--------------------------------------------------------------------------------+"
      ]
     },
     "execution_count": 27,
     "metadata": {},
     "output_type": "execute_result"
    }
   ],
   "source": [
    "%%sql\n",
    "\n",
    "SELECT \n",
    "    CategoryID,\n",
    "    CategoryName,\n",
    "    GROUP_CONCAT(ProductName) AS ProductName\n",
    "FROM (\n",
    "    WITH Total_Average_Sales as (         \n",
    "        SELECT * \n",
    "        FROM(       \n",
    "            WITH Products_Total_Sales AS( \n",
    "                SELECT \n",
    "                    ProductName,\n",
    "                    SUM(Quantity) AS Total_Quantity,             \n",
    "                    AVG(unitPrice) AS Average_Unit_Price\n",
    "                FROM products P            \n",
    "                JOIN orderdetails O \n",
    "                ON P.ProductID = O.ProductID \n",
    "                GROUP BY ProductName \n",
    "                                  ) \n",
    "            SELECT * ,  \n",
    "            Total_Quantity * Average_Unit_Price AS Total_Sales\n",
    "            FROM Products_Total_Sales \n",
    "         ) AS PTS                 \n",
    "    )           \n",
    "    \n",
    "    SELECT          \n",
    "        C.CategoryID,\n",
    "        CategoryName, \n",
    "        P.ProductName, \n",
    "        Total_Sales ,    \n",
    "        ROW_NUMBER() OVER(PARTITION BY CategoryName ORDER BY Total_Sales DESC) AS RN   \n",
    "    FROM Total_Average_Sales  TAS \n",
    "    JOIN products P   \n",
    "    ON P.ProductName = TAS.ProductName   \n",
    "    JOIN categories C   \n",
    "    ON P.categoryID = C.categoryID\n",
    ") AS RN_TAS\n",
    "WHERE RN <= 3\n",
    "GROUP BY CategoryID, CategoryName\n"
   ]
  },
  {
   "cell_type": "code",
   "execution_count": null,
   "id": "59b41312-9974-49d4-9a8b-bcd533021495",
   "metadata": {},
   "outputs": [],
   "source": []
  }
 ],
 "metadata": {
  "kernelspec": {
   "display_name": "Python 3 (ipykernel)",
   "language": "python",
   "name": "python3"
  },
  "language_info": {
   "codemirror_mode": {
    "name": "ipython",
    "version": 3
   },
   "file_extension": ".py",
   "mimetype": "text/x-python",
   "name": "python",
   "nbconvert_exporter": "python",
   "pygments_lexer": "ipython3",
   "version": "3.11.7"
  }
 },
 "nbformat": 4,
 "nbformat_minor": 5
}
